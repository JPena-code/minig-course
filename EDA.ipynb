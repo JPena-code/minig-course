{
 "cells": [
  {
   "cell_type": "markdown",
   "metadata": {},
   "source": [
    "# Import Modules\n",
    "This section imports the required modules and prepare the raw content of the file in the desired\n",
    "data type for performance"
   ]
  },
  {
   "cell_type": "code",
   "execution_count": 214,
   "metadata": {
    "tags": []
   },
   "outputs": [],
   "source": [
    "import re\n",
    "import pycountry\n",
    "import numpy as np\n",
    "import pandas as pd\n",
    "import matplotlib.pyplot as plt\n",
    "import seaborn as sns\n",
    "import plotly\n",
    "import plotly.express as px\n",
    "\n",
    "#!pip install --quiet pycountry_convert\n",
    "from pycountry_convert import country_alpha2_to_country_name, country_name_to_country_alpha3\n",
    "from zipfile import ZipFile\n",
    "from wordcloud import WordCloud\n",
    "from pandas.api.types import CategoricalDtype\n",
    "from sklearn.cluster import KMeans\n",
    "from sklearn.preprocessing import LabelEncoder\n",
    "import matplotlib.pyplot as plt\n",
    "from sklearn.impute import SimpleImputer"
   ]
  },
  {
   "cell_type": "code",
   "execution_count": 215,
   "metadata": {},
   "outputs": [],
   "source": [
    "#!pip install nbformat"
   ]
  },
  {
   "cell_type": "code",
   "execution_count": 216,
   "metadata": {},
   "outputs": [],
   "source": [
    "def get_alpha3(col):\n",
    "    try:\n",
    "        iso_3 =  country_name_to_country_alpha3(col)\n",
    "    except:\n",
    "        iso_3 = 'Unknown'\n",
    "    return iso_3\n",
    "\n",
    "def get_name(col):\n",
    "    try:\n",
    "        name =  country_alpha2_to_country_name(col)\n",
    "    except:\n",
    "        name = 'Unknown'\n",
    "    return name"
   ]
  },
  {
   "cell_type": "markdown",
   "metadata": {},
   "source": [
    "### Read file"
   ]
  },
  {
   "cell_type": "code",
   "execution_count": 217,
   "metadata": {},
   "outputs": [],
   "source": [
    "# Read csv file ziped\n",
    "zip_path = './data/human-trafficking-victims-dataset-ctdc.zip'\n",
    "data_file = None\n",
    "raw_data = None\n",
    "with ZipFile(zip_path) as zip_file:\n",
    "    for commpresed in zip_file.filelist:\n",
    "        if commpresed.filename.endswith('csv'):\n",
    "            with zip_file.open(commpresed) as data_file:\n",
    "                raw_data = pd.read_csv(\n",
    "                    data_file,\n",
    "                    sep=';',\n",
    "                    header=0,\n",
    "                    low_memory=False,\n",
    "                    usecols=range(1,64),)"
   ]
  },
  {
   "cell_type": "markdown",
   "metadata": {},
   "source": [
    "### Data type conversion"
   ]
  },
  {
   "cell_type": "code",
   "execution_count": 218,
   "metadata": {},
   "outputs": [],
   "source": [
    "# Setting values of categorical attribute\n",
    "# for performnce at processing time\n",
    "# Age numerical categories\n",
    "age_range = [\n",
    "    '0--8',\n",
    "    '9--17',\n",
    "    '18--20',\n",
    "    '21--23',\n",
    "    '24--26',\n",
    "    '27--29',\n",
    "    '30--38',\n",
    "    '39--47',\n",
    "    '48+'\n",
    "]\n",
    "# Gender categories\n",
    "gender_values = [\n",
    "    'Male',\n",
    "    'Female',\n",
    "    'Transgender/NonConforming',\n",
    "]\n",
    "# Age status categories\n",
    "age_cate = [\n",
    "    'Adult',\n",
    "    'Minor',\n",
    "]\n",
    "# Data recorders categories\n",
    "data_source = [\n",
    "    'Case Management',\n",
    "    'Hotline'\n",
    "]\n",
    "# Categorical pandas objects\n",
    "age_cat_range = CategoricalDtype(categories=age_range, ordered=True)\n",
    "gender_cat = CategoricalDtype(categories=gender_values, ordered=False)\n",
    "age_cat = CategoricalDtype(categories=age_cate, ordered=True)\n",
    "data_cat_source = CategoricalDtype(categories=data_source, ordered=False)"
   ]
  },
  {
   "cell_type": "code",
   "execution_count": 219,
   "metadata": {},
   "outputs": [],
   "source": [
    "# Convert all values read as float due to NaN\n",
    "raw_data = raw_data.apply(lambda serie: serie.astype('Int32', errors='ignore'))\n",
    "# Converto to categorical types\n",
    "raw_data['Datasource'] = raw_data['Datasource'].astype(data_cat_source)\n",
    "raw_data['gender'] = raw_data['gender'].astype(gender_cat)\n",
    "raw_data['ageBroad'] = raw_data['ageBroad'].astype(age_cat_range)\n",
    "raw_data['citizenship'] = raw_data['citizenship'].astype(\"category\")\n",
    "raw_data['yearOfRegistration'] = raw_data['yearOfRegistration'].astype(\"category\")\n",
    "raw_data['CountryOfExploitation'] = raw_data['CountryOfExploitation'].astype(\"category\")\n",
    "\n",
    "columns_age_cat = ['majorityStatus', 'majorityStatusAtExploit', 'majorityEntry']\n",
    "raw_data[columns_age_cat] = raw_data[columns_age_cat].astype(age_cat)"
   ]
  },
  {
   "cell_type": "markdown",
   "metadata": {},
   "source": [
    "### Dimensionality reduction"
   ]
  },
  {
   "cell_type": "code",
   "execution_count": 220,
   "metadata": {},
   "outputs": [],
   "source": [
    "# Tomamos las variables cualitativas del dataset junto con las variables que nos sirven como indexación\n",
    "\n",
    "dataset_columns = [ 'yearOfRegistration', 'Datasource', 'gender', 'ageBroad',\n",
    "       'majorityStatus', 'majorityStatusAtExploit', 'majorityEntry',\n",
    "       'citizenship', 'meansOfControlConcatenated','typeOfExploitConcatenated', 'typeOfLabourConcatenated',\n",
    "       'typeOfSexConcatenated', 'isAbduction', 'RecruiterRelationship',\n",
    "       'CountryOfExploitation', 'recruiterRelationIntimatePartner',\n",
    "       'recruiterRelationFriend', 'recruiterRelationFamily',\n",
    "       'recruiterRelationOther', 'recruiterRelationUnknown'] \n",
    "\n",
    "# Generamos un nuevo dataset con esta reducción de dimensionalidad\n",
    "\n",
    "new_data_set = raw_data.loc[:,dataset_columns]"
   ]
  },
  {
   "cell_type": "code",
   "execution_count": 221,
   "metadata": {},
   "outputs": [],
   "source": [
    "columns_to_check = ['meansOfControlConcatenated','typeOfExploitConcatenated', 'typeOfLabourConcatenated',\n",
    "       'typeOfSexConcatenated'] \n",
    "\n",
    "\n",
    "new_data_set[columns_to_check] = new_data_set[columns_to_check].replace(0, np.nan)\n",
    "# Filtrar los registros con datos faltantes solo en las columnas mencionadas\n",
    "filtered_data = new_data_set[new_data_set[columns_to_check].isnull().all(axis=1)]"
   ]
  },
  {
   "cell_type": "code",
   "execution_count": 222,
   "metadata": {},
   "outputs": [
    {
     "data": {
      "text/plain": [
       "25.09667519181586"
      ]
     },
     "execution_count": 222,
     "metadata": {},
     "output_type": "execute_result"
    }
   ],
   "source": [
    "filtered_data.shape[0] / new_data_set.shape[0] * 100"
   ]
  },
  {
   "cell_type": "code",
   "execution_count": 223,
   "metadata": {},
   "outputs": [
    {
     "name": "stdout",
     "output_type": "stream",
     "text": [
      "yearOfRegistration                    232\n",
      "Datasource                              0\n",
      "gender                               6879\n",
      "ageBroad                            45330\n",
      "majorityStatus                      25051\n",
      "majorityStatusAtExploit             54414\n",
      "majorityEntry                       71580\n",
      "citizenship                         43080\n",
      "meansOfControlConcatenated              0\n",
      "typeOfExploitConcatenated               0\n",
      "typeOfLabourConcatenated                0\n",
      "typeOfSexConcatenated                   0\n",
      "isAbduction                         50251\n",
      "RecruiterRelationship               16758\n",
      "CountryOfExploitation               11455\n",
      "recruiterRelationIntimatePartner    39786\n",
      "recruiterRelationFriend             39786\n",
      "recruiterRelationFamily             39786\n",
      "recruiterRelationOther              39786\n",
      "recruiterRelationUnknown              236\n",
      "dtype: int64\n",
      "      meansOfControlConcatenated typeOfExploitConcatenated  \\\n",
      "65136              Not specified       Sexual exploitation   \n",
      "27455              Not specified       Sexual exploitation   \n",
      "38313        Psychological abuse       Sexual exploitation   \n",
      "50915              Not specified       Sexual exploitation   \n",
      "90167              Not specified       Sexual exploitation   \n",
      "4280               Not specified       Sexual exploitation   \n",
      "40643    Psychoactive substances       Sexual exploitation   \n",
      "66066              Not specified       Sexual exploitation   \n",
      "41131             False promises       Sexual exploitation   \n",
      "62509              Not specified       Sexual exploitation   \n",
      "\n",
      "      typeOfLabourConcatenated typeOfSexConcatenated  \n",
      "65136              Agriculture          Prostitution  \n",
      "27455              Agriculture          Prostitution  \n",
      "38313              Agriculture          Prostitution  \n",
      "50915              Agriculture          Prostitution  \n",
      "90167              Agriculture          Prostitution  \n",
      "4280               Agriculture          Prostitution  \n",
      "40643              Agriculture          Prostitution  \n",
      "66066              Agriculture          Prostitution  \n",
      "41131              Agriculture          Prostitution  \n",
      "62509              Agriculture          Prostitution  \n"
     ]
    }
   ],
   "source": [
    "# Calcular cuántos registros eliminar (90%)\n",
    "num_records_to_delete = int(len(filtered_data) * 0.9)\n",
    "\n",
    "# Eliminar el 90% de los registros sin datos\n",
    "filtered_data = filtered_data.sample(n=num_records_to_delete, random_state=42)\n",
    "\n",
    "# Restaurar los registros eliminados a new_data_set\n",
    "new_data_set = new_data_set[~new_data_set.index.isin(filtered_data.index)]\n",
    "\n",
    "# Imputación de datos faltantes utilizando la moda (valor más común)\n",
    "imputer = SimpleImputer(strategy='most_frequent')\n",
    "\n",
    "# Aplicar la imputación solo a las columnas de interés\n",
    "new_data_set[columns_to_check] = imputer.fit_transform(new_data_set[columns_to_check])\n",
    "\n",
    "# Verificar el resultado\n",
    "print(new_data_set.isnull().sum())\n",
    "\n",
    "# Realizar muestras visuales para verificar la imputación\n",
    "sample_data = new_data_set.sample(10)  # Muestra aleatoria de 10 registros\n",
    "print(sample_data[columns_to_check])"
   ]
  },
  {
   "cell_type": "code",
   "execution_count": 224,
   "metadata": {},
   "outputs": [],
   "source": [
    "# Lista de campos que necesitan one-hot encoding\n",
    "fields_to_encode = ['meansOfControlConcatenated', 'typeOfExploitConcatenated', 'typeOfLabourConcatenated', 'typeOfSexConcatenated']\n",
    "\n",
    "# Itera sobre cada campo y aplica one-hot encoding\n",
    "for field in fields_to_encode:\n",
    "    # Divide el campo en múltiples columnas one-hot\n",
    "    one_hot_encoded = new_data_set[field].str.get_dummies(sep=';')\n",
    "    \n",
    "    # Renombra las columnas para que sean únicas\n",
    "    one_hot_encoded.columns = [f\"{field}_{column}\" for column in one_hot_encoded.columns]\n",
    "    \n",
    "    # Concatena las columnas one-hot al nuevo dataset\n",
    "    new_data_set = pd.concat([new_data_set, one_hot_encoded], axis=1)\n",
    "    \n",
    "# Elimina las columnas originales que ya han sido one-hot encoded\n",
    "new_data_set = new_data_set.drop(fields_to_encode, axis=1)\n",
    "\n"
   ]
  },
  {
   "cell_type": "code",
   "execution_count": 225,
   "metadata": {},
   "outputs": [
    {
     "data": {
      "text/plain": [
       "(75672, 59)"
      ]
     },
     "execution_count": 225,
     "metadata": {},
     "output_type": "execute_result"
    }
   ],
   "source": [
    "new_data_set.shape"
   ]
  },
  {
   "cell_type": "markdown",
   "metadata": {},
   "source": [
    "### Others objects"
   ]
  },
  {
   "cell_type": "code",
   "execution_count": 226,
   "metadata": {},
   "outputs": [],
   "source": [
    "# Object to perform the word cloud plot\n",
    "word_cloud = WordCloud(\n",
    "    contour_color='black',\n",
    "    collocations=False,\n",
    "    mode='RGB',\n",
    "    background_color='white',\n",
    "    colormap='RdYlBu')\n",
    "\n",
    "# Categorical objects attributes\n",
    "categorical_columns = [\n",
    "    'ageBroad',\n",
    "    'Datasource',\n",
    "    'gender',\n",
    "    'majorityStatus',\n",
    "    'majorityStatusAtExploit',\n",
    "    'majorityEntry']\n",
    "\n",
    "# Categorical countries\n",
    "country_columns = [\n",
    "    'citizenship',\n",
    "    'CountryOfExploitation']\n",
    "\n",
    "# Method to convert country ISO2 to ISO numeric code\n",
    "def country_code(country):\n",
    "    try:\n",
    "        return pycountry.countries.lookup(country).numeric\n",
    "    except LookupError:\n",
    "        # It is a missing data and cannot be convert 'NaN'\n",
    "        # value of contry to numeric code\n",
    "        return -1 "
   ]
  },
  {
   "cell_type": "markdown",
   "metadata": {},
   "source": [
    "# Descriptive analysis\n",
    "\n"
   ]
  },
  {
   "cell_type": "markdown",
   "metadata": {},
   "source": [
    "### Data presentation"
   ]
  },
  {
   "cell_type": "code",
   "execution_count": 227,
   "metadata": {},
   "outputs": [
    {
     "data": {
      "text/html": [
       "<div>\n",
       "<style scoped>\n",
       "    .dataframe tbody tr th:only-of-type {\n",
       "        vertical-align: middle;\n",
       "    }\n",
       "\n",
       "    .dataframe tbody tr th {\n",
       "        vertical-align: top;\n",
       "    }\n",
       "\n",
       "    .dataframe thead th {\n",
       "        text-align: right;\n",
       "    }\n",
       "</style>\n",
       "<table border=\"1\" class=\"dataframe\">\n",
       "  <thead>\n",
       "    <tr style=\"text-align: right;\">\n",
       "      <th></th>\n",
       "      <th>yearOfRegistration</th>\n",
       "      <th>Datasource</th>\n",
       "      <th>gender</th>\n",
       "      <th>ageBroad</th>\n",
       "      <th>majorityStatus</th>\n",
       "      <th>majorityStatusAtExploit</th>\n",
       "      <th>majorityEntry</th>\n",
       "      <th>citizenship</th>\n",
       "      <th>isAbduction</th>\n",
       "      <th>RecruiterRelationship</th>\n",
       "      <th>...</th>\n",
       "      <th>typeOfLabourConcatenated_Illicit activities</th>\n",
       "      <th>typeOfLabourConcatenated_Manufacturing</th>\n",
       "      <th>typeOfLabourConcatenated_Not specified</th>\n",
       "      <th>typeOfLabourConcatenated_Other</th>\n",
       "      <th>typeOfLabourConcatenated_Peddling</th>\n",
       "      <th>typeOfLabourConcatenated_Transportation</th>\n",
       "      <th>typeOfSexConcatenated_Pornography</th>\n",
       "      <th>typeOfSexConcatenated_Private sexual services</th>\n",
       "      <th>typeOfSexConcatenated_Prostitution</th>\n",
       "      <th>typeOfSexConcatenated_Remote interactive services</th>\n",
       "    </tr>\n",
       "  </thead>\n",
       "  <tbody>\n",
       "    <tr>\n",
       "      <th>0</th>\n",
       "      <td>2002</td>\n",
       "      <td>Case Management</td>\n",
       "      <td>Female</td>\n",
       "      <td>18--20</td>\n",
       "      <td>Adult</td>\n",
       "      <td>NaN</td>\n",
       "      <td>NaN</td>\n",
       "      <td>CO</td>\n",
       "      <td>0</td>\n",
       "      <td>NaN</td>\n",
       "      <td>...</td>\n",
       "      <td>0</td>\n",
       "      <td>0</td>\n",
       "      <td>0</td>\n",
       "      <td>0</td>\n",
       "      <td>0</td>\n",
       "      <td>0</td>\n",
       "      <td>0</td>\n",
       "      <td>0</td>\n",
       "      <td>1</td>\n",
       "      <td>0</td>\n",
       "    </tr>\n",
       "    <tr>\n",
       "      <th>1</th>\n",
       "      <td>2002</td>\n",
       "      <td>Case Management</td>\n",
       "      <td>Female</td>\n",
       "      <td>18--20</td>\n",
       "      <td>Adult</td>\n",
       "      <td>NaN</td>\n",
       "      <td>NaN</td>\n",
       "      <td>CO</td>\n",
       "      <td>0</td>\n",
       "      <td>NaN</td>\n",
       "      <td>...</td>\n",
       "      <td>0</td>\n",
       "      <td>0</td>\n",
       "      <td>0</td>\n",
       "      <td>0</td>\n",
       "      <td>0</td>\n",
       "      <td>0</td>\n",
       "      <td>0</td>\n",
       "      <td>0</td>\n",
       "      <td>1</td>\n",
       "      <td>0</td>\n",
       "    </tr>\n",
       "    <tr>\n",
       "      <th>2</th>\n",
       "      <td>2002</td>\n",
       "      <td>Case Management</td>\n",
       "      <td>Female</td>\n",
       "      <td>18--20</td>\n",
       "      <td>Adult</td>\n",
       "      <td>NaN</td>\n",
       "      <td>NaN</td>\n",
       "      <td>CO</td>\n",
       "      <td>0</td>\n",
       "      <td>NaN</td>\n",
       "      <td>...</td>\n",
       "      <td>0</td>\n",
       "      <td>0</td>\n",
       "      <td>0</td>\n",
       "      <td>0</td>\n",
       "      <td>0</td>\n",
       "      <td>0</td>\n",
       "      <td>0</td>\n",
       "      <td>0</td>\n",
       "      <td>1</td>\n",
       "      <td>0</td>\n",
       "    </tr>\n",
       "    <tr>\n",
       "      <th>3</th>\n",
       "      <td>2002</td>\n",
       "      <td>Case Management</td>\n",
       "      <td>Female</td>\n",
       "      <td>18--20</td>\n",
       "      <td>Adult</td>\n",
       "      <td>NaN</td>\n",
       "      <td>NaN</td>\n",
       "      <td>CO</td>\n",
       "      <td>0</td>\n",
       "      <td>NaN</td>\n",
       "      <td>...</td>\n",
       "      <td>0</td>\n",
       "      <td>0</td>\n",
       "      <td>0</td>\n",
       "      <td>0</td>\n",
       "      <td>0</td>\n",
       "      <td>0</td>\n",
       "      <td>0</td>\n",
       "      <td>0</td>\n",
       "      <td>1</td>\n",
       "      <td>0</td>\n",
       "    </tr>\n",
       "    <tr>\n",
       "      <th>4</th>\n",
       "      <td>2002</td>\n",
       "      <td>Case Management</td>\n",
       "      <td>Female</td>\n",
       "      <td>18--20</td>\n",
       "      <td>Adult</td>\n",
       "      <td>NaN</td>\n",
       "      <td>NaN</td>\n",
       "      <td>CO</td>\n",
       "      <td>0</td>\n",
       "      <td>NaN</td>\n",
       "      <td>...</td>\n",
       "      <td>0</td>\n",
       "      <td>0</td>\n",
       "      <td>0</td>\n",
       "      <td>0</td>\n",
       "      <td>0</td>\n",
       "      <td>0</td>\n",
       "      <td>0</td>\n",
       "      <td>0</td>\n",
       "      <td>1</td>\n",
       "      <td>0</td>\n",
       "    </tr>\n",
       "    <tr>\n",
       "      <th>...</th>\n",
       "      <td>...</td>\n",
       "      <td>...</td>\n",
       "      <td>...</td>\n",
       "      <td>...</td>\n",
       "      <td>...</td>\n",
       "      <td>...</td>\n",
       "      <td>...</td>\n",
       "      <td>...</td>\n",
       "      <td>...</td>\n",
       "      <td>...</td>\n",
       "      <td>...</td>\n",
       "      <td>...</td>\n",
       "      <td>...</td>\n",
       "      <td>...</td>\n",
       "      <td>...</td>\n",
       "      <td>...</td>\n",
       "      <td>...</td>\n",
       "      <td>...</td>\n",
       "      <td>...</td>\n",
       "      <td>...</td>\n",
       "      <td>...</td>\n",
       "    </tr>\n",
       "    <tr>\n",
       "      <th>97730</th>\n",
       "      <td>NaN</td>\n",
       "      <td>Case Management</td>\n",
       "      <td>Male</td>\n",
       "      <td>39--47</td>\n",
       "      <td>Adult</td>\n",
       "      <td>NaN</td>\n",
       "      <td>NaN</td>\n",
       "      <td>CM</td>\n",
       "      <td>&lt;NA&gt;</td>\n",
       "      <td>NaN</td>\n",
       "      <td>...</td>\n",
       "      <td>0</td>\n",
       "      <td>0</td>\n",
       "      <td>0</td>\n",
       "      <td>0</td>\n",
       "      <td>0</td>\n",
       "      <td>0</td>\n",
       "      <td>0</td>\n",
       "      <td>0</td>\n",
       "      <td>1</td>\n",
       "      <td>0</td>\n",
       "    </tr>\n",
       "    <tr>\n",
       "      <th>97731</th>\n",
       "      <td>NaN</td>\n",
       "      <td>Case Management</td>\n",
       "      <td>Male</td>\n",
       "      <td>39--47</td>\n",
       "      <td>Adult</td>\n",
       "      <td>NaN</td>\n",
       "      <td>NaN</td>\n",
       "      <td>CM</td>\n",
       "      <td>&lt;NA&gt;</td>\n",
       "      <td>NaN</td>\n",
       "      <td>...</td>\n",
       "      <td>0</td>\n",
       "      <td>0</td>\n",
       "      <td>0</td>\n",
       "      <td>0</td>\n",
       "      <td>0</td>\n",
       "      <td>0</td>\n",
       "      <td>0</td>\n",
       "      <td>0</td>\n",
       "      <td>1</td>\n",
       "      <td>0</td>\n",
       "    </tr>\n",
       "    <tr>\n",
       "      <th>97732</th>\n",
       "      <td>NaN</td>\n",
       "      <td>Case Management</td>\n",
       "      <td>Male</td>\n",
       "      <td>39--47</td>\n",
       "      <td>Adult</td>\n",
       "      <td>NaN</td>\n",
       "      <td>NaN</td>\n",
       "      <td>CM</td>\n",
       "      <td>&lt;NA&gt;</td>\n",
       "      <td>NaN</td>\n",
       "      <td>...</td>\n",
       "      <td>0</td>\n",
       "      <td>0</td>\n",
       "      <td>0</td>\n",
       "      <td>0</td>\n",
       "      <td>0</td>\n",
       "      <td>0</td>\n",
       "      <td>0</td>\n",
       "      <td>0</td>\n",
       "      <td>1</td>\n",
       "      <td>0</td>\n",
       "    </tr>\n",
       "    <tr>\n",
       "      <th>97746</th>\n",
       "      <td>NaN</td>\n",
       "      <td>Case Management</td>\n",
       "      <td>Male</td>\n",
       "      <td>9--17</td>\n",
       "      <td>Minor</td>\n",
       "      <td>NaN</td>\n",
       "      <td>NaN</td>\n",
       "      <td>CM</td>\n",
       "      <td>&lt;NA&gt;</td>\n",
       "      <td>NaN</td>\n",
       "      <td>...</td>\n",
       "      <td>0</td>\n",
       "      <td>0</td>\n",
       "      <td>0</td>\n",
       "      <td>0</td>\n",
       "      <td>0</td>\n",
       "      <td>0</td>\n",
       "      <td>0</td>\n",
       "      <td>0</td>\n",
       "      <td>1</td>\n",
       "      <td>0</td>\n",
       "    </tr>\n",
       "    <tr>\n",
       "      <th>97748</th>\n",
       "      <td>NaN</td>\n",
       "      <td>Case Management</td>\n",
       "      <td>Male</td>\n",
       "      <td>9--17</td>\n",
       "      <td>Minor</td>\n",
       "      <td>NaN</td>\n",
       "      <td>NaN</td>\n",
       "      <td>CM</td>\n",
       "      <td>&lt;NA&gt;</td>\n",
       "      <td>NaN</td>\n",
       "      <td>...</td>\n",
       "      <td>0</td>\n",
       "      <td>0</td>\n",
       "      <td>0</td>\n",
       "      <td>0</td>\n",
       "      <td>0</td>\n",
       "      <td>0</td>\n",
       "      <td>0</td>\n",
       "      <td>0</td>\n",
       "      <td>1</td>\n",
       "      <td>0</td>\n",
       "    </tr>\n",
       "  </tbody>\n",
       "</table>\n",
       "<p>75672 rows × 59 columns</p>\n",
       "</div>"
      ],
      "text/plain": [
       "      yearOfRegistration       Datasource  gender ageBroad majorityStatus  \\\n",
       "0                   2002  Case Management  Female   18--20          Adult   \n",
       "1                   2002  Case Management  Female   18--20          Adult   \n",
       "2                   2002  Case Management  Female   18--20          Adult   \n",
       "3                   2002  Case Management  Female   18--20          Adult   \n",
       "4                   2002  Case Management  Female   18--20          Adult   \n",
       "...                  ...              ...     ...      ...            ...   \n",
       "97730                NaN  Case Management    Male   39--47          Adult   \n",
       "97731                NaN  Case Management    Male   39--47          Adult   \n",
       "97732                NaN  Case Management    Male   39--47          Adult   \n",
       "97746                NaN  Case Management    Male    9--17          Minor   \n",
       "97748                NaN  Case Management    Male    9--17          Minor   \n",
       "\n",
       "      majorityStatusAtExploit majorityEntry citizenship  isAbduction  \\\n",
       "0                         NaN           NaN          CO            0   \n",
       "1                         NaN           NaN          CO            0   \n",
       "2                         NaN           NaN          CO            0   \n",
       "3                         NaN           NaN          CO            0   \n",
       "4                         NaN           NaN          CO            0   \n",
       "...                       ...           ...         ...          ...   \n",
       "97730                     NaN           NaN          CM         <NA>   \n",
       "97731                     NaN           NaN          CM         <NA>   \n",
       "97732                     NaN           NaN          CM         <NA>   \n",
       "97746                     NaN           NaN          CM         <NA>   \n",
       "97748                     NaN           NaN          CM         <NA>   \n",
       "\n",
       "      RecruiterRelationship  ... typeOfLabourConcatenated_Illicit activities  \\\n",
       "0                       NaN  ...                                           0   \n",
       "1                       NaN  ...                                           0   \n",
       "2                       NaN  ...                                           0   \n",
       "3                       NaN  ...                                           0   \n",
       "4                       NaN  ...                                           0   \n",
       "...                     ...  ...                                         ...   \n",
       "97730                   NaN  ...                                           0   \n",
       "97731                   NaN  ...                                           0   \n",
       "97732                   NaN  ...                                           0   \n",
       "97746                   NaN  ...                                           0   \n",
       "97748                   NaN  ...                                           0   \n",
       "\n",
       "       typeOfLabourConcatenated_Manufacturing  \\\n",
       "0                                           0   \n",
       "1                                           0   \n",
       "2                                           0   \n",
       "3                                           0   \n",
       "4                                           0   \n",
       "...                                       ...   \n",
       "97730                                       0   \n",
       "97731                                       0   \n",
       "97732                                       0   \n",
       "97746                                       0   \n",
       "97748                                       0   \n",
       "\n",
       "       typeOfLabourConcatenated_Not specified  typeOfLabourConcatenated_Other  \\\n",
       "0                                           0                               0   \n",
       "1                                           0                               0   \n",
       "2                                           0                               0   \n",
       "3                                           0                               0   \n",
       "4                                           0                               0   \n",
       "...                                       ...                             ...   \n",
       "97730                                       0                               0   \n",
       "97731                                       0                               0   \n",
       "97732                                       0                               0   \n",
       "97746                                       0                               0   \n",
       "97748                                       0                               0   \n",
       "\n",
       "       typeOfLabourConcatenated_Peddling  \\\n",
       "0                                      0   \n",
       "1                                      0   \n",
       "2                                      0   \n",
       "3                                      0   \n",
       "4                                      0   \n",
       "...                                  ...   \n",
       "97730                                  0   \n",
       "97731                                  0   \n",
       "97732                                  0   \n",
       "97746                                  0   \n",
       "97748                                  0   \n",
       "\n",
       "       typeOfLabourConcatenated_Transportation  \\\n",
       "0                                            0   \n",
       "1                                            0   \n",
       "2                                            0   \n",
       "3                                            0   \n",
       "4                                            0   \n",
       "...                                        ...   \n",
       "97730                                        0   \n",
       "97731                                        0   \n",
       "97732                                        0   \n",
       "97746                                        0   \n",
       "97748                                        0   \n",
       "\n",
       "       typeOfSexConcatenated_Pornography  \\\n",
       "0                                      0   \n",
       "1                                      0   \n",
       "2                                      0   \n",
       "3                                      0   \n",
       "4                                      0   \n",
       "...                                  ...   \n",
       "97730                                  0   \n",
       "97731                                  0   \n",
       "97732                                  0   \n",
       "97746                                  0   \n",
       "97748                                  0   \n",
       "\n",
       "       typeOfSexConcatenated_Private sexual services  \\\n",
       "0                                                  0   \n",
       "1                                                  0   \n",
       "2                                                  0   \n",
       "3                                                  0   \n",
       "4                                                  0   \n",
       "...                                              ...   \n",
       "97730                                              0   \n",
       "97731                                              0   \n",
       "97732                                              0   \n",
       "97746                                              0   \n",
       "97748                                              0   \n",
       "\n",
       "       typeOfSexConcatenated_Prostitution  \\\n",
       "0                                       1   \n",
       "1                                       1   \n",
       "2                                       1   \n",
       "3                                       1   \n",
       "4                                       1   \n",
       "...                                   ...   \n",
       "97730                                   1   \n",
       "97731                                   1   \n",
       "97732                                   1   \n",
       "97746                                   1   \n",
       "97748                                   1   \n",
       "\n",
       "       typeOfSexConcatenated_Remote interactive services  \n",
       "0                                                      0  \n",
       "1                                                      0  \n",
       "2                                                      0  \n",
       "3                                                      0  \n",
       "4                                                      0  \n",
       "...                                                  ...  \n",
       "97730                                                  0  \n",
       "97731                                                  0  \n",
       "97732                                                  0  \n",
       "97746                                                  0  \n",
       "97748                                                  0  \n",
       "\n",
       "[75672 rows x 59 columns]"
      ]
     },
     "execution_count": 227,
     "metadata": {},
     "output_type": "execute_result"
    }
   ],
   "source": [
    "new_data_set"
   ]
  },
  {
   "cell_type": "code",
   "execution_count": 228,
   "metadata": {},
   "outputs": [
    {
     "name": "stdout",
     "output_type": "stream",
     "text": [
      "<class 'pandas.core.frame.DataFrame'>\n",
      "Index: 75672 entries, 0 to 97748\n",
      "Data columns (total 59 columns):\n",
      " #   Column                                                             Non-Null Count  Dtype   \n",
      "---  ------                                                             --------------  -----   \n",
      " 0   yearOfRegistration                                                 75440 non-null  category\n",
      " 1   Datasource                                                         75672 non-null  category\n",
      " 2   gender                                                             68793 non-null  category\n",
      " 3   ageBroad                                                           30342 non-null  category\n",
      " 4   majorityStatus                                                     50621 non-null  category\n",
      " 5   majorityStatusAtExploit                                            21258 non-null  category\n",
      " 6   majorityEntry                                                      4092 non-null   category\n",
      " 7   citizenship                                                        32592 non-null  category\n",
      " 8   isAbduction                                                        25421 non-null  Int32   \n",
      " 9   RecruiterRelationship                                              58914 non-null  object  \n",
      " 10  CountryOfExploitation                                              64217 non-null  category\n",
      " 11  recruiterRelationIntimatePartner                                   35886 non-null  Int32   \n",
      " 12  recruiterRelationFriend                                            35886 non-null  Int32   \n",
      " 13  recruiterRelationFamily                                            35886 non-null  Int32   \n",
      " 14  recruiterRelationOther                                             35886 non-null  Int32   \n",
      " 15  recruiterRelationUnknown                                           75436 non-null  Int32   \n",
      " 16  meansOfControlConcatenated_Debt bondage                            75672 non-null  int64   \n",
      " 17  meansOfControlConcatenated_Excessive working hours                 75672 non-null  int64   \n",
      " 18  meansOfControlConcatenated_False promises                          75672 non-null  int64   \n",
      " 19  meansOfControlConcatenated_Not specified                           75672 non-null  int64   \n",
      " 20  meansOfControlConcatenated_Other                                   75672 non-null  int64   \n",
      " 21  meansOfControlConcatenated_Physical Abuse                          75672 non-null  int64   \n",
      " 22  meansOfControlConcatenated_Physical abuse                          75672 non-null  int64   \n",
      " 23  meansOfControlConcatenated_Psychoactive substances                 75672 non-null  int64   \n",
      " 24  meansOfControlConcatenated_Psychological abuse                     75672 non-null  int64   \n",
      " 25  meansOfControlConcatenated_Restricts financial access              75672 non-null  int64   \n",
      " 26  meansOfControlConcatenated_Restricts medical care                  75672 non-null  int64   \n",
      " 27  meansOfControlConcatenated_Restricts movement                      75672 non-null  int64   \n",
      " 28  meansOfControlConcatenated_Sexual abuse                            75672 non-null  int64   \n",
      " 29  meansOfControlConcatenated_Takes earnings                          75672 non-null  int64   \n",
      " 30  meansOfControlConcatenated_Threat of law enforcement               75672 non-null  int64   \n",
      " 31  meansOfControlConcatenated_Threats                                 75672 non-null  int64   \n",
      " 32  meansOfControlConcatenated_Uses children                           75672 non-null  int64   \n",
      " 33  meansOfControlConcatenated_Withholds documents                     75672 non-null  int64   \n",
      " 34  meansOfControlConcatenated_Withholds necessitie                    75672 non-null  int64   \n",
      " 35  meansOfControlConcatenated_Withholds necessities                   75672 non-null  int64   \n",
      " 36  typeOfExploitConcatenated_Combined sexual and labour exploitation  75672 non-null  int64   \n",
      " 37  typeOfExploitConcatenated_Forced labour                            75672 non-null  int64   \n",
      " 38  typeOfExploitConcatenated_Forced marriage                          75672 non-null  int64   \n",
      " 39  typeOfExploitConcatenated_Other                                    75672 non-null  int64   \n",
      " 40  typeOfExploitConcatenated_Sexual exploitation                      75672 non-null  int64   \n",
      " 41  typeOfExploitConcatenated_Slavery and similar practices            75672 non-null  int64   \n",
      " 42  typeOfLabourConcatenated_ Other                                    75672 non-null  int64   \n",
      " 43  typeOfLabourConcatenated_Agriculture                               75672 non-null  int64   \n",
      " 44  typeOfLabourConcatenated_Aquafarming                               75672 non-null  int64   \n",
      " 45  typeOfLabourConcatenated_Begging                                   75672 non-null  int64   \n",
      " 46  typeOfLabourConcatenated_Construction                              75672 non-null  int64   \n",
      " 47  typeOfLabourConcatenated_Domestic work                             75672 non-null  int64   \n",
      " 48  typeOfLabourConcatenated_Hospitality                               75672 non-null  int64   \n",
      " 49  typeOfLabourConcatenated_Illicit activities                        75672 non-null  int64   \n",
      " 50  typeOfLabourConcatenated_Manufacturing                             75672 non-null  int64   \n",
      " 51  typeOfLabourConcatenated_Not specified                             75672 non-null  int64   \n",
      " 52  typeOfLabourConcatenated_Other                                     75672 non-null  int64   \n",
      " 53  typeOfLabourConcatenated_Peddling                                  75672 non-null  int64   \n",
      " 54  typeOfLabourConcatenated_Transportation                            75672 non-null  int64   \n",
      " 55  typeOfSexConcatenated_Pornography                                  75672 non-null  int64   \n",
      " 56  typeOfSexConcatenated_Private sexual services                      75672 non-null  int64   \n",
      " 57  typeOfSexConcatenated_Prostitution                                 75672 non-null  int64   \n",
      " 58  typeOfSexConcatenated_Remote interactive services                  75672 non-null  int64   \n",
      "dtypes: Int32(6), category(9), int64(43), object(1)\n",
      "memory usage: 28.8+ MB\n"
     ]
    }
   ],
   "source": [
    "new_data_set.info()"
   ]
  },
  {
   "cell_type": "code",
   "execution_count": 229,
   "metadata": {},
   "outputs": [
    {
     "name": "stdout",
     "output_type": "stream",
     "text": [
      "The data-set has a total of records and atributes (75672, 59)\n",
      "\n",
      "Count total of data types in data-set\n",
      "int64       43\n",
      "Int32        6\n",
      "category     3\n",
      "category     1\n",
      "category     1\n",
      "category     1\n",
      "category     1\n",
      "category     1\n",
      "object       1\n",
      "category     1\n"
     ]
    }
   ],
   "source": [
    "print(f'The data-set has a total of records and atributes {new_data_set.shape}\\n')\n",
    "print('Count total of data types in data-set')\n",
    "unique_types = new_data_set.dtypes.value_counts()\n",
    "print(unique_types.to_string())"
   ]
  },
  {
   "cell_type": "code",
   "execution_count": 230,
   "metadata": {},
   "outputs": [
    {
     "name": "stdout",
     "output_type": "stream",
     "text": [
      "Misising \"NaN\" attributes per record\n",
      "count    75672.000000\n",
      "mean         6.401443\n",
      "std          2.852019\n",
      "min          0.000000\n",
      "25%          4.000000\n",
      "50%          7.000000\n",
      "75%          9.000000\n",
      "max         12.000000\n"
     ]
    }
   ],
   "source": [
    "# NaN values per record in data-set\n",
    "nan_record = new_data_set.isna().sum(axis=1).describe()\n",
    "print('Misising \"NaN\" attributes per record')\n",
    "print(nan_record.to_string(header=True))"
   ]
  },
  {
   "cell_type": "code",
   "execution_count": 231,
   "metadata": {},
   "outputs": [
    {
     "name": "stdout",
     "output_type": "stream",
     "text": [
      "Ratio of missing values in attributes\n",
      "yearOfRegistration                        0.020573\n",
      "Datasource                                0.000000\n",
      "gender                                    0.083253\n",
      "ageBroad                                  0.478598\n",
      "majorityStatus                            0.271141\n",
      "majorityStatusAtExploit                   0.782240\n",
      "majorityEntry                             0.925811\n",
      "citizenship                               0.454834\n",
      "meansOfControlDebtBondage                 0.915754\n",
      "meansOfControlTakesEarnings               0.882987\n",
      "meansOfControlRestrictsFinancialAccess    0.955693\n",
      "meansOfControlThreats                     0.841156\n",
      "meansOfControlPsychologicalAbuse          0.849248\n",
      "meansOfControlPhysicalAbuse               0.877923\n",
      "meansOfControlSexualAbuse                 0.907795\n",
      "meansOfControlFalsePromises               0.916890\n",
      "meansOfControlPsychoactiveSubstances      0.887754\n",
      "meansOfControlRestrictsMovement           0.855621\n",
      "meansOfControlRestrictsMedicalCare        0.938916\n",
      "meansOfControlExcessiveWorkingHours       0.911724\n",
      "meansOfControlUsesChildren                0.960010\n",
      "meansOfControlThreatOfLawEnforcement      0.908716\n",
      "meansOfControlWithholdsNecessities        0.909095\n",
      "meansOfControlWithholdsDocuments          0.915253\n",
      "meansOfControlOther                       0.881289\n",
      "meansOfControlNotSpecified                0.142885\n",
      "meansOfControlConcatenated                0.403427\n",
      "isForcedLabour                            0.328419\n",
      "isSexualExploit                           0.330936\n",
      "isOtherExploit                            0.248890\n",
      "isSexAndLabour                            0.359918\n",
      "isForcedMarriage                          0.861852\n",
      "isForcedMilitary                          0.858455\n",
      "isOrganRemoval                            0.858455\n",
      "isSlaveryAndPractices                     0.909197\n",
      "typeOfExploitConcatenated                 0.321852\n",
      "typeOfLabourAgriculture                   0.369760\n",
      "typeOfLabourAquafarming                   0.370056\n",
      "typeOfLabourBegging                       0.370189\n",
      "typeOfLabourConstruction                  0.366895\n",
      "typeOfLabourDomesticWork                  0.348389\n",
      "typeOfLabourHospitality                   0.358384\n",
      "typeOfLabourIllicitActivities             0.370987\n",
      "typeOfLabourManufacturing                 0.369043\n",
      "typeOfLabourMiningOrDrilling              0.370189\n",
      "typeOfLabourPeddling                      0.370987\n",
      "typeOfLabourTransportation                0.370189\n",
      "typeOfLabourOther                         0.358312\n",
      "typeOfLabourNotSpecified                  0.353289\n",
      "typeOfLabourConcatenated                  0.830046\n",
      "typeOfSexProstitution                     0.594251\n",
      "typeOfSexPornography                      0.685606\n",
      "typeOfSexRemoteInteractiveServices        0.685606\n",
      "typeOfSexPrivateSexualServices            0.701616\n",
      "typeOfSexConcatenated                     0.838793\n",
      "isAbduction                               0.688777\n",
      "RecruiterRelationship                     0.394527\n",
      "CountryOfExploitation                     0.248164\n",
      "recruiterRelationIntimatePartner          0.407028\n",
      "recruiterRelationFriend                   0.407028\n",
      "recruiterRelationFamily                   0.407028\n",
      "recruiterRelationOther                    0.407028\n",
      "recruiterRelationUnknown                  0.002414\n"
     ]
    }
   ],
   "source": [
    "# NaN values per attribute in data-set\n",
    "nan_attribute = raw_data.isna().sum()\n",
    "ratio_nan = nan_attribute / raw_data.shape[0]\n",
    "print('Ratio of missing values in attributes', ratio_nan.to_string(), sep='\\n')"
   ]
  },
  {
   "cell_type": "code",
   "execution_count": 232,
   "metadata": {},
   "outputs": [
    {
     "name": "stdout",
     "output_type": "stream",
     "text": [
      "Total of elements duplicateds: 57424\n",
      "Ratio of all data-set: 75.89%\n"
     ]
    }
   ],
   "source": [
    "duplicates = new_data_set.duplicated().sum()\n",
    "ration_dup = duplicates / new_data_set.shape[0]\n",
    "print(f'Total of elements duplicateds: {duplicates}\\nRatio of all data-set: {ration_dup:.2%}')"
   ]
  },
  {
   "cell_type": "code",
   "execution_count": 233,
   "metadata": {},
   "outputs": [
    {
     "data": {
      "application/vnd.plotly.v1+json": {
       "config": {
        "plotlyServerURL": "https://plot.ly"
       },
       "data": [
        {
         "coloraxis": "coloraxis",
         "geo": "geo",
         "hovertemplate": "alpha_3=%{location}<br>Victims=%{z}<extra></extra>",
         "locations": [
          "AFG",
          "ALB",
          "BGD",
          "BFA",
          "BGR",
          "BDI",
          "BEN",
          "BOL",
          "BRA",
          "BLR",
          "COD",
          "CIV",
          "CMR",
          "CHN",
          "COL",
          "CUB",
          "ERI",
          "ETH",
          "FSM",
          "GHA",
          "GIN",
          "GTM",
          "GNB",
          "HTI",
          "IDN",
          "ISR",
          "IND",
          "JAM",
          "KEN",
          "KGZ",
          "KHM",
          "KOR",
          "KAZ",
          "LAO",
          "LKA",
          "MDA",
          "MDG",
          "MLI",
          "MMR",
          "MNG",
          "MRT",
          "MEX",
          "NER",
          "NGA",
          "NPL",
          "PHL",
          "ROU",
          "RUS",
          "SDN",
          "SLE",
          "SEN",
          "SLV",
          "TGO",
          "THA",
          "TJK",
          "TKM",
          "UKR",
          "UGA",
          "USA",
          "UZB",
          "VNM"
         ],
         "name": "",
         "type": "choropleth",
         "z": [
          94,
          14,
          89,
          4,
          139,
          30,
          2,
          4,
          32,
          999,
          6,
          17,
          78,
          419,
          111,
          90,
          40,
          21,
          97,
          553,
          0,
          29,
          34,
          173,
          500,
          12,
          50,
          167,
          120,
          310,
          1387,
          84,
          19,
          40,
          85,
          1531,
          15,
          4,
          301,
          20,
          5,
          2352,
          7,
          552,
          28,
          10296,
          480,
          16,
          25,
          42,
          15,
          11,
          2,
          16,
          16,
          1,
          4248,
          153,
          6366,
          55,
          186
         ]
        }
       ],
       "layout": {
        "coloraxis": {
         "colorbar": {
          "title": {
           "text": "Victims"
          }
         },
         "colorscale": [
          [
           0,
           "#fde725"
          ],
          [
           0.1111111111111111,
           "#b5de2b"
          ],
          [
           0.2222222222222222,
           "#6ece58"
          ],
          [
           0.3333333333333333,
           "#35b779"
          ],
          [
           0.4444444444444444,
           "#1f9e89"
          ],
          [
           0.5555555555555556,
           "#26828e"
          ],
          [
           0.6666666666666666,
           "#31688e"
          ],
          [
           0.7777777777777778,
           "#3e4989"
          ],
          [
           0.8888888888888888,
           "#482878"
          ],
          [
           1,
           "#440154"
          ]
         ]
        },
        "geo": {
         "center": {},
         "domain": {
          "x": [
           0,
           1
          ],
          "y": [
           0,
           1
          ]
         }
        },
        "legend": {
         "tracegroupgap": 0
        },
        "margin": {
         "t": 60
        },
        "template": {
         "data": {
          "bar": [
           {
            "error_x": {
             "color": "#2a3f5f"
            },
            "error_y": {
             "color": "#2a3f5f"
            },
            "marker": {
             "line": {
              "color": "#E5ECF6",
              "width": 0.5
             },
             "pattern": {
              "fillmode": "overlay",
              "size": 10,
              "solidity": 0.2
             }
            },
            "type": "bar"
           }
          ],
          "barpolar": [
           {
            "marker": {
             "line": {
              "color": "#E5ECF6",
              "width": 0.5
             },
             "pattern": {
              "fillmode": "overlay",
              "size": 10,
              "solidity": 0.2
             }
            },
            "type": "barpolar"
           }
          ],
          "carpet": [
           {
            "aaxis": {
             "endlinecolor": "#2a3f5f",
             "gridcolor": "white",
             "linecolor": "white",
             "minorgridcolor": "white",
             "startlinecolor": "#2a3f5f"
            },
            "baxis": {
             "endlinecolor": "#2a3f5f",
             "gridcolor": "white",
             "linecolor": "white",
             "minorgridcolor": "white",
             "startlinecolor": "#2a3f5f"
            },
            "type": "carpet"
           }
          ],
          "choropleth": [
           {
            "colorbar": {
             "outlinewidth": 0,
             "ticks": ""
            },
            "type": "choropleth"
           }
          ],
          "contour": [
           {
            "colorbar": {
             "outlinewidth": 0,
             "ticks": ""
            },
            "colorscale": [
             [
              0,
              "#0d0887"
             ],
             [
              0.1111111111111111,
              "#46039f"
             ],
             [
              0.2222222222222222,
              "#7201a8"
             ],
             [
              0.3333333333333333,
              "#9c179e"
             ],
             [
              0.4444444444444444,
              "#bd3786"
             ],
             [
              0.5555555555555556,
              "#d8576b"
             ],
             [
              0.6666666666666666,
              "#ed7953"
             ],
             [
              0.7777777777777778,
              "#fb9f3a"
             ],
             [
              0.8888888888888888,
              "#fdca26"
             ],
             [
              1,
              "#f0f921"
             ]
            ],
            "type": "contour"
           }
          ],
          "contourcarpet": [
           {
            "colorbar": {
             "outlinewidth": 0,
             "ticks": ""
            },
            "type": "contourcarpet"
           }
          ],
          "heatmap": [
           {
            "colorbar": {
             "outlinewidth": 0,
             "ticks": ""
            },
            "colorscale": [
             [
              0,
              "#0d0887"
             ],
             [
              0.1111111111111111,
              "#46039f"
             ],
             [
              0.2222222222222222,
              "#7201a8"
             ],
             [
              0.3333333333333333,
              "#9c179e"
             ],
             [
              0.4444444444444444,
              "#bd3786"
             ],
             [
              0.5555555555555556,
              "#d8576b"
             ],
             [
              0.6666666666666666,
              "#ed7953"
             ],
             [
              0.7777777777777778,
              "#fb9f3a"
             ],
             [
              0.8888888888888888,
              "#fdca26"
             ],
             [
              1,
              "#f0f921"
             ]
            ],
            "type": "heatmap"
           }
          ],
          "heatmapgl": [
           {
            "colorbar": {
             "outlinewidth": 0,
             "ticks": ""
            },
            "colorscale": [
             [
              0,
              "#0d0887"
             ],
             [
              0.1111111111111111,
              "#46039f"
             ],
             [
              0.2222222222222222,
              "#7201a8"
             ],
             [
              0.3333333333333333,
              "#9c179e"
             ],
             [
              0.4444444444444444,
              "#bd3786"
             ],
             [
              0.5555555555555556,
              "#d8576b"
             ],
             [
              0.6666666666666666,
              "#ed7953"
             ],
             [
              0.7777777777777778,
              "#fb9f3a"
             ],
             [
              0.8888888888888888,
              "#fdca26"
             ],
             [
              1,
              "#f0f921"
             ]
            ],
            "type": "heatmapgl"
           }
          ],
          "histogram": [
           {
            "marker": {
             "pattern": {
              "fillmode": "overlay",
              "size": 10,
              "solidity": 0.2
             }
            },
            "type": "histogram"
           }
          ],
          "histogram2d": [
           {
            "colorbar": {
             "outlinewidth": 0,
             "ticks": ""
            },
            "colorscale": [
             [
              0,
              "#0d0887"
             ],
             [
              0.1111111111111111,
              "#46039f"
             ],
             [
              0.2222222222222222,
              "#7201a8"
             ],
             [
              0.3333333333333333,
              "#9c179e"
             ],
             [
              0.4444444444444444,
              "#bd3786"
             ],
             [
              0.5555555555555556,
              "#d8576b"
             ],
             [
              0.6666666666666666,
              "#ed7953"
             ],
             [
              0.7777777777777778,
              "#fb9f3a"
             ],
             [
              0.8888888888888888,
              "#fdca26"
             ],
             [
              1,
              "#f0f921"
             ]
            ],
            "type": "histogram2d"
           }
          ],
          "histogram2dcontour": [
           {
            "colorbar": {
             "outlinewidth": 0,
             "ticks": ""
            },
            "colorscale": [
             [
              0,
              "#0d0887"
             ],
             [
              0.1111111111111111,
              "#46039f"
             ],
             [
              0.2222222222222222,
              "#7201a8"
             ],
             [
              0.3333333333333333,
              "#9c179e"
             ],
             [
              0.4444444444444444,
              "#bd3786"
             ],
             [
              0.5555555555555556,
              "#d8576b"
             ],
             [
              0.6666666666666666,
              "#ed7953"
             ],
             [
              0.7777777777777778,
              "#fb9f3a"
             ],
             [
              0.8888888888888888,
              "#fdca26"
             ],
             [
              1,
              "#f0f921"
             ]
            ],
            "type": "histogram2dcontour"
           }
          ],
          "mesh3d": [
           {
            "colorbar": {
             "outlinewidth": 0,
             "ticks": ""
            },
            "type": "mesh3d"
           }
          ],
          "parcoords": [
           {
            "line": {
             "colorbar": {
              "outlinewidth": 0,
              "ticks": ""
             }
            },
            "type": "parcoords"
           }
          ],
          "pie": [
           {
            "automargin": true,
            "type": "pie"
           }
          ],
          "scatter": [
           {
            "fillpattern": {
             "fillmode": "overlay",
             "size": 10,
             "solidity": 0.2
            },
            "type": "scatter"
           }
          ],
          "scatter3d": [
           {
            "line": {
             "colorbar": {
              "outlinewidth": 0,
              "ticks": ""
             }
            },
            "marker": {
             "colorbar": {
              "outlinewidth": 0,
              "ticks": ""
             }
            },
            "type": "scatter3d"
           }
          ],
          "scattercarpet": [
           {
            "marker": {
             "colorbar": {
              "outlinewidth": 0,
              "ticks": ""
             }
            },
            "type": "scattercarpet"
           }
          ],
          "scattergeo": [
           {
            "marker": {
             "colorbar": {
              "outlinewidth": 0,
              "ticks": ""
             }
            },
            "type": "scattergeo"
           }
          ],
          "scattergl": [
           {
            "marker": {
             "colorbar": {
              "outlinewidth": 0,
              "ticks": ""
             }
            },
            "type": "scattergl"
           }
          ],
          "scattermapbox": [
           {
            "marker": {
             "colorbar": {
              "outlinewidth": 0,
              "ticks": ""
             }
            },
            "type": "scattermapbox"
           }
          ],
          "scatterpolar": [
           {
            "marker": {
             "colorbar": {
              "outlinewidth": 0,
              "ticks": ""
             }
            },
            "type": "scatterpolar"
           }
          ],
          "scatterpolargl": [
           {
            "marker": {
             "colorbar": {
              "outlinewidth": 0,
              "ticks": ""
             }
            },
            "type": "scatterpolargl"
           }
          ],
          "scatterternary": [
           {
            "marker": {
             "colorbar": {
              "outlinewidth": 0,
              "ticks": ""
             }
            },
            "type": "scatterternary"
           }
          ],
          "surface": [
           {
            "colorbar": {
             "outlinewidth": 0,
             "ticks": ""
            },
            "colorscale": [
             [
              0,
              "#0d0887"
             ],
             [
              0.1111111111111111,
              "#46039f"
             ],
             [
              0.2222222222222222,
              "#7201a8"
             ],
             [
              0.3333333333333333,
              "#9c179e"
             ],
             [
              0.4444444444444444,
              "#bd3786"
             ],
             [
              0.5555555555555556,
              "#d8576b"
             ],
             [
              0.6666666666666666,
              "#ed7953"
             ],
             [
              0.7777777777777778,
              "#fb9f3a"
             ],
             [
              0.8888888888888888,
              "#fdca26"
             ],
             [
              1,
              "#f0f921"
             ]
            ],
            "type": "surface"
           }
          ],
          "table": [
           {
            "cells": {
             "fill": {
              "color": "#EBF0F8"
             },
             "line": {
              "color": "white"
             }
            },
            "header": {
             "fill": {
              "color": "#C8D4E3"
             },
             "line": {
              "color": "white"
             }
            },
            "type": "table"
           }
          ]
         },
         "layout": {
          "annotationdefaults": {
           "arrowcolor": "#2a3f5f",
           "arrowhead": 0,
           "arrowwidth": 1
          },
          "autotypenumbers": "strict",
          "coloraxis": {
           "colorbar": {
            "outlinewidth": 0,
            "ticks": ""
           }
          },
          "colorscale": {
           "diverging": [
            [
             0,
             "#8e0152"
            ],
            [
             0.1,
             "#c51b7d"
            ],
            [
             0.2,
             "#de77ae"
            ],
            [
             0.3,
             "#f1b6da"
            ],
            [
             0.4,
             "#fde0ef"
            ],
            [
             0.5,
             "#f7f7f7"
            ],
            [
             0.6,
             "#e6f5d0"
            ],
            [
             0.7,
             "#b8e186"
            ],
            [
             0.8,
             "#7fbc41"
            ],
            [
             0.9,
             "#4d9221"
            ],
            [
             1,
             "#276419"
            ]
           ],
           "sequential": [
            [
             0,
             "#0d0887"
            ],
            [
             0.1111111111111111,
             "#46039f"
            ],
            [
             0.2222222222222222,
             "#7201a8"
            ],
            [
             0.3333333333333333,
             "#9c179e"
            ],
            [
             0.4444444444444444,
             "#bd3786"
            ],
            [
             0.5555555555555556,
             "#d8576b"
            ],
            [
             0.6666666666666666,
             "#ed7953"
            ],
            [
             0.7777777777777778,
             "#fb9f3a"
            ],
            [
             0.8888888888888888,
             "#fdca26"
            ],
            [
             1,
             "#f0f921"
            ]
           ],
           "sequentialminus": [
            [
             0,
             "#0d0887"
            ],
            [
             0.1111111111111111,
             "#46039f"
            ],
            [
             0.2222222222222222,
             "#7201a8"
            ],
            [
             0.3333333333333333,
             "#9c179e"
            ],
            [
             0.4444444444444444,
             "#bd3786"
            ],
            [
             0.5555555555555556,
             "#d8576b"
            ],
            [
             0.6666666666666666,
             "#ed7953"
            ],
            [
             0.7777777777777778,
             "#fb9f3a"
            ],
            [
             0.8888888888888888,
             "#fdca26"
            ],
            [
             1,
             "#f0f921"
            ]
           ]
          },
          "colorway": [
           "#636efa",
           "#EF553B",
           "#00cc96",
           "#ab63fa",
           "#FFA15A",
           "#19d3f3",
           "#FF6692",
           "#B6E880",
           "#FF97FF",
           "#FECB52"
          ],
          "font": {
           "color": "#2a3f5f"
          },
          "geo": {
           "bgcolor": "white",
           "lakecolor": "white",
           "landcolor": "#E5ECF6",
           "showlakes": true,
           "showland": true,
           "subunitcolor": "white"
          },
          "hoverlabel": {
           "align": "left"
          },
          "hovermode": "closest",
          "mapbox": {
           "style": "light"
          },
          "paper_bgcolor": "white",
          "plot_bgcolor": "#E5ECF6",
          "polar": {
           "angularaxis": {
            "gridcolor": "white",
            "linecolor": "white",
            "ticks": ""
           },
           "bgcolor": "#E5ECF6",
           "radialaxis": {
            "gridcolor": "white",
            "linecolor": "white",
            "ticks": ""
           }
          },
          "scene": {
           "xaxis": {
            "backgroundcolor": "#E5ECF6",
            "gridcolor": "white",
            "gridwidth": 2,
            "linecolor": "white",
            "showbackground": true,
            "ticks": "",
            "zerolinecolor": "white"
           },
           "yaxis": {
            "backgroundcolor": "#E5ECF6",
            "gridcolor": "white",
            "gridwidth": 2,
            "linecolor": "white",
            "showbackground": true,
            "ticks": "",
            "zerolinecolor": "white"
           },
           "zaxis": {
            "backgroundcolor": "#E5ECF6",
            "gridcolor": "white",
            "gridwidth": 2,
            "linecolor": "white",
            "showbackground": true,
            "ticks": "",
            "zerolinecolor": "white"
           }
          },
          "shapedefaults": {
           "line": {
            "color": "#2a3f5f"
           }
          },
          "ternary": {
           "aaxis": {
            "gridcolor": "white",
            "linecolor": "white",
            "ticks": ""
           },
           "baxis": {
            "gridcolor": "white",
            "linecolor": "white",
            "ticks": ""
           },
           "bgcolor": "#E5ECF6",
           "caxis": {
            "gridcolor": "white",
            "linecolor": "white",
            "ticks": ""
           }
          },
          "title": {
           "x": 0.05
          },
          "xaxis": {
           "automargin": true,
           "gridcolor": "white",
           "linecolor": "white",
           "ticks": "",
           "title": {
            "standoff": 15
           },
           "zerolinecolor": "white",
           "zerolinewidth": 2
          },
          "yaxis": {
           "automargin": true,
           "gridcolor": "white",
           "linecolor": "white",
           "ticks": "",
           "title": {
            "standoff": 15
           },
           "zerolinecolor": "white",
           "zerolinewidth": 2
          }
         }
        }
       }
      }
     },
     "metadata": {},
     "output_type": "display_data"
    }
   ],
   "source": [
    "new_data_set[\"country\"] = new_data_set[\"citizenship\"].apply(lambda x: get_name(x))\n",
    "new_data_set[\"alpha_3\"] = new_data_set[\"country\"].apply(lambda x: get_alpha3(x))\n",
    "data_map = pd.DataFrame(new_data_set.groupby([\"country\",\"alpha_3\"])[\"alpha_3\"].agg(Victims=\"count\")).reset_index()\n",
    "country_victims = data_map.groupby([\"alpha_3\"])[\"Victims\"].sum().reset_index()\n",
    "fig = px.choropleth(country_victims, locations = \"alpha_3\",\n",
    "                    color = \"Victims\",\n",
    "                    color_continuous_scale=\"Viridis_r\")\n",
    "\n",
    "fig.show()"
   ]
  },
  {
   "cell_type": "code",
   "execution_count": 250,
   "metadata": {},
   "outputs": [
    {
     "data": {
      "application/vnd.plotly.v1+json": {
       "config": {
        "plotlyServerURL": "https://plot.ly"
       },
       "data": [
        {
         "coloraxis": "coloraxis",
         "geo": "geo",
         "hovertemplate": "alpha_3=%{location}<br>Victims=%{z}<extra></extra>",
         "locations": [
          "ARE",
          "AFG",
          "ALB",
          "ARG",
          "AUT",
          "BIH",
          "BGD",
          "BGR",
          "BHR",
          "BDI",
          "BLR",
          "CIV",
          "CHL",
          "CHN",
          "CYP",
          "CZE",
          "DEU",
          "DNK",
          "ECU",
          "EGY",
          "ETH",
          "FRA",
          "GAB",
          "GHA",
          "HKG",
          "HTI",
          "IDN",
          "IND",
          "IRQ",
          "ITA",
          "JOR",
          "JPN",
          "KEN",
          "KHM",
          "KWT",
          "KAZ",
          "LBN",
          "LBY",
          "MAR",
          "MDG",
          "MKD",
          "MLI",
          "MUS",
          "MWI",
          "MEX",
          "MYS",
          "NER",
          "NGA",
          "OMN",
          "PHL",
          "POL",
          "QAT",
          "ROU",
          "SRB",
          "RUS",
          "SAU",
          "SDN",
          "SWE",
          "SGP",
          "SLE",
          "SEN",
          "SYR",
          "THA",
          "TJK",
          "TKM",
          "TUN",
          "TUR",
          "TTO",
          "TWN",
          "TZA",
          "UKR",
          "UGA",
          "USA",
          "UZB",
          "VNM",
          "VUT",
          "ZAF"
         ],
         "name": "",
         "type": "choropleth",
         "z": [
          254,
          58,
          14,
          4,
          24,
          127,
          146,
          150,
          5,
          8,
          31,
          1,
          1,
          179,
          12,
          54,
          5,
          2,
          1,
          40,
          5,
          1,
          2,
          565,
          43,
          160,
          336,
          106,
          7,
          26,
          85,
          111,
          12,
          1029,
          214,
          168,
          97,
          238,
          6,
          10,
          194,
          350,
          1,
          5,
          1,
          564,
          4,
          39,
          18,
          1885,
          475,
          102,
          127,
          249,
          3395,
          178,
          1,
          2,
          3,
          8,
          66,
          6,
          95,
          18,
          1,
          2,
          258,
          8,
          3,
          1,
          24,
          146,
          51610,
          17,
          16,
          6,
          2
         ]
        }
       ],
       "layout": {
        "coloraxis": {
         "colorbar": {
          "title": {
           "text": "Victims"
          }
         },
         "colorscale": [
          [
           0,
           "#fde725"
          ],
          [
           0.1111111111111111,
           "#b5de2b"
          ],
          [
           0.2222222222222222,
           "#6ece58"
          ],
          [
           0.3333333333333333,
           "#35b779"
          ],
          [
           0.4444444444444444,
           "#1f9e89"
          ],
          [
           0.5555555555555556,
           "#26828e"
          ],
          [
           0.6666666666666666,
           "#31688e"
          ],
          [
           0.7777777777777778,
           "#3e4989"
          ],
          [
           0.8888888888888888,
           "#482878"
          ],
          [
           1,
           "#440154"
          ]
         ]
        },
        "geo": {
         "center": {},
         "domain": {
          "x": [
           0,
           1
          ],
          "y": [
           0,
           1
          ]
         }
        },
        "legend": {
         "tracegroupgap": 0
        },
        "margin": {
         "t": 60
        },
        "template": {
         "data": {
          "bar": [
           {
            "error_x": {
             "color": "#2a3f5f"
            },
            "error_y": {
             "color": "#2a3f5f"
            },
            "marker": {
             "line": {
              "color": "#E5ECF6",
              "width": 0.5
             },
             "pattern": {
              "fillmode": "overlay",
              "size": 10,
              "solidity": 0.2
             }
            },
            "type": "bar"
           }
          ],
          "barpolar": [
           {
            "marker": {
             "line": {
              "color": "#E5ECF6",
              "width": 0.5
             },
             "pattern": {
              "fillmode": "overlay",
              "size": 10,
              "solidity": 0.2
             }
            },
            "type": "barpolar"
           }
          ],
          "carpet": [
           {
            "aaxis": {
             "endlinecolor": "#2a3f5f",
             "gridcolor": "white",
             "linecolor": "white",
             "minorgridcolor": "white",
             "startlinecolor": "#2a3f5f"
            },
            "baxis": {
             "endlinecolor": "#2a3f5f",
             "gridcolor": "white",
             "linecolor": "white",
             "minorgridcolor": "white",
             "startlinecolor": "#2a3f5f"
            },
            "type": "carpet"
           }
          ],
          "choropleth": [
           {
            "colorbar": {
             "outlinewidth": 0,
             "ticks": ""
            },
            "type": "choropleth"
           }
          ],
          "contour": [
           {
            "colorbar": {
             "outlinewidth": 0,
             "ticks": ""
            },
            "colorscale": [
             [
              0,
              "#0d0887"
             ],
             [
              0.1111111111111111,
              "#46039f"
             ],
             [
              0.2222222222222222,
              "#7201a8"
             ],
             [
              0.3333333333333333,
              "#9c179e"
             ],
             [
              0.4444444444444444,
              "#bd3786"
             ],
             [
              0.5555555555555556,
              "#d8576b"
             ],
             [
              0.6666666666666666,
              "#ed7953"
             ],
             [
              0.7777777777777778,
              "#fb9f3a"
             ],
             [
              0.8888888888888888,
              "#fdca26"
             ],
             [
              1,
              "#f0f921"
             ]
            ],
            "type": "contour"
           }
          ],
          "contourcarpet": [
           {
            "colorbar": {
             "outlinewidth": 0,
             "ticks": ""
            },
            "type": "contourcarpet"
           }
          ],
          "heatmap": [
           {
            "colorbar": {
             "outlinewidth": 0,
             "ticks": ""
            },
            "colorscale": [
             [
              0,
              "#0d0887"
             ],
             [
              0.1111111111111111,
              "#46039f"
             ],
             [
              0.2222222222222222,
              "#7201a8"
             ],
             [
              0.3333333333333333,
              "#9c179e"
             ],
             [
              0.4444444444444444,
              "#bd3786"
             ],
             [
              0.5555555555555556,
              "#d8576b"
             ],
             [
              0.6666666666666666,
              "#ed7953"
             ],
             [
              0.7777777777777778,
              "#fb9f3a"
             ],
             [
              0.8888888888888888,
              "#fdca26"
             ],
             [
              1,
              "#f0f921"
             ]
            ],
            "type": "heatmap"
           }
          ],
          "heatmapgl": [
           {
            "colorbar": {
             "outlinewidth": 0,
             "ticks": ""
            },
            "colorscale": [
             [
              0,
              "#0d0887"
             ],
             [
              0.1111111111111111,
              "#46039f"
             ],
             [
              0.2222222222222222,
              "#7201a8"
             ],
             [
              0.3333333333333333,
              "#9c179e"
             ],
             [
              0.4444444444444444,
              "#bd3786"
             ],
             [
              0.5555555555555556,
              "#d8576b"
             ],
             [
              0.6666666666666666,
              "#ed7953"
             ],
             [
              0.7777777777777778,
              "#fb9f3a"
             ],
             [
              0.8888888888888888,
              "#fdca26"
             ],
             [
              1,
              "#f0f921"
             ]
            ],
            "type": "heatmapgl"
           }
          ],
          "histogram": [
           {
            "marker": {
             "pattern": {
              "fillmode": "overlay",
              "size": 10,
              "solidity": 0.2
             }
            },
            "type": "histogram"
           }
          ],
          "histogram2d": [
           {
            "colorbar": {
             "outlinewidth": 0,
             "ticks": ""
            },
            "colorscale": [
             [
              0,
              "#0d0887"
             ],
             [
              0.1111111111111111,
              "#46039f"
             ],
             [
              0.2222222222222222,
              "#7201a8"
             ],
             [
              0.3333333333333333,
              "#9c179e"
             ],
             [
              0.4444444444444444,
              "#bd3786"
             ],
             [
              0.5555555555555556,
              "#d8576b"
             ],
             [
              0.6666666666666666,
              "#ed7953"
             ],
             [
              0.7777777777777778,
              "#fb9f3a"
             ],
             [
              0.8888888888888888,
              "#fdca26"
             ],
             [
              1,
              "#f0f921"
             ]
            ],
            "type": "histogram2d"
           }
          ],
          "histogram2dcontour": [
           {
            "colorbar": {
             "outlinewidth": 0,
             "ticks": ""
            },
            "colorscale": [
             [
              0,
              "#0d0887"
             ],
             [
              0.1111111111111111,
              "#46039f"
             ],
             [
              0.2222222222222222,
              "#7201a8"
             ],
             [
              0.3333333333333333,
              "#9c179e"
             ],
             [
              0.4444444444444444,
              "#bd3786"
             ],
             [
              0.5555555555555556,
              "#d8576b"
             ],
             [
              0.6666666666666666,
              "#ed7953"
             ],
             [
              0.7777777777777778,
              "#fb9f3a"
             ],
             [
              0.8888888888888888,
              "#fdca26"
             ],
             [
              1,
              "#f0f921"
             ]
            ],
            "type": "histogram2dcontour"
           }
          ],
          "mesh3d": [
           {
            "colorbar": {
             "outlinewidth": 0,
             "ticks": ""
            },
            "type": "mesh3d"
           }
          ],
          "parcoords": [
           {
            "line": {
             "colorbar": {
              "outlinewidth": 0,
              "ticks": ""
             }
            },
            "type": "parcoords"
           }
          ],
          "pie": [
           {
            "automargin": true,
            "type": "pie"
           }
          ],
          "scatter": [
           {
            "fillpattern": {
             "fillmode": "overlay",
             "size": 10,
             "solidity": 0.2
            },
            "type": "scatter"
           }
          ],
          "scatter3d": [
           {
            "line": {
             "colorbar": {
              "outlinewidth": 0,
              "ticks": ""
             }
            },
            "marker": {
             "colorbar": {
              "outlinewidth": 0,
              "ticks": ""
             }
            },
            "type": "scatter3d"
           }
          ],
          "scattercarpet": [
           {
            "marker": {
             "colorbar": {
              "outlinewidth": 0,
              "ticks": ""
             }
            },
            "type": "scattercarpet"
           }
          ],
          "scattergeo": [
           {
            "marker": {
             "colorbar": {
              "outlinewidth": 0,
              "ticks": ""
             }
            },
            "type": "scattergeo"
           }
          ],
          "scattergl": [
           {
            "marker": {
             "colorbar": {
              "outlinewidth": 0,
              "ticks": ""
             }
            },
            "type": "scattergl"
           }
          ],
          "scattermapbox": [
           {
            "marker": {
             "colorbar": {
              "outlinewidth": 0,
              "ticks": ""
             }
            },
            "type": "scattermapbox"
           }
          ],
          "scatterpolar": [
           {
            "marker": {
             "colorbar": {
              "outlinewidth": 0,
              "ticks": ""
             }
            },
            "type": "scatterpolar"
           }
          ],
          "scatterpolargl": [
           {
            "marker": {
             "colorbar": {
              "outlinewidth": 0,
              "ticks": ""
             }
            },
            "type": "scatterpolargl"
           }
          ],
          "scatterternary": [
           {
            "marker": {
             "colorbar": {
              "outlinewidth": 0,
              "ticks": ""
             }
            },
            "type": "scatterternary"
           }
          ],
          "surface": [
           {
            "colorbar": {
             "outlinewidth": 0,
             "ticks": ""
            },
            "colorscale": [
             [
              0,
              "#0d0887"
             ],
             [
              0.1111111111111111,
              "#46039f"
             ],
             [
              0.2222222222222222,
              "#7201a8"
             ],
             [
              0.3333333333333333,
              "#9c179e"
             ],
             [
              0.4444444444444444,
              "#bd3786"
             ],
             [
              0.5555555555555556,
              "#d8576b"
             ],
             [
              0.6666666666666666,
              "#ed7953"
             ],
             [
              0.7777777777777778,
              "#fb9f3a"
             ],
             [
              0.8888888888888888,
              "#fdca26"
             ],
             [
              1,
              "#f0f921"
             ]
            ],
            "type": "surface"
           }
          ],
          "table": [
           {
            "cells": {
             "fill": {
              "color": "#EBF0F8"
             },
             "line": {
              "color": "white"
             }
            },
            "header": {
             "fill": {
              "color": "#C8D4E3"
             },
             "line": {
              "color": "white"
             }
            },
            "type": "table"
           }
          ]
         },
         "layout": {
          "annotationdefaults": {
           "arrowcolor": "#2a3f5f",
           "arrowhead": 0,
           "arrowwidth": 1
          },
          "autotypenumbers": "strict",
          "coloraxis": {
           "colorbar": {
            "outlinewidth": 0,
            "ticks": ""
           }
          },
          "colorscale": {
           "diverging": [
            [
             0,
             "#8e0152"
            ],
            [
             0.1,
             "#c51b7d"
            ],
            [
             0.2,
             "#de77ae"
            ],
            [
             0.3,
             "#f1b6da"
            ],
            [
             0.4,
             "#fde0ef"
            ],
            [
             0.5,
             "#f7f7f7"
            ],
            [
             0.6,
             "#e6f5d0"
            ],
            [
             0.7,
             "#b8e186"
            ],
            [
             0.8,
             "#7fbc41"
            ],
            [
             0.9,
             "#4d9221"
            ],
            [
             1,
             "#276419"
            ]
           ],
           "sequential": [
            [
             0,
             "#0d0887"
            ],
            [
             0.1111111111111111,
             "#46039f"
            ],
            [
             0.2222222222222222,
             "#7201a8"
            ],
            [
             0.3333333333333333,
             "#9c179e"
            ],
            [
             0.4444444444444444,
             "#bd3786"
            ],
            [
             0.5555555555555556,
             "#d8576b"
            ],
            [
             0.6666666666666666,
             "#ed7953"
            ],
            [
             0.7777777777777778,
             "#fb9f3a"
            ],
            [
             0.8888888888888888,
             "#fdca26"
            ],
            [
             1,
             "#f0f921"
            ]
           ],
           "sequentialminus": [
            [
             0,
             "#0d0887"
            ],
            [
             0.1111111111111111,
             "#46039f"
            ],
            [
             0.2222222222222222,
             "#7201a8"
            ],
            [
             0.3333333333333333,
             "#9c179e"
            ],
            [
             0.4444444444444444,
             "#bd3786"
            ],
            [
             0.5555555555555556,
             "#d8576b"
            ],
            [
             0.6666666666666666,
             "#ed7953"
            ],
            [
             0.7777777777777778,
             "#fb9f3a"
            ],
            [
             0.8888888888888888,
             "#fdca26"
            ],
            [
             1,
             "#f0f921"
            ]
           ]
          },
          "colorway": [
           "#636efa",
           "#EF553B",
           "#00cc96",
           "#ab63fa",
           "#FFA15A",
           "#19d3f3",
           "#FF6692",
           "#B6E880",
           "#FF97FF",
           "#FECB52"
          ],
          "font": {
           "color": "#2a3f5f"
          },
          "geo": {
           "bgcolor": "white",
           "lakecolor": "white",
           "landcolor": "#E5ECF6",
           "showlakes": true,
           "showland": true,
           "subunitcolor": "white"
          },
          "hoverlabel": {
           "align": "left"
          },
          "hovermode": "closest",
          "mapbox": {
           "style": "light"
          },
          "paper_bgcolor": "white",
          "plot_bgcolor": "#E5ECF6",
          "polar": {
           "angularaxis": {
            "gridcolor": "white",
            "linecolor": "white",
            "ticks": ""
           },
           "bgcolor": "#E5ECF6",
           "radialaxis": {
            "gridcolor": "white",
            "linecolor": "white",
            "ticks": ""
           }
          },
          "scene": {
           "xaxis": {
            "backgroundcolor": "#E5ECF6",
            "gridcolor": "white",
            "gridwidth": 2,
            "linecolor": "white",
            "showbackground": true,
            "ticks": "",
            "zerolinecolor": "white"
           },
           "yaxis": {
            "backgroundcolor": "#E5ECF6",
            "gridcolor": "white",
            "gridwidth": 2,
            "linecolor": "white",
            "showbackground": true,
            "ticks": "",
            "zerolinecolor": "white"
           },
           "zaxis": {
            "backgroundcolor": "#E5ECF6",
            "gridcolor": "white",
            "gridwidth": 2,
            "linecolor": "white",
            "showbackground": true,
            "ticks": "",
            "zerolinecolor": "white"
           }
          },
          "shapedefaults": {
           "line": {
            "color": "#2a3f5f"
           }
          },
          "ternary": {
           "aaxis": {
            "gridcolor": "white",
            "linecolor": "white",
            "ticks": ""
           },
           "baxis": {
            "gridcolor": "white",
            "linecolor": "white",
            "ticks": ""
           },
           "bgcolor": "#E5ECF6",
           "caxis": {
            "gridcolor": "white",
            "linecolor": "white",
            "ticks": ""
           }
          },
          "title": {
           "x": 0.05
          },
          "xaxis": {
           "automargin": true,
           "gridcolor": "white",
           "linecolor": "white",
           "ticks": "",
           "title": {
            "standoff": 15
           },
           "zerolinecolor": "white",
           "zerolinewidth": 2
          },
          "yaxis": {
           "automargin": true,
           "gridcolor": "white",
           "linecolor": "white",
           "ticks": "",
           "title": {
            "standoff": 15
           },
           "zerolinecolor": "white",
           "zerolinewidth": 2
          }
         }
        }
       }
      }
     },
     "metadata": {},
     "output_type": "display_data"
    }
   ],
   "source": [
    "new_data_set[\"country\"] = new_data_set[\"CountryOfExploitation\"].apply(lambda x: get_name(x))\n",
    "new_data_set[\"alpha_3\"] = new_data_set[\"country\"].apply(lambda x: get_alpha3(x))\n",
    "data_map = pd.DataFrame(new_data_set.groupby([\"country\",\"alpha_3\"])[\"alpha_3\"].agg(Victims=\"count\")).reset_index()\n",
    "country_victims = data_map.groupby([\"alpha_3\"])[\"Victims\"].sum().reset_index()\n",
    "fig = px.choropleth(country_victims, locations = \"alpha_3\",\n",
    "                    color = \"Victims\",\n",
    "                    color_continuous_scale=\"Viridis_r\")\n",
    "\n",
    "fig.show()"
   ]
  },
  {
   "cell_type": "markdown",
   "metadata": {},
   "source": [
    "**Si bien los datos son duplicados, hay que recordar que son datos anonimizados, cada uno es una lectura de una victima de trata de humanos**"
   ]
  },
  {
   "cell_type": "markdown",
   "metadata": {},
   "source": [
    "### Descriptive stats data type\n",
    "\n",
    "There are two type of attributes in the data set, _nominal_ and _numeric_.\n",
    "The _numeric_ attributes are mostly _ordinal_ binary used to indicat if the attribute is present in a record, by the other side, _nominal_ attributes where converted to a __Categorical__ data type of the package of _pandas_"
   ]
  },
  {
   "cell_type": "code",
   "execution_count": 234,
   "metadata": {},
   "outputs": [
    {
     "data": {
      "text/html": [
       "<div>\n",
       "<style scoped>\n",
       "    .dataframe tbody tr th:only-of-type {\n",
       "        vertical-align: middle;\n",
       "    }\n",
       "\n",
       "    .dataframe tbody tr th {\n",
       "        vertical-align: top;\n",
       "    }\n",
       "\n",
       "    .dataframe thead th {\n",
       "        text-align: right;\n",
       "    }\n",
       "</style>\n",
       "<table border=\"1\" class=\"dataframe\">\n",
       "  <thead>\n",
       "    <tr style=\"text-align: right;\">\n",
       "      <th></th>\n",
       "      <th>isAbduction</th>\n",
       "      <th>recruiterRelationIntimatePartner</th>\n",
       "      <th>recruiterRelationFriend</th>\n",
       "      <th>recruiterRelationFamily</th>\n",
       "      <th>recruiterRelationOther</th>\n",
       "      <th>recruiterRelationUnknown</th>\n",
       "      <th>meansOfControlConcatenated_Debt bondage</th>\n",
       "      <th>meansOfControlConcatenated_Excessive working hours</th>\n",
       "      <th>meansOfControlConcatenated_False promises</th>\n",
       "      <th>meansOfControlConcatenated_Not specified</th>\n",
       "      <th>...</th>\n",
       "      <th>typeOfLabourConcatenated_Illicit activities</th>\n",
       "      <th>typeOfLabourConcatenated_Manufacturing</th>\n",
       "      <th>typeOfLabourConcatenated_Not specified</th>\n",
       "      <th>typeOfLabourConcatenated_Other</th>\n",
       "      <th>typeOfLabourConcatenated_Peddling</th>\n",
       "      <th>typeOfLabourConcatenated_Transportation</th>\n",
       "      <th>typeOfSexConcatenated_Pornography</th>\n",
       "      <th>typeOfSexConcatenated_Private sexual services</th>\n",
       "      <th>typeOfSexConcatenated_Prostitution</th>\n",
       "      <th>typeOfSexConcatenated_Remote interactive services</th>\n",
       "    </tr>\n",
       "  </thead>\n",
       "  <tbody>\n",
       "    <tr>\n",
       "      <th>count</th>\n",
       "      <td>25421.0</td>\n",
       "      <td>35886.0</td>\n",
       "      <td>35886.0</td>\n",
       "      <td>35886.0</td>\n",
       "      <td>35886.0</td>\n",
       "      <td>75436.0</td>\n",
       "      <td>75672.000000</td>\n",
       "      <td>75672.000000</td>\n",
       "      <td>75672.000000</td>\n",
       "      <td>75672.000000</td>\n",
       "      <td>...</td>\n",
       "      <td>75672.000000</td>\n",
       "      <td>75672.000000</td>\n",
       "      <td>75672.000000</td>\n",
       "      <td>75672.000000</td>\n",
       "      <td>75672.000000</td>\n",
       "      <td>75672.000000</td>\n",
       "      <td>75672.000000</td>\n",
       "      <td>75672.000000</td>\n",
       "      <td>75672.000000</td>\n",
       "      <td>75672.000000</td>\n",
       "    </tr>\n",
       "    <tr>\n",
       "      <th>mean</th>\n",
       "      <td>0.014319</td>\n",
       "      <td>0.100401</td>\n",
       "      <td>0.085354</td>\n",
       "      <td>0.091902</td>\n",
       "      <td>0.275372</td>\n",
       "      <td>0.742113</td>\n",
       "      <td>0.051089</td>\n",
       "      <td>0.071189</td>\n",
       "      <td>0.070475</td>\n",
       "      <td>0.566022</td>\n",
       "      <td>...</td>\n",
       "      <td>0.006039</td>\n",
       "      <td>0.010043</td>\n",
       "      <td>0.033130</td>\n",
       "      <td>0.031148</td>\n",
       "      <td>0.002207</td>\n",
       "      <td>0.000145</td>\n",
       "      <td>0.024659</td>\n",
       "      <td>0.006436</td>\n",
       "      <td>0.967346</td>\n",
       "      <td>0.001559</td>\n",
       "    </tr>\n",
       "    <tr>\n",
       "      <th>std</th>\n",
       "      <td>0.118804</td>\n",
       "      <td>0.300538</td>\n",
       "      <td>0.279411</td>\n",
       "      <td>0.288892</td>\n",
       "      <td>0.446708</td>\n",
       "      <td>0.437475</td>\n",
       "      <td>0.220181</td>\n",
       "      <td>0.257142</td>\n",
       "      <td>0.255948</td>\n",
       "      <td>0.495625</td>\n",
       "      <td>...</td>\n",
       "      <td>0.077478</td>\n",
       "      <td>0.099713</td>\n",
       "      <td>0.178977</td>\n",
       "      <td>0.173718</td>\n",
       "      <td>0.046926</td>\n",
       "      <td>0.012056</td>\n",
       "      <td>0.155085</td>\n",
       "      <td>0.079965</td>\n",
       "      <td>0.177731</td>\n",
       "      <td>0.039458</td>\n",
       "    </tr>\n",
       "    <tr>\n",
       "      <th>min</th>\n",
       "      <td>0.0</td>\n",
       "      <td>0.0</td>\n",
       "      <td>0.0</td>\n",
       "      <td>0.0</td>\n",
       "      <td>0.0</td>\n",
       "      <td>0.0</td>\n",
       "      <td>0.000000</td>\n",
       "      <td>0.000000</td>\n",
       "      <td>0.000000</td>\n",
       "      <td>0.000000</td>\n",
       "      <td>...</td>\n",
       "      <td>0.000000</td>\n",
       "      <td>0.000000</td>\n",
       "      <td>0.000000</td>\n",
       "      <td>0.000000</td>\n",
       "      <td>0.000000</td>\n",
       "      <td>0.000000</td>\n",
       "      <td>0.000000</td>\n",
       "      <td>0.000000</td>\n",
       "      <td>0.000000</td>\n",
       "      <td>0.000000</td>\n",
       "    </tr>\n",
       "    <tr>\n",
       "      <th>25%</th>\n",
       "      <td>0.0</td>\n",
       "      <td>0.0</td>\n",
       "      <td>0.0</td>\n",
       "      <td>0.0</td>\n",
       "      <td>0.0</td>\n",
       "      <td>0.0</td>\n",
       "      <td>0.000000</td>\n",
       "      <td>0.000000</td>\n",
       "      <td>0.000000</td>\n",
       "      <td>0.000000</td>\n",
       "      <td>...</td>\n",
       "      <td>0.000000</td>\n",
       "      <td>0.000000</td>\n",
       "      <td>0.000000</td>\n",
       "      <td>0.000000</td>\n",
       "      <td>0.000000</td>\n",
       "      <td>0.000000</td>\n",
       "      <td>0.000000</td>\n",
       "      <td>0.000000</td>\n",
       "      <td>1.000000</td>\n",
       "      <td>0.000000</td>\n",
       "    </tr>\n",
       "    <tr>\n",
       "      <th>50%</th>\n",
       "      <td>0.0</td>\n",
       "      <td>0.0</td>\n",
       "      <td>0.0</td>\n",
       "      <td>0.0</td>\n",
       "      <td>0.0</td>\n",
       "      <td>1.0</td>\n",
       "      <td>0.000000</td>\n",
       "      <td>0.000000</td>\n",
       "      <td>0.000000</td>\n",
       "      <td>1.000000</td>\n",
       "      <td>...</td>\n",
       "      <td>0.000000</td>\n",
       "      <td>0.000000</td>\n",
       "      <td>0.000000</td>\n",
       "      <td>0.000000</td>\n",
       "      <td>0.000000</td>\n",
       "      <td>0.000000</td>\n",
       "      <td>0.000000</td>\n",
       "      <td>0.000000</td>\n",
       "      <td>1.000000</td>\n",
       "      <td>0.000000</td>\n",
       "    </tr>\n",
       "    <tr>\n",
       "      <th>75%</th>\n",
       "      <td>0.0</td>\n",
       "      <td>0.0</td>\n",
       "      <td>0.0</td>\n",
       "      <td>0.0</td>\n",
       "      <td>1.0</td>\n",
       "      <td>1.0</td>\n",
       "      <td>0.000000</td>\n",
       "      <td>0.000000</td>\n",
       "      <td>0.000000</td>\n",
       "      <td>1.000000</td>\n",
       "      <td>...</td>\n",
       "      <td>0.000000</td>\n",
       "      <td>0.000000</td>\n",
       "      <td>0.000000</td>\n",
       "      <td>0.000000</td>\n",
       "      <td>0.000000</td>\n",
       "      <td>0.000000</td>\n",
       "      <td>0.000000</td>\n",
       "      <td>0.000000</td>\n",
       "      <td>1.000000</td>\n",
       "      <td>0.000000</td>\n",
       "    </tr>\n",
       "    <tr>\n",
       "      <th>max</th>\n",
       "      <td>1.0</td>\n",
       "      <td>1.0</td>\n",
       "      <td>1.0</td>\n",
       "      <td>1.0</td>\n",
       "      <td>1.0</td>\n",
       "      <td>1.0</td>\n",
       "      <td>1.000000</td>\n",
       "      <td>1.000000</td>\n",
       "      <td>1.000000</td>\n",
       "      <td>1.000000</td>\n",
       "      <td>...</td>\n",
       "      <td>1.000000</td>\n",
       "      <td>1.000000</td>\n",
       "      <td>1.000000</td>\n",
       "      <td>1.000000</td>\n",
       "      <td>1.000000</td>\n",
       "      <td>1.000000</td>\n",
       "      <td>1.000000</td>\n",
       "      <td>1.000000</td>\n",
       "      <td>1.000000</td>\n",
       "      <td>1.000000</td>\n",
       "    </tr>\n",
       "  </tbody>\n",
       "</table>\n",
       "<p>8 rows × 49 columns</p>\n",
       "</div>"
      ],
      "text/plain": [
       "       isAbduction  recruiterRelationIntimatePartner  recruiterRelationFriend  \\\n",
       "count      25421.0                           35886.0                  35886.0   \n",
       "mean      0.014319                          0.100401                 0.085354   \n",
       "std       0.118804                          0.300538                 0.279411   \n",
       "min            0.0                               0.0                      0.0   \n",
       "25%            0.0                               0.0                      0.0   \n",
       "50%            0.0                               0.0                      0.0   \n",
       "75%            0.0                               0.0                      0.0   \n",
       "max            1.0                               1.0                      1.0   \n",
       "\n",
       "       recruiterRelationFamily  recruiterRelationOther  \\\n",
       "count                  35886.0                 35886.0   \n",
       "mean                  0.091902                0.275372   \n",
       "std                   0.288892                0.446708   \n",
       "min                        0.0                     0.0   \n",
       "25%                        0.0                     0.0   \n",
       "50%                        0.0                     0.0   \n",
       "75%                        0.0                     1.0   \n",
       "max                        1.0                     1.0   \n",
       "\n",
       "       recruiterRelationUnknown  meansOfControlConcatenated_Debt bondage  \\\n",
       "count                   75436.0                             75672.000000   \n",
       "mean                   0.742113                                 0.051089   \n",
       "std                    0.437475                                 0.220181   \n",
       "min                         0.0                                 0.000000   \n",
       "25%                         0.0                                 0.000000   \n",
       "50%                         1.0                                 0.000000   \n",
       "75%                         1.0                                 0.000000   \n",
       "max                         1.0                                 1.000000   \n",
       "\n",
       "       meansOfControlConcatenated_Excessive working hours  \\\n",
       "count                                       75672.000000    \n",
       "mean                                            0.071189    \n",
       "std                                             0.257142    \n",
       "min                                             0.000000    \n",
       "25%                                             0.000000    \n",
       "50%                                             0.000000    \n",
       "75%                                             0.000000    \n",
       "max                                             1.000000    \n",
       "\n",
       "       meansOfControlConcatenated_False promises  \\\n",
       "count                               75672.000000   \n",
       "mean                                    0.070475   \n",
       "std                                     0.255948   \n",
       "min                                     0.000000   \n",
       "25%                                     0.000000   \n",
       "50%                                     0.000000   \n",
       "75%                                     0.000000   \n",
       "max                                     1.000000   \n",
       "\n",
       "       meansOfControlConcatenated_Not specified  ...  \\\n",
       "count                              75672.000000  ...   \n",
       "mean                                   0.566022  ...   \n",
       "std                                    0.495625  ...   \n",
       "min                                    0.000000  ...   \n",
       "25%                                    0.000000  ...   \n",
       "50%                                    1.000000  ...   \n",
       "75%                                    1.000000  ...   \n",
       "max                                    1.000000  ...   \n",
       "\n",
       "       typeOfLabourConcatenated_Illicit activities  \\\n",
       "count                                 75672.000000   \n",
       "mean                                      0.006039   \n",
       "std                                       0.077478   \n",
       "min                                       0.000000   \n",
       "25%                                       0.000000   \n",
       "50%                                       0.000000   \n",
       "75%                                       0.000000   \n",
       "max                                       1.000000   \n",
       "\n",
       "       typeOfLabourConcatenated_Manufacturing  \\\n",
       "count                            75672.000000   \n",
       "mean                                 0.010043   \n",
       "std                                  0.099713   \n",
       "min                                  0.000000   \n",
       "25%                                  0.000000   \n",
       "50%                                  0.000000   \n",
       "75%                                  0.000000   \n",
       "max                                  1.000000   \n",
       "\n",
       "       typeOfLabourConcatenated_Not specified  typeOfLabourConcatenated_Other  \\\n",
       "count                            75672.000000                    75672.000000   \n",
       "mean                                 0.033130                        0.031148   \n",
       "std                                  0.178977                        0.173718   \n",
       "min                                  0.000000                        0.000000   \n",
       "25%                                  0.000000                        0.000000   \n",
       "50%                                  0.000000                        0.000000   \n",
       "75%                                  0.000000                        0.000000   \n",
       "max                                  1.000000                        1.000000   \n",
       "\n",
       "       typeOfLabourConcatenated_Peddling  \\\n",
       "count                       75672.000000   \n",
       "mean                            0.002207   \n",
       "std                             0.046926   \n",
       "min                             0.000000   \n",
       "25%                             0.000000   \n",
       "50%                             0.000000   \n",
       "75%                             0.000000   \n",
       "max                             1.000000   \n",
       "\n",
       "       typeOfLabourConcatenated_Transportation  \\\n",
       "count                             75672.000000   \n",
       "mean                                  0.000145   \n",
       "std                                   0.012056   \n",
       "min                                   0.000000   \n",
       "25%                                   0.000000   \n",
       "50%                                   0.000000   \n",
       "75%                                   0.000000   \n",
       "max                                   1.000000   \n",
       "\n",
       "       typeOfSexConcatenated_Pornography  \\\n",
       "count                       75672.000000   \n",
       "mean                            0.024659   \n",
       "std                             0.155085   \n",
       "min                             0.000000   \n",
       "25%                             0.000000   \n",
       "50%                             0.000000   \n",
       "75%                             0.000000   \n",
       "max                             1.000000   \n",
       "\n",
       "       typeOfSexConcatenated_Private sexual services  \\\n",
       "count                                   75672.000000   \n",
       "mean                                        0.006436   \n",
       "std                                         0.079965   \n",
       "min                                         0.000000   \n",
       "25%                                         0.000000   \n",
       "50%                                         0.000000   \n",
       "75%                                         0.000000   \n",
       "max                                         1.000000   \n",
       "\n",
       "       typeOfSexConcatenated_Prostitution  \\\n",
       "count                        75672.000000   \n",
       "mean                             0.967346   \n",
       "std                              0.177731   \n",
       "min                              0.000000   \n",
       "25%                              1.000000   \n",
       "50%                              1.000000   \n",
       "75%                              1.000000   \n",
       "max                              1.000000   \n",
       "\n",
       "       typeOfSexConcatenated_Remote interactive services  \n",
       "count                                       75672.000000  \n",
       "mean                                            0.001559  \n",
       "std                                             0.039458  \n",
       "min                                             0.000000  \n",
       "25%                                             0.000000  \n",
       "50%                                             0.000000  \n",
       "75%                                             0.000000  \n",
       "max                                             1.000000  \n",
       "\n",
       "[8 rows x 49 columns]"
      ]
     },
     "execution_count": 234,
     "metadata": {},
     "output_type": "execute_result"
    }
   ],
   "source": [
    "# Numeric attributes description\n",
    "new_data_set.describe(exclude=['category', 'O'])"
   ]
  },
  {
   "cell_type": "code",
   "execution_count": 235,
   "metadata": {},
   "outputs": [
    {
     "data": {
      "text/html": [
       "<div>\n",
       "<style scoped>\n",
       "    .dataframe tbody tr th:only-of-type {\n",
       "        vertical-align: middle;\n",
       "    }\n",
       "\n",
       "    .dataframe tbody tr th {\n",
       "        vertical-align: top;\n",
       "    }\n",
       "\n",
       "    .dataframe thead th {\n",
       "        text-align: right;\n",
       "    }\n",
       "</style>\n",
       "<table border=\"1\" class=\"dataframe\">\n",
       "  <thead>\n",
       "    <tr style=\"text-align: right;\">\n",
       "      <th></th>\n",
       "      <th>yearOfRegistration</th>\n",
       "      <th>Datasource</th>\n",
       "      <th>gender</th>\n",
       "      <th>ageBroad</th>\n",
       "      <th>majorityStatus</th>\n",
       "      <th>majorityStatusAtExploit</th>\n",
       "      <th>majorityEntry</th>\n",
       "      <th>citizenship</th>\n",
       "      <th>CountryOfExploitation</th>\n",
       "      <th>country</th>\n",
       "      <th>alpha_3</th>\n",
       "    </tr>\n",
       "  </thead>\n",
       "  <tbody>\n",
       "    <tr>\n",
       "      <th>count</th>\n",
       "      <td>75440</td>\n",
       "      <td>75672</td>\n",
       "      <td>68793</td>\n",
       "      <td>30342</td>\n",
       "      <td>50621</td>\n",
       "      <td>21258</td>\n",
       "      <td>4092</td>\n",
       "      <td>32592</td>\n",
       "      <td>64217</td>\n",
       "      <td>32592</td>\n",
       "      <td>32592</td>\n",
       "    </tr>\n",
       "    <tr>\n",
       "      <th>unique</th>\n",
       "      <td>20</td>\n",
       "      <td>2</td>\n",
       "      <td>3</td>\n",
       "      <td>9</td>\n",
       "      <td>2</td>\n",
       "      <td>2</td>\n",
       "      <td>2</td>\n",
       "      <td>60</td>\n",
       "      <td>77</td>\n",
       "      <td>60</td>\n",
       "      <td>60</td>\n",
       "    </tr>\n",
       "    <tr>\n",
       "      <th>top</th>\n",
       "      <td>2019</td>\n",
       "      <td>Hotline</td>\n",
       "      <td>Female</td>\n",
       "      <td>9--17</td>\n",
       "      <td>Adult</td>\n",
       "      <td>Minor</td>\n",
       "      <td>Adult</td>\n",
       "      <td>PH</td>\n",
       "      <td>US</td>\n",
       "      <td>Philippines</td>\n",
       "      <td>PHL</td>\n",
       "    </tr>\n",
       "    <tr>\n",
       "      <th>freq</th>\n",
       "      <td>20285</td>\n",
       "      <td>52606</td>\n",
       "      <td>56000</td>\n",
       "      <td>8939</td>\n",
       "      <td>36087</td>\n",
       "      <td>14238</td>\n",
       "      <td>3214</td>\n",
       "      <td>10296</td>\n",
       "      <td>51610</td>\n",
       "      <td>10296</td>\n",
       "      <td>10296</td>\n",
       "    </tr>\n",
       "  </tbody>\n",
       "</table>\n",
       "</div>"
      ],
      "text/plain": [
       "        yearOfRegistration Datasource  gender ageBroad majorityStatus  \\\n",
       "count                75440      75672   68793    30342          50621   \n",
       "unique                  20          2       3        9              2   \n",
       "top                   2019    Hotline  Female    9--17          Adult   \n",
       "freq                 20285      52606   56000     8939          36087   \n",
       "\n",
       "       majorityStatusAtExploit majorityEntry citizenship  \\\n",
       "count                    21258          4092       32592   \n",
       "unique                       2             2          60   \n",
       "top                      Minor         Adult          PH   \n",
       "freq                     14238          3214       10296   \n",
       "\n",
       "       CountryOfExploitation      country alpha_3  \n",
       "count                  64217        32592   32592  \n",
       "unique                    77           60      60  \n",
       "top                       US  Philippines     PHL  \n",
       "freq                   51610        10296   10296  "
      ]
     },
     "execution_count": 235,
     "metadata": {},
     "output_type": "execute_result"
    }
   ],
   "source": [
    "# Nominal attributes\n",
    "new_data_set.describe(include=['category'])"
   ]
  },
  {
   "cell_type": "markdown",
   "metadata": {},
   "source": [
    "### Plots\n",
    "Graphical description of the attributes and the relations between each other, the plot used to describe the data are _bar_, _word cloud_, _scatter_, _box_.\n",
    "The objetive is observe potential trends, frecuencies and relationships."
   ]
  },
  {
   "cell_type": "code",
   "execution_count": 236,
   "metadata": {},
   "outputs": [
    {
     "data": {
      "image/png": "[encoded data removed]",
      "text/plain": [
       "<Figure size 640x480 with 1 Axes>"
      ]
     },
     "metadata": {},
     "output_type": "display_data"
    }
   ],
   "source": [
    "# Gender of the individuals\n",
    "plot = new_data_set['gender'].value_counts().plot.bar(ylabel='frecuency', xlabel='gender')\n",
    "labels = [label.set_rotation('horizontal') for label in plot.get_xticklabels()]\n",
    "plot.margins(x=0, y=0.3)"
   ]
  },
  {
   "cell_type": "code",
   "execution_count": 262,
   "metadata": {},
   "outputs": [
    {
     "data": {
      "image/png": "[encoded data removed]",
      "text/plain": [
       "<Figure size 600x600 with 1 Axes>"
      ]
     },
     "metadata": {},
     "output_type": "display_data"
    }
   ],
   "source": [
    "# Crear un gráfico donut para la columna 'gender'\n",
    "gender_counts = new_data_set['gender'].value_counts()\n",
    "fig, ax = plt.subplots(figsize=(6, 6))\n",
    "wedges, texts, autotexts = ax.pie(gender_counts, labels=gender_counts.index, autopct='', startangle=90, wedgeprops=dict(width=0.4, edgecolor='w'))\n",
    "\n",
    "# Agregar un círculo en el centro para crear el agujero\n",
    "center_circle = plt.Circle((0, 0), 0.3, color='white')\n",
    "fig.gca().add_artist(center_circle)\n",
    "\n",
    "# Obtener las cantidades numéricas\n",
    "total = sum(gender_counts)\n",
    "numeric_labels = [f'{count}\\n({count/total*100:.1f}%)' for count in gender_counts]\n",
    "\n",
    "# Agregar las cantidades numéricas como anotaciones\n",
    "for i, autotext in enumerate(autotexts):\n",
    "    autotext.set_text(numeric_labels[i])\n",
    "\n",
    "# Título del gráfico\n",
    "plt.title('Distribución de género')\n",
    "\n",
    "# Mostrar el gráfico\n",
    "plt.axis('equal')  # Esto asegura que el gráfico se vea como un círculo\n",
    "plt.show()"
   ]
  },
  {
   "cell_type": "code",
   "execution_count": 266,
   "metadata": {},
   "outputs": [
    {
     "data": {
      "application/vnd.plotly.v1+json": {
       "config": {
        "plotlyServerURL": "https://plot.ly"
       },
       "data": [
        {
         "alignmentgroup": "True",
         "hovertemplate": "gender=Male<br>ageBroad=%{x}<br>count=%{text}<extra></extra>",
         "legendgroup": "Male",
         "marker": {
          "color": "#636efa",
          "pattern": {
           "shape": ""
          }
         },
         "name": "Male",
         "offsetgroup": "Male",
         "orientation": "v",
         "showlegend": true,
         "text": [
          284,
          1263,
          135,
          187,
          242,
          275,
          1611,
          792,
          347
         ],
         "textposition": "auto",
         "type": "bar",
         "x": [
          "0--8",
          "9--17",
          "18--20",
          "21--23",
          "24--26",
          "27--29",
          "30--38",
          "39--47",
          "48+"
         ],
         "xaxis": "x",
         "y": [
          284,
          1263,
          135,
          187,
          242,
          275,
          1611,
          792,
          347
         ],
         "yaxis": "y"
        },
        {
         "alignmentgroup": "True",
         "hovertemplate": "gender=Female<br>ageBroad=%{x}<br>count=%{text}<extra></extra>",
         "legendgroup": "Female",
         "marker": {
          "color": "#EF553B",
          "pattern": {
           "shape": ""
          }
         },
         "name": "Female",
         "offsetgroup": "Female",
         "orientation": "v",
         "showlegend": true,
         "text": [
          421,
          7514,
          4267,
          3412,
          2568,
          1617,
          3521,
          1054,
          605
         ],
         "textposition": "auto",
         "type": "bar",
         "x": [
          "0--8",
          "9--17",
          "18--20",
          "21--23",
          "24--26",
          "27--29",
          "30--38",
          "39--47",
          "48+"
         ],
         "xaxis": "x",
         "y": [
          421,
          7514,
          4267,
          3412,
          2568,
          1617,
          3521,
          1054,
          605
         ],
         "yaxis": "y"
        },
        {
         "alignmentgroup": "True",
         "hovertemplate": "gender=Transgender/NonConforming<br>ageBroad=%{x}<br>count=%{text}<extra></extra>",
         "legendgroup": "Transgender/NonConforming",
         "marker": {
          "color": "#00cc96",
          "pattern": {
           "shape": ""
          }
         },
         "name": "Transgender/NonConforming",
         "offsetgroup": "Transgender/NonConforming",
         "orientation": "v",
         "showlegend": true,
         "text": [
          0,
          0,
          0,
          0,
          0,
          0,
          0,
          0,
          0
         ],
         "textposition": "auto",
         "type": "bar",
         "x": [
          "0--8",
          "9--17",
          "18--20",
          "21--23",
          "24--26",
          "27--29",
          "30--38",
          "39--47",
          "48+"
         ],
         "xaxis": "x",
         "y": [
          0,
          0,
          0,
          0,
          0,
          0,
          0,
          0,
          0
         ],
         "yaxis": "y"
        }
       ],
       "layout": {
        "barmode": "relative",
        "legend": {
         "title": {
          "text": "gender"
         },
         "tracegroupgap": 0
        },
        "template": {
         "data": {
          "bar": [
           {
            "error_x": {
             "color": "#2a3f5f"
            },
            "error_y": {
             "color": "#2a3f5f"
            },
            "marker": {
             "line": {
              "color": "#E5ECF6",
              "width": 0.5
             },
             "pattern": {
              "fillmode": "overlay",
              "size": 10,
              "solidity": 0.2
             }
            },
            "type": "bar"
           }
          ],
          "barpolar": [
           {
            "marker": {
             "line": {
              "color": "#E5ECF6",
              "width": 0.5
             },
             "pattern": {
              "fillmode": "overlay",
              "size": 10,
              "solidity": 0.2
             }
            },
            "type": "barpolar"
           }
          ],
          "carpet": [
           {
            "aaxis": {
             "endlinecolor": "#2a3f5f",
             "gridcolor": "white",
             "linecolor": "white",
             "minorgridcolor": "white",
             "startlinecolor": "#2a3f5f"
            },
            "baxis": {
             "endlinecolor": "#2a3f5f",
             "gridcolor": "white",
             "linecolor": "white",
             "minorgridcolor": "white",
             "startlinecolor": "#2a3f5f"
            },
            "type": "carpet"
           }
          ],
          "choropleth": [
           {
            "colorbar": {
             "outlinewidth": 0,
             "ticks": ""
            },
            "type": "choropleth"
           }
          ],
          "contour": [
           {
            "colorbar": {
             "outlinewidth": 0,
             "ticks": ""
            },
            "colorscale": [
             [
              0,
              "#0d0887"
             ],
             [
              0.1111111111111111,
              "#46039f"
             ],
             [
              0.2222222222222222,
              "#7201a8"
             ],
             [
              0.3333333333333333,
              "#9c179e"
             ],
             [
              0.4444444444444444,
              "#bd3786"
             ],
             [
              0.5555555555555556,
              "#d8576b"
             ],
             [
              0.6666666666666666,
              "#ed7953"
             ],
             [
              0.7777777777777778,
              "#fb9f3a"
             ],
             [
              0.8888888888888888,
              "#fdca26"
             ],
             [
              1,
              "#f0f921"
             ]
            ],
            "type": "contour"
           }
          ],
          "contourcarpet": [
           {
            "colorbar": {
             "outlinewidth": 0,
             "ticks": ""
            },
            "type": "contourcarpet"
           }
          ],
          "heatmap": [
           {
            "colorbar": {
             "outlinewidth": 0,
             "ticks": ""
            },
            "colorscale": [
             [
              0,
              "#0d0887"
             ],
             [
              0.1111111111111111,
              "#46039f"
             ],
             [
              0.2222222222222222,
              "#7201a8"
             ],
             [
              0.3333333333333333,
              "#9c179e"
             ],
             [
              0.4444444444444444,
              "#bd3786"
             ],
             [
              0.5555555555555556,
              "#d8576b"
             ],
             [
              0.6666666666666666,
              "#ed7953"
             ],
             [
              0.7777777777777778,
              "#fb9f3a"
             ],
             [
              0.8888888888888888,
              "#fdca26"
             ],
             [
              1,
              "#f0f921"
             ]
            ],
            "type": "heatmap"
           }
          ],
          "heatmapgl": [
           {
            "colorbar": {
             "outlinewidth": 0,
             "ticks": ""
            },
            "colorscale": [
             [
              0,
              "#0d0887"
             ],
             [
              0.1111111111111111,
              "#46039f"
             ],
             [
              0.2222222222222222,
              "#7201a8"
             ],
             [
              0.3333333333333333,
              "#9c179e"
             ],
             [
              0.4444444444444444,
              "#bd3786"
             ],
             [
              0.5555555555555556,
              "#d8576b"
             ],
             [
              0.6666666666666666,
              "#ed7953"
             ],
             [
              0.7777777777777778,
              "#fb9f3a"
             ],
             [
              0.8888888888888888,
              "#fdca26"
             ],
             [
              1,
              "#f0f921"
             ]
            ],
            "type": "heatmapgl"
           }
          ],
          "histogram": [
           {
            "marker": {
             "pattern": {
              "fillmode": "overlay",
              "size": 10,
              "solidity": 0.2
             }
            },
            "type": "histogram"
           }
          ],
          "histogram2d": [
           {
            "colorbar": {
             "outlinewidth": 0,
             "ticks": ""
            },
            "colorscale": [
             [
              0,
              "#0d0887"
             ],
             [
              0.1111111111111111,
              "#46039f"
             ],
             [
              0.2222222222222222,
              "#7201a8"
             ],
             [
              0.3333333333333333,
              "#9c179e"
             ],
             [
              0.4444444444444444,
              "#bd3786"
             ],
             [
              0.5555555555555556,
              "#d8576b"
             ],
             [
              0.6666666666666666,
              "#ed7953"
             ],
             [
              0.7777777777777778,
              "#fb9f3a"
             ],
             [
              0.8888888888888888,
              "#fdca26"
             ],
             [
              1,
              "#f0f921"
             ]
            ],
            "type": "histogram2d"
           }
          ],
          "histogram2dcontour": [
           {
            "colorbar": {
             "outlinewidth": 0,
             "ticks": ""
            },
            "colorscale": [
             [
              0,
              "#0d0887"
             ],
             [
              0.1111111111111111,
              "#46039f"
             ],
             [
              0.2222222222222222,
              "#7201a8"
             ],
             [
              0.3333333333333333,
              "#9c179e"
             ],
             [
              0.4444444444444444,
              "#bd3786"
             ],
             [
              0.5555555555555556,
              "#d8576b"
             ],
             [
              0.6666666666666666,
              "#ed7953"
             ],
             [
              0.7777777777777778,
              "#fb9f3a"
             ],
             [
              0.8888888888888888,
              "#fdca26"
             ],
             [
              1,
              "#f0f921"
             ]
            ],
            "type": "histogram2dcontour"
           }
          ],
          "mesh3d": [
           {
            "colorbar": {
             "outlinewidth": 0,
             "ticks": ""
            },
            "type": "mesh3d"
           }
          ],
          "parcoords": [
           {
            "line": {
             "colorbar": {
              "outlinewidth": 0,
              "ticks": ""
             }
            },
            "type": "parcoords"
           }
          ],
          "pie": [
           {
            "automargin": true,
            "type": "pie"
           }
          ],
          "scatter": [
           {
            "fillpattern": {
             "fillmode": "overlay",
             "size": 10,
             "solidity": 0.2
            },
            "type": "scatter"
           }
          ],
          "scatter3d": [
           {
            "line": {
             "colorbar": {
              "outlinewidth": 0,
              "ticks": ""
             }
            },
            "marker": {
             "colorbar": {
              "outlinewidth": 0,
              "ticks": ""
             }
            },
            "type": "scatter3d"
           }
          ],
          "scattercarpet": [
           {
            "marker": {
             "colorbar": {
              "outlinewidth": 0,
              "ticks": ""
             }
            },
            "type": "scattercarpet"
           }
          ],
          "scattergeo": [
           {
            "marker": {
             "colorbar": {
              "outlinewidth": 0,
              "ticks": ""
             }
            },
            "type": "scattergeo"
           }
          ],
          "scattergl": [
           {
            "marker": {
             "colorbar": {
              "outlinewidth": 0,
              "ticks": ""
             }
            },
            "type": "scattergl"
           }
          ],
          "scattermapbox": [
           {
            "marker": {
             "colorbar": {
              "outlinewidth": 0,
              "ticks": ""
             }
            },
            "type": "scattermapbox"
           }
          ],
          "scatterpolar": [
           {
            "marker": {
             "colorbar": {
              "outlinewidth": 0,
              "ticks": ""
             }
            },
            "type": "scatterpolar"
           }
          ],
          "scatterpolargl": [
           {
            "marker": {
             "colorbar": {
              "outlinewidth": 0,
              "ticks": ""
             }
            },
            "type": "scatterpolargl"
           }
          ],
          "scatterternary": [
           {
            "marker": {
             "colorbar": {
              "outlinewidth": 0,
              "ticks": ""
             }
            },
            "type": "scatterternary"
           }
          ],
          "surface": [
           {
            "colorbar": {
             "outlinewidth": 0,
             "ticks": ""
            },
            "colorscale": [
             [
              0,
              "#0d0887"
             ],
             [
              0.1111111111111111,
              "#46039f"
             ],
             [
              0.2222222222222222,
              "#7201a8"
             ],
             [
              0.3333333333333333,
              "#9c179e"
             ],
             [
              0.4444444444444444,
              "#bd3786"
             ],
             [
              0.5555555555555556,
              "#d8576b"
             ],
             [
              0.6666666666666666,
              "#ed7953"
             ],
             [
              0.7777777777777778,
              "#fb9f3a"
             ],
             [
              0.8888888888888888,
              "#fdca26"
             ],
             [
              1,
              "#f0f921"
             ]
            ],
            "type": "surface"
           }
          ],
          "table": [
           {
            "cells": {
             "fill": {
              "color": "#EBF0F8"
             },
             "line": {
              "color": "white"
             }
            },
            "header": {
             "fill": {
              "color": "#C8D4E3"
             },
             "line": {
              "color": "white"
             }
            },
            "type": "table"
           }
          ]
         },
         "layout": {
          "annotationdefaults": {
           "arrowcolor": "#2a3f5f",
           "arrowhead": 0,
           "arrowwidth": 1
          },
          "autotypenumbers": "strict",
          "coloraxis": {
           "colorbar": {
            "outlinewidth": 0,
            "ticks": ""
           }
          },
          "colorscale": {
           "diverging": [
            [
             0,
             "#8e0152"
            ],
            [
             0.1,
             "#c51b7d"
            ],
            [
             0.2,
             "#de77ae"
            ],
            [
             0.3,
             "#f1b6da"
            ],
            [
             0.4,
             "#fde0ef"
            ],
            [
             0.5,
             "#f7f7f7"
            ],
            [
             0.6,
             "#e6f5d0"
            ],
            [
             0.7,
             "#b8e186"
            ],
            [
             0.8,
             "#7fbc41"
            ],
            [
             0.9,
             "#4d9221"
            ],
            [
             1,
             "#276419"
            ]
           ],
           "sequential": [
            [
             0,
             "#0d0887"
            ],
            [
             0.1111111111111111,
             "#46039f"
            ],
            [
             0.2222222222222222,
             "#7201a8"
            ],
            [
             0.3333333333333333,
             "#9c179e"
            ],
            [
             0.4444444444444444,
             "#bd3786"
            ],
            [
             0.5555555555555556,
             "#d8576b"
            ],
            [
             0.6666666666666666,
             "#ed7953"
            ],
            [
             0.7777777777777778,
             "#fb9f3a"
            ],
            [
             0.8888888888888888,
             "#fdca26"
            ],
            [
             1,
             "#f0f921"
            ]
           ],
           "sequentialminus": [
            [
             0,
             "#0d0887"
            ],
            [
             0.1111111111111111,
             "#46039f"
            ],
            [
             0.2222222222222222,
             "#7201a8"
            ],
            [
             0.3333333333333333,
             "#9c179e"
            ],
            [
             0.4444444444444444,
             "#bd3786"
            ],
            [
             0.5555555555555556,
             "#d8576b"
            ],
            [
             0.6666666666666666,
             "#ed7953"
            ],
            [
             0.7777777777777778,
             "#fb9f3a"
            ],
            [
             0.8888888888888888,
             "#fdca26"
            ],
            [
             1,
             "#f0f921"
            ]
           ]
          },
          "colorway": [
           "#636efa",
           "#EF553B",
           "#00cc96",
           "#ab63fa",
           "#FFA15A",
           "#19d3f3",
           "#FF6692",
           "#B6E880",
           "#FF97FF",
           "#FECB52"
          ],
          "font": {
           "color": "#2a3f5f"
          },
          "geo": {
           "bgcolor": "white",
           "lakecolor": "white",
           "landcolor": "#E5ECF6",
           "showlakes": true,
           "showland": true,
           "subunitcolor": "white"
          },
          "hoverlabel": {
           "align": "left"
          },
          "hovermode": "closest",
          "mapbox": {
           "style": "light"
          },
          "paper_bgcolor": "white",
          "plot_bgcolor": "#E5ECF6",
          "polar": {
           "angularaxis": {
            "gridcolor": "white",
            "linecolor": "white",
            "ticks": ""
           },
           "bgcolor": "#E5ECF6",
           "radialaxis": {
            "gridcolor": "white",
            "linecolor": "white",
            "ticks": ""
           }
          },
          "scene": {
           "xaxis": {
            "backgroundcolor": "#E5ECF6",
            "gridcolor": "white",
            "gridwidth": 2,
            "linecolor": "white",
            "showbackground": true,
            "ticks": "",
            "zerolinecolor": "white"
           },
           "yaxis": {
            "backgroundcolor": "#E5ECF6",
            "gridcolor": "white",
            "gridwidth": 2,
            "linecolor": "white",
            "showbackground": true,
            "ticks": "",
            "zerolinecolor": "white"
           },
           "zaxis": {
            "backgroundcolor": "#E5ECF6",
            "gridcolor": "white",
            "gridwidth": 2,
            "linecolor": "white",
            "showbackground": true,
            "ticks": "",
            "zerolinecolor": "white"
           }
          },
          "shapedefaults": {
           "line": {
            "color": "#2a3f5f"
           }
          },
          "ternary": {
           "aaxis": {
            "gridcolor": "white",
            "linecolor": "white",
            "ticks": ""
           },
           "baxis": {
            "gridcolor": "white",
            "linecolor": "white",
            "ticks": ""
           },
           "bgcolor": "#E5ECF6",
           "caxis": {
            "gridcolor": "white",
            "linecolor": "white",
            "ticks": ""
           }
          },
          "title": {
           "x": 0.05
          },
          "xaxis": {
           "automargin": true,
           "gridcolor": "white",
           "linecolor": "white",
           "ticks": "",
           "title": {
            "standoff": 15
           },
           "zerolinecolor": "white",
           "zerolinewidth": 2
          },
          "yaxis": {
           "automargin": true,
           "gridcolor": "white",
           "linecolor": "white",
           "ticks": "",
           "title": {
            "standoff": 15
           },
           "zerolinecolor": "white",
           "zerolinewidth": 2
          }
         }
        },
        "title": {
         "text": "Distribución de Género y Rango de Edades"
        },
        "xaxis": {
         "anchor": "y",
         "domain": [
          0,
          1
         ],
         "title": {
          "text": "ageBroad"
         }
        },
        "yaxis": {
         "anchor": "x",
         "domain": [
          0,
          1
         ],
         "title": {
          "text": "count"
         }
        }
       }
      }
     },
     "metadata": {},
     "output_type": "display_data"
    }
   ],
   "source": [
    "\n",
    "# Agrupar los datos por género y rango de edades\n",
    "grouped_data = new_data_set.groupby(['gender', 'ageBroad']).size().reset_index(name='count')\n",
    "\n",
    "# Crear el gráfico de barras agrupado con valores numéricos\n",
    "fig = px.bar(grouped_data, x='ageBroad', y='count', color='gender',\n",
    "             title='Distribución de Género y Rango de Edades',\n",
    "             text='count')  # Agregar los valores numéricos sobre las barras\n",
    "\n",
    "fig.show()"
   ]
  },
  {
   "cell_type": "code",
   "execution_count": 237,
   "metadata": {},
   "outputs": [
    {
     "data": {
      "image/png": "[encoded data removed]",
      "text/plain": [
       "<Figure size 640x480 with 1 Axes>"
      ]
     },
     "metadata": {},
     "output_type": "display_data"
    }
   ],
   "source": [
    "# Histogram of the age of the individual\n",
    "age_count = new_data_set['ageBroad'].value_counts()\n",
    "plot = new_data_set['ageBroad'].value_counts().plot.bar(xlabel=\"Age broad\", ylabel=\"Frecuency\")\n",
    "labels = [label.set_rotation('horizontal') for label in plot.get_xticklabels()]\n",
    "for bar, count in zip(plot.patches, age_count):\n",
    "    plot.text(\n",
    "        bar.get_x() + bar.get_width() / 2,\n",
    "        bar.get_height() + 300,\n",
    "        f\"{count}\",\n",
    "        horizontalalignment='center', verticalalignment='bottom',\n",
    "        fontsize=10, rotation=45, color='white')\n",
    "plot.margins(x=0, y=0.3)"
   ]
  },
  {
   "cell_type": "code",
   "execution_count": 238,
   "metadata": {},
   "outputs": [
    {
     "data": {
      "image/png": "[encoded data removed]",
      "text/plain": [
       "<Figure size 640x480 with 1 Axes>"
      ]
     },
     "metadata": {},
     "output_type": "display_data"
    }
   ],
   "source": [
    "# Word cloud of the individual citizen\n",
    "citizen = new_data_set['citizenship'].dropna().value_counts()\n",
    "\n",
    "word_image = word_cloud.generate_from_frequencies(citizen)\n",
    "plt.imshow(word_cloud, interpolation='bilinear',)\n",
    "plt.title('Individuals citizen')\n",
    "plt.axis('off')\n",
    "plt.show()"
   ]
  },
  {
   "cell_type": "code",
   "execution_count": 239,
   "metadata": {},
   "outputs": [
    {
     "data": {
      "image/png": "[encoded data removed]",
      "text/plain": [
       "<Figure size 640x480 with 1 Axes>"
      ]
     },
     "metadata": {},
     "output_type": "display_data"
    }
   ],
   "source": [
    "# Word cloud of the country where the individual were exploited\n",
    "country_exploit = new_data_set['CountryOfExploitation'].dropna().value_counts()\n",
    "\n",
    "word_image = word_cloud.generate_from_frequencies(country_exploit)\n",
    "plt.imshow(word_cloud, interpolation='bilinear')\n",
    "plt.title('Country of Explotation')\n",
    "plt.axis('off')\n",
    "plt.show()"
   ]
  },
  {
   "cell_type": "code",
   "execution_count": 240,
   "metadata": {},
   "outputs": [],
   "source": [
    "count_totals = raw_data.filter(regex='(Concatenated|Relationship)$')\n",
    "count_totals = count_totals.applymap(lambda x: len(x.split(';')), na_action='ignore').fillna(0).astype('int32')\n",
    "count_totals.rename(columns=lambda x: re.sub(r'(Concatenated)?$', 'Count', x, count=1), inplace=True)"
   ]
  },
  {
   "cell_type": "code",
   "execution_count": 241,
   "metadata": {},
   "outputs": [
    {
     "data": {
      "image/png": "[encoded data removed]",
      "text/plain": [
       "<Figure size 1000x600 with 1 Axes>"
      ]
     },
     "metadata": {},
     "output_type": "display_data"
    }
   ],
   "source": [
    "axis = count_totals.boxplot(\n",
    "    fontsize=8,\n",
    "    grid=False,\n",
    "    figsize=(10, 6),\n",
    "    showcaps=True,\n",
    "    flierprops={'marker': '.', 'markersize': 3},\n",
    "    showmeans=True,\n",
    "    meanline=True,)\n",
    "    # whis=(0, 98.54))\n",
    "axis.set_ylim(-1)\n",
    "title = axis.set_title('Total count of subcategories')"
   ]
  },
  {
   "cell_type": "code",
   "execution_count": 242,
   "metadata": {},
   "outputs": [
    {
     "data": {
      "text/html": [
       "<div>\n",
       "<style scoped>\n",
       "    .dataframe tbody tr th:only-of-type {\n",
       "        vertical-align: middle;\n",
       "    }\n",
       "\n",
       "    .dataframe tbody tr th {\n",
       "        vertical-align: top;\n",
       "    }\n",
       "\n",
       "    .dataframe thead th {\n",
       "        text-align: right;\n",
       "    }\n",
       "</style>\n",
       "<table border=\"1\" class=\"dataframe\">\n",
       "  <thead>\n",
       "    <tr style=\"text-align: right;\">\n",
       "      <th></th>\n",
       "      <th>yearOfRegistration</th>\n",
       "      <th>Datasource</th>\n",
       "      <th>gender</th>\n",
       "      <th>ageBroad</th>\n",
       "      <th>majorityStatus</th>\n",
       "      <th>majorityStatusAtExploit</th>\n",
       "      <th>majorityEntry</th>\n",
       "      <th>citizenship</th>\n",
       "      <th>isAbduction</th>\n",
       "      <th>RecruiterRelationship</th>\n",
       "      <th>...</th>\n",
       "      <th>typeOfLabourConcatenated_Not specified</th>\n",
       "      <th>typeOfLabourConcatenated_Other</th>\n",
       "      <th>typeOfLabourConcatenated_Peddling</th>\n",
       "      <th>typeOfLabourConcatenated_Transportation</th>\n",
       "      <th>typeOfSexConcatenated_Pornography</th>\n",
       "      <th>typeOfSexConcatenated_Private sexual services</th>\n",
       "      <th>typeOfSexConcatenated_Prostitution</th>\n",
       "      <th>typeOfSexConcatenated_Remote interactive services</th>\n",
       "      <th>country</th>\n",
       "      <th>alpha_3</th>\n",
       "    </tr>\n",
       "  </thead>\n",
       "  <tbody>\n",
       "    <tr>\n",
       "      <th>17898</th>\n",
       "      <td>2015</td>\n",
       "      <td>Case Management</td>\n",
       "      <td>Female</td>\n",
       "      <td>18--20</td>\n",
       "      <td>Adult</td>\n",
       "      <td>NaN</td>\n",
       "      <td>NaN</td>\n",
       "      <td>MD</td>\n",
       "      <td>&lt;NA&gt;</td>\n",
       "      <td>NaN</td>\n",
       "      <td>...</td>\n",
       "      <td>0</td>\n",
       "      <td>0</td>\n",
       "      <td>0</td>\n",
       "      <td>0</td>\n",
       "      <td>0</td>\n",
       "      <td>0</td>\n",
       "      <td>1</td>\n",
       "      <td>0</td>\n",
       "      <td>Moldova, Republic of</td>\n",
       "      <td>MDA</td>\n",
       "    </tr>\n",
       "    <tr>\n",
       "      <th>17922</th>\n",
       "      <td>2015</td>\n",
       "      <td>Case Management</td>\n",
       "      <td>Female</td>\n",
       "      <td>18--20</td>\n",
       "      <td>Adult</td>\n",
       "      <td>NaN</td>\n",
       "      <td>NaN</td>\n",
       "      <td>MD</td>\n",
       "      <td>&lt;NA&gt;</td>\n",
       "      <td>NaN</td>\n",
       "      <td>...</td>\n",
       "      <td>0</td>\n",
       "      <td>0</td>\n",
       "      <td>0</td>\n",
       "      <td>0</td>\n",
       "      <td>0</td>\n",
       "      <td>0</td>\n",
       "      <td>1</td>\n",
       "      <td>0</td>\n",
       "      <td>Moldova, Republic of</td>\n",
       "      <td>MDA</td>\n",
       "    </tr>\n",
       "    <tr>\n",
       "      <th>17923</th>\n",
       "      <td>2015</td>\n",
       "      <td>Case Management</td>\n",
       "      <td>Female</td>\n",
       "      <td>18--20</td>\n",
       "      <td>Adult</td>\n",
       "      <td>NaN</td>\n",
       "      <td>NaN</td>\n",
       "      <td>MD</td>\n",
       "      <td>&lt;NA&gt;</td>\n",
       "      <td>NaN</td>\n",
       "      <td>...</td>\n",
       "      <td>0</td>\n",
       "      <td>0</td>\n",
       "      <td>0</td>\n",
       "      <td>0</td>\n",
       "      <td>0</td>\n",
       "      <td>0</td>\n",
       "      <td>1</td>\n",
       "      <td>0</td>\n",
       "      <td>Moldova, Republic of</td>\n",
       "      <td>MDA</td>\n",
       "    </tr>\n",
       "    <tr>\n",
       "      <th>17926</th>\n",
       "      <td>2015</td>\n",
       "      <td>Case Management</td>\n",
       "      <td>Female</td>\n",
       "      <td>21--23</td>\n",
       "      <td>Adult</td>\n",
       "      <td>NaN</td>\n",
       "      <td>Adult</td>\n",
       "      <td>ID</td>\n",
       "      <td>&lt;NA&gt;</td>\n",
       "      <td>NaN</td>\n",
       "      <td>...</td>\n",
       "      <td>0</td>\n",
       "      <td>0</td>\n",
       "      <td>0</td>\n",
       "      <td>0</td>\n",
       "      <td>0</td>\n",
       "      <td>0</td>\n",
       "      <td>1</td>\n",
       "      <td>0</td>\n",
       "      <td>Indonesia</td>\n",
       "      <td>IDN</td>\n",
       "    </tr>\n",
       "    <tr>\n",
       "      <th>17928</th>\n",
       "      <td>2015</td>\n",
       "      <td>Case Management</td>\n",
       "      <td>Female</td>\n",
       "      <td>21--23</td>\n",
       "      <td>Adult</td>\n",
       "      <td>NaN</td>\n",
       "      <td>Adult</td>\n",
       "      <td>ID</td>\n",
       "      <td>&lt;NA&gt;</td>\n",
       "      <td>NaN</td>\n",
       "      <td>...</td>\n",
       "      <td>0</td>\n",
       "      <td>0</td>\n",
       "      <td>0</td>\n",
       "      <td>0</td>\n",
       "      <td>0</td>\n",
       "      <td>0</td>\n",
       "      <td>1</td>\n",
       "      <td>0</td>\n",
       "      <td>Indonesia</td>\n",
       "      <td>IDN</td>\n",
       "    </tr>\n",
       "    <tr>\n",
       "      <th>18758</th>\n",
       "      <td>2015</td>\n",
       "      <td>Case Management</td>\n",
       "      <td>Female</td>\n",
       "      <td>9--17</td>\n",
       "      <td>Minor</td>\n",
       "      <td>NaN</td>\n",
       "      <td>NaN</td>\n",
       "      <td>MD</td>\n",
       "      <td>&lt;NA&gt;</td>\n",
       "      <td>NaN</td>\n",
       "      <td>...</td>\n",
       "      <td>0</td>\n",
       "      <td>0</td>\n",
       "      <td>0</td>\n",
       "      <td>0</td>\n",
       "      <td>0</td>\n",
       "      <td>0</td>\n",
       "      <td>1</td>\n",
       "      <td>0</td>\n",
       "      <td>Moldova, Republic of</td>\n",
       "      <td>MDA</td>\n",
       "    </tr>\n",
       "    <tr>\n",
       "      <th>18838</th>\n",
       "      <td>2015</td>\n",
       "      <td>Case Management</td>\n",
       "      <td>Male</td>\n",
       "      <td>0--8</td>\n",
       "      <td>Minor</td>\n",
       "      <td>NaN</td>\n",
       "      <td>NaN</td>\n",
       "      <td>MD</td>\n",
       "      <td>&lt;NA&gt;</td>\n",
       "      <td>NaN</td>\n",
       "      <td>...</td>\n",
       "      <td>0</td>\n",
       "      <td>0</td>\n",
       "      <td>0</td>\n",
       "      <td>0</td>\n",
       "      <td>0</td>\n",
       "      <td>0</td>\n",
       "      <td>1</td>\n",
       "      <td>0</td>\n",
       "      <td>Moldova, Republic of</td>\n",
       "      <td>MDA</td>\n",
       "    </tr>\n",
       "    <tr>\n",
       "      <th>19814</th>\n",
       "      <td>2015</td>\n",
       "      <td>Case Management</td>\n",
       "      <td>Male</td>\n",
       "      <td>30--38</td>\n",
       "      <td>Adult</td>\n",
       "      <td>NaN</td>\n",
       "      <td>Adult</td>\n",
       "      <td>MM</td>\n",
       "      <td>&lt;NA&gt;</td>\n",
       "      <td>NaN</td>\n",
       "      <td>...</td>\n",
       "      <td>0</td>\n",
       "      <td>0</td>\n",
       "      <td>0</td>\n",
       "      <td>0</td>\n",
       "      <td>0</td>\n",
       "      <td>0</td>\n",
       "      <td>1</td>\n",
       "      <td>0</td>\n",
       "      <td>Myanmar</td>\n",
       "      <td>MMR</td>\n",
       "    </tr>\n",
       "    <tr>\n",
       "      <th>19875</th>\n",
       "      <td>2015</td>\n",
       "      <td>Case Management</td>\n",
       "      <td>Male</td>\n",
       "      <td>30--38</td>\n",
       "      <td>Adult</td>\n",
       "      <td>NaN</td>\n",
       "      <td>Adult</td>\n",
       "      <td>MM</td>\n",
       "      <td>&lt;NA&gt;</td>\n",
       "      <td>NaN</td>\n",
       "      <td>...</td>\n",
       "      <td>0</td>\n",
       "      <td>0</td>\n",
       "      <td>0</td>\n",
       "      <td>0</td>\n",
       "      <td>0</td>\n",
       "      <td>0</td>\n",
       "      <td>1</td>\n",
       "      <td>0</td>\n",
       "      <td>Myanmar</td>\n",
       "      <td>MMR</td>\n",
       "    </tr>\n",
       "    <tr>\n",
       "      <th>19880</th>\n",
       "      <td>2015</td>\n",
       "      <td>Case Management</td>\n",
       "      <td>Male</td>\n",
       "      <td>30--38</td>\n",
       "      <td>Adult</td>\n",
       "      <td>NaN</td>\n",
       "      <td>Adult</td>\n",
       "      <td>UA</td>\n",
       "      <td>0</td>\n",
       "      <td>Other</td>\n",
       "      <td>...</td>\n",
       "      <td>0</td>\n",
       "      <td>0</td>\n",
       "      <td>0</td>\n",
       "      <td>0</td>\n",
       "      <td>0</td>\n",
       "      <td>0</td>\n",
       "      <td>1</td>\n",
       "      <td>0</td>\n",
       "      <td>Ukraine</td>\n",
       "      <td>UKR</td>\n",
       "    </tr>\n",
       "    <tr>\n",
       "      <th>19960</th>\n",
       "      <td>2015</td>\n",
       "      <td>Case Management</td>\n",
       "      <td>Male</td>\n",
       "      <td>30--38</td>\n",
       "      <td>Adult</td>\n",
       "      <td>NaN</td>\n",
       "      <td>Adult</td>\n",
       "      <td>UA</td>\n",
       "      <td>0</td>\n",
       "      <td>Friend/Acquaintance</td>\n",
       "      <td>...</td>\n",
       "      <td>0</td>\n",
       "      <td>0</td>\n",
       "      <td>0</td>\n",
       "      <td>0</td>\n",
       "      <td>0</td>\n",
       "      <td>0</td>\n",
       "      <td>1</td>\n",
       "      <td>0</td>\n",
       "      <td>Ukraine</td>\n",
       "      <td>UKR</td>\n",
       "    </tr>\n",
       "    <tr>\n",
       "      <th>21043</th>\n",
       "      <td>2015</td>\n",
       "      <td>Hotline</td>\n",
       "      <td>Female</td>\n",
       "      <td>21--23</td>\n",
       "      <td>Adult</td>\n",
       "      <td>NaN</td>\n",
       "      <td>NaN</td>\n",
       "      <td>US</td>\n",
       "      <td>&lt;NA&gt;</td>\n",
       "      <td>Not Specified</td>\n",
       "      <td>...</td>\n",
       "      <td>0</td>\n",
       "      <td>0</td>\n",
       "      <td>0</td>\n",
       "      <td>0</td>\n",
       "      <td>0</td>\n",
       "      <td>0</td>\n",
       "      <td>1</td>\n",
       "      <td>0</td>\n",
       "      <td>United States</td>\n",
       "      <td>USA</td>\n",
       "    </tr>\n",
       "    <tr>\n",
       "      <th>21146</th>\n",
       "      <td>2015</td>\n",
       "      <td>Hotline</td>\n",
       "      <td>Female</td>\n",
       "      <td>24--26</td>\n",
       "      <td>Adult</td>\n",
       "      <td>NaN</td>\n",
       "      <td>NaN</td>\n",
       "      <td>US</td>\n",
       "      <td>&lt;NA&gt;</td>\n",
       "      <td>Not Specified</td>\n",
       "      <td>...</td>\n",
       "      <td>0</td>\n",
       "      <td>0</td>\n",
       "      <td>0</td>\n",
       "      <td>0</td>\n",
       "      <td>0</td>\n",
       "      <td>0</td>\n",
       "      <td>1</td>\n",
       "      <td>0</td>\n",
       "      <td>United States</td>\n",
       "      <td>USA</td>\n",
       "    </tr>\n",
       "    <tr>\n",
       "      <th>21147</th>\n",
       "      <td>2015</td>\n",
       "      <td>Hotline</td>\n",
       "      <td>Female</td>\n",
       "      <td>24--26</td>\n",
       "      <td>Adult</td>\n",
       "      <td>NaN</td>\n",
       "      <td>NaN</td>\n",
       "      <td>US</td>\n",
       "      <td>&lt;NA&gt;</td>\n",
       "      <td>Not Specified</td>\n",
       "      <td>...</td>\n",
       "      <td>0</td>\n",
       "      <td>0</td>\n",
       "      <td>0</td>\n",
       "      <td>0</td>\n",
       "      <td>0</td>\n",
       "      <td>0</td>\n",
       "      <td>1</td>\n",
       "      <td>0</td>\n",
       "      <td>United States</td>\n",
       "      <td>USA</td>\n",
       "    </tr>\n",
       "    <tr>\n",
       "      <th>21213</th>\n",
       "      <td>2015</td>\n",
       "      <td>Hotline</td>\n",
       "      <td>Female</td>\n",
       "      <td>27--29</td>\n",
       "      <td>Adult</td>\n",
       "      <td>Minor</td>\n",
       "      <td>Minor</td>\n",
       "      <td>US</td>\n",
       "      <td>&lt;NA&gt;</td>\n",
       "      <td>Not Specified</td>\n",
       "      <td>...</td>\n",
       "      <td>0</td>\n",
       "      <td>0</td>\n",
       "      <td>0</td>\n",
       "      <td>0</td>\n",
       "      <td>0</td>\n",
       "      <td>0</td>\n",
       "      <td>1</td>\n",
       "      <td>0</td>\n",
       "      <td>United States</td>\n",
       "      <td>USA</td>\n",
       "    </tr>\n",
       "  </tbody>\n",
       "</table>\n",
       "<p>15 rows × 61 columns</p>\n",
       "</div>"
      ],
      "text/plain": [
       "      yearOfRegistration       Datasource  gender ageBroad majorityStatus  \\\n",
       "17898               2015  Case Management  Female   18--20          Adult   \n",
       "17922               2015  Case Management  Female   18--20          Adult   \n",
       "17923               2015  Case Management  Female   18--20          Adult   \n",
       "17926               2015  Case Management  Female   21--23          Adult   \n",
       "17928               2015  Case Management  Female   21--23          Adult   \n",
       "18758               2015  Case Management  Female    9--17          Minor   \n",
       "18838               2015  Case Management    Male     0--8          Minor   \n",
       "19814               2015  Case Management    Male   30--38          Adult   \n",
       "19875               2015  Case Management    Male   30--38          Adult   \n",
       "19880               2015  Case Management    Male   30--38          Adult   \n",
       "19960               2015  Case Management    Male   30--38          Adult   \n",
       "21043               2015          Hotline  Female   21--23          Adult   \n",
       "21146               2015          Hotline  Female   24--26          Adult   \n",
       "21147               2015          Hotline  Female   24--26          Adult   \n",
       "21213               2015          Hotline  Female   27--29          Adult   \n",
       "\n",
       "      majorityStatusAtExploit majorityEntry citizenship  isAbduction  \\\n",
       "17898                     NaN           NaN          MD         <NA>   \n",
       "17922                     NaN           NaN          MD         <NA>   \n",
       "17923                     NaN           NaN          MD         <NA>   \n",
       "17926                     NaN         Adult          ID         <NA>   \n",
       "17928                     NaN         Adult          ID         <NA>   \n",
       "18758                     NaN           NaN          MD         <NA>   \n",
       "18838                     NaN           NaN          MD         <NA>   \n",
       "19814                     NaN         Adult          MM         <NA>   \n",
       "19875                     NaN         Adult          MM         <NA>   \n",
       "19880                     NaN         Adult          UA            0   \n",
       "19960                     NaN         Adult          UA            0   \n",
       "21043                     NaN           NaN          US         <NA>   \n",
       "21146                     NaN           NaN          US         <NA>   \n",
       "21147                     NaN           NaN          US         <NA>   \n",
       "21213                   Minor         Minor          US         <NA>   \n",
       "\n",
       "      RecruiterRelationship  ... typeOfLabourConcatenated_Not specified  \\\n",
       "17898                   NaN  ...                                      0   \n",
       "17922                   NaN  ...                                      0   \n",
       "17923                   NaN  ...                                      0   \n",
       "17926                   NaN  ...                                      0   \n",
       "17928                   NaN  ...                                      0   \n",
       "18758                   NaN  ...                                      0   \n",
       "18838                   NaN  ...                                      0   \n",
       "19814                   NaN  ...                                      0   \n",
       "19875                   NaN  ...                                      0   \n",
       "19880                 Other  ...                                      0   \n",
       "19960   Friend/Acquaintance  ...                                      0   \n",
       "21043         Not Specified  ...                                      0   \n",
       "21146         Not Specified  ...                                      0   \n",
       "21147         Not Specified  ...                                      0   \n",
       "21213         Not Specified  ...                                      0   \n",
       "\n",
       "       typeOfLabourConcatenated_Other  typeOfLabourConcatenated_Peddling  \\\n",
       "17898                               0                                  0   \n",
       "17922                               0                                  0   \n",
       "17923                               0                                  0   \n",
       "17926                               0                                  0   \n",
       "17928                               0                                  0   \n",
       "18758                               0                                  0   \n",
       "18838                               0                                  0   \n",
       "19814                               0                                  0   \n",
       "19875                               0                                  0   \n",
       "19880                               0                                  0   \n",
       "19960                               0                                  0   \n",
       "21043                               0                                  0   \n",
       "21146                               0                                  0   \n",
       "21147                               0                                  0   \n",
       "21213                               0                                  0   \n",
       "\n",
       "       typeOfLabourConcatenated_Transportation  \\\n",
       "17898                                        0   \n",
       "17922                                        0   \n",
       "17923                                        0   \n",
       "17926                                        0   \n",
       "17928                                        0   \n",
       "18758                                        0   \n",
       "18838                                        0   \n",
       "19814                                        0   \n",
       "19875                                        0   \n",
       "19880                                        0   \n",
       "19960                                        0   \n",
       "21043                                        0   \n",
       "21146                                        0   \n",
       "21147                                        0   \n",
       "21213                                        0   \n",
       "\n",
       "       typeOfSexConcatenated_Pornography  \\\n",
       "17898                                  0   \n",
       "17922                                  0   \n",
       "17923                                  0   \n",
       "17926                                  0   \n",
       "17928                                  0   \n",
       "18758                                  0   \n",
       "18838                                  0   \n",
       "19814                                  0   \n",
       "19875                                  0   \n",
       "19880                                  0   \n",
       "19960                                  0   \n",
       "21043                                  0   \n",
       "21146                                  0   \n",
       "21147                                  0   \n",
       "21213                                  0   \n",
       "\n",
       "       typeOfSexConcatenated_Private sexual services  \\\n",
       "17898                                              0   \n",
       "17922                                              0   \n",
       "17923                                              0   \n",
       "17926                                              0   \n",
       "17928                                              0   \n",
       "18758                                              0   \n",
       "18838                                              0   \n",
       "19814                                              0   \n",
       "19875                                              0   \n",
       "19880                                              0   \n",
       "19960                                              0   \n",
       "21043                                              0   \n",
       "21146                                              0   \n",
       "21147                                              0   \n",
       "21213                                              0   \n",
       "\n",
       "       typeOfSexConcatenated_Prostitution  \\\n",
       "17898                                   1   \n",
       "17922                                   1   \n",
       "17923                                   1   \n",
       "17926                                   1   \n",
       "17928                                   1   \n",
       "18758                                   1   \n",
       "18838                                   1   \n",
       "19814                                   1   \n",
       "19875                                   1   \n",
       "19880                                   1   \n",
       "19960                                   1   \n",
       "21043                                   1   \n",
       "21146                                   1   \n",
       "21147                                   1   \n",
       "21213                                   1   \n",
       "\n",
       "       typeOfSexConcatenated_Remote interactive services  \\\n",
       "17898                                                  0   \n",
       "17922                                                  0   \n",
       "17923                                                  0   \n",
       "17926                                                  0   \n",
       "17928                                                  0   \n",
       "18758                                                  0   \n",
       "18838                                                  0   \n",
       "19814                                                  0   \n",
       "19875                                                  0   \n",
       "19880                                                  0   \n",
       "19960                                                  0   \n",
       "21043                                                  0   \n",
       "21146                                                  0   \n",
       "21147                                                  0   \n",
       "21213                                                  0   \n",
       "\n",
       "                    country  alpha_3  \n",
       "17898  Moldova, Republic of      MDA  \n",
       "17922  Moldova, Republic of      MDA  \n",
       "17923  Moldova, Republic of      MDA  \n",
       "17926             Indonesia      IDN  \n",
       "17928             Indonesia      IDN  \n",
       "18758  Moldova, Republic of      MDA  \n",
       "18838  Moldova, Republic of      MDA  \n",
       "19814               Myanmar      MMR  \n",
       "19875               Myanmar      MMR  \n",
       "19880               Ukraine      UKR  \n",
       "19960               Ukraine      UKR  \n",
       "21043         United States      USA  \n",
       "21146         United States      USA  \n",
       "21147         United States      USA  \n",
       "21213         United States      USA  \n",
       "\n",
       "[15 rows x 61 columns]"
      ]
     },
     "execution_count": 242,
     "metadata": {},
     "output_type": "execute_result"
    }
   ],
   "source": [
    "new_data_set.iloc[count_totals.index[count_totals[\"meansOfControlCount\"] == 14]]"
   ]
  },
  {
   "cell_type": "code",
   "execution_count": 243,
   "metadata": {},
   "outputs": [
    {
     "data": {
      "image/png": "[encoded data removed]",
      "text/plain": [
       "<Figure size 640x480 with 1 Axes>"
      ]
     },
     "metadata": {},
     "output_type": "display_data"
    }
   ],
   "source": [
    "axis = count_totals.plot.kde()"
   ]
  },
  {
   "cell_type": "code",
   "execution_count": 244,
   "metadata": {},
   "outputs": [
    {
     "name": "stderr",
     "output_type": "stream",
     "text": [
      "C:\\Users\\Home\\AppData\\Local\\Packages\\PythonSoftwareFoundation.Python.3.11_qbz5n2kfra8p0\\LocalCache\\local-packages\\Python311\\site-packages\\seaborn\\axisgrid.py:118: UserWarning:\n",
      "\n",
      "The figure layout has changed to tight\n",
      "\n"
     ]
    },
    {
     "data": {
      "image/png": "[encoded data removed]",
      "text/plain": [
       "<Figure size 1499.25x1250 with 30 Axes>"
      ]
     },
     "metadata": {},
     "output_type": "display_data"
    }
   ],
   "source": [
    "\n",
    "test = pd.concat([count_totals, new_data_set.select_dtypes('category')], axis=1)\n",
    "test['gender']\n",
    "g = sns.pairplot(test, hue='gender')"
   ]
  },
  {
   "cell_type": "markdown",
   "metadata": {},
   "source": [
    "### Other thing"
   ]
  },
  {
   "cell_type": "code",
   "execution_count": 245,
   "metadata": {},
   "outputs": [
    {
     "data": {
      "text/plain": [
       "0        NaN\n",
       "1        NaN\n",
       "2        NaN\n",
       "3        NaN\n",
       "4        NaN\n",
       "        ... \n",
       "97730    434\n",
       "97731    434\n",
       "97732    434\n",
       "97746    434\n",
       "97748    434\n",
       "Name: CountryOfExploitation, Length: 75672, dtype: category\n",
       "Categories (77, object): ['784', '004', '008', '032', ..., '860', '704', '548', '710']"
      ]
     },
     "execution_count": 245,
     "metadata": {},
     "output_type": "execute_result"
    }
   ],
   "source": [
    "# Change categorical data type from string to encoder number\n",
    "new_data_set['citizenship'].map(country_code).head()\n",
    "new_data_set['CountryOfExploitation'].map(country_code)"
   ]
  },
  {
   "cell_type": "code",
   "execution_count": null,
   "metadata": {},
   "outputs": [],
   "source": []
  }
 ],
 "metadata": {
  "kernelspec": {
   "display_name": "Python 3",
   "language": "python",
   "name": "python3"
  },
  "language_info": {
   "codemirror_mode": {
    "name": "ipython",
    "version": 3
   },
   "file_extension": ".py",
   "mimetype": "text/x-python",
   "name": "python",
   "nbconvert_exporter": "python",
   "pygments_lexer": "ipython3",
   "version": "3.11.5"
  },
  "orig_nbformat": 4
 },
 "nbformat": 4,
 "nbformat_minor": 2
}
