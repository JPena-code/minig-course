{
 "cells": [
  {
   "cell_type": "markdown",
   "metadata": {},
   "source": [
    "# Import Modules\n",
    "This section imports the required modules and prepare the raw content of the file in the desired\n",
    "data type for performance"
   ]
  },
  {
   "cell_type": "code",
   "execution_count": null,
   "metadata": {},
   "outputs": [],
   "source": [
    "import numpy as np\n",
    "import pandas as pd\n",
    "from zipfile import ZipFile\n",
    "from pandas.api.types import CategoricalDtype\n",
    "import matplotlib.pyplot as plt"
   ]
  },
  {
   "cell_type": "markdown",
   "metadata": {},
   "source": [
    "### Read file"
   ]
  },
  {
   "cell_type": "code",
   "execution_count": null,
   "metadata": {},
   "outputs": [],
   "source": [
    "# Read csv file ziped\n",
    "zip_path = './data/human-trafficking-victims-dataset-ctdc.zip'\n",
    "data_file = None\n",
    "raw_data = None\n",
    "with ZipFile(zip_path) as zip_file:\n",
    "    for commpresed in zip_file.filelist:\n",
    "        if commpresed.filename.endswith('csv'):\n",
    "            with zip_file.open(commpresed) as data_file:\n",
    "                raw_data = pd.read_csv(\n",
    "                    data_file,\n",
    "                    sep=';',\n",
    "                    header=0,\n",
    "                    low_memory=False,\n",
    "                    usecols=range(1,64),)"
   ]
  },
  {
   "cell_type": "markdown",
   "metadata": {},
   "source": [
    "### Data type convertion"
   ]
  },
  {
   "cell_type": "code",
   "execution_count": null,
   "metadata": {},
   "outputs": [],
   "source": [
    "# Setting values of categorical attribute\n",
    "# for performnce at processing time\n",
    "age_range = [\n",
    "    '0--8',\n",
    "    '9--17',\n",
    "    '18--20',\n",
    "    '21--23',\n",
    "    '24--26',\n",
    "    '27--29',\n",
    "    '30--38',\n",
    "    '39--47',\n",
    "    '48+'\n",
    "]\n",
    "gender_values = [\n",
    "    'Male',\n",
    "    'Female',\n",
    "    'Transgender/NonConforming',\n",
    "]\n",
    "age_cate = [\n",
    "    'Adult',\n",
    "    'Minor',\n",
    "]\n",
    "data_source = [\n",
    "    'Case Management',\n",
    "    'Hotline'\n",
    "]\n",
    "# Categorical pandas objects\n",
    "age_cat_range = CategoricalDtype(categories=age_range, ordered=True)\n",
    "gender_cat = CategoricalDtype(categories=gender_values, ordered=False)\n",
    "age_cat = CategoricalDtype(categories=age_cate, ordered=True)\n",
    "data_cat_source = CategoricalDtype(categories=data_source, ordered=False)"
   ]
  },
  {
   "cell_type": "code",
   "execution_count": null,
   "metadata": {},
   "outputs": [],
   "source": [
    "# Convert all values read as float due to NaN\n",
    "raw_data = raw_data.apply(lambda serie: serie.astype('Int32', errors='ignore'))\n",
    "# Converto to categorical types\n",
    "raw_data['Datasource'] = raw_data['Datasource'].astype(data_cat_source)\n",
    "raw_data['gender'] = raw_data['gender'].astype(gender_cat)\n",
    "raw_data['ageBroad'] = raw_data['ageBroad'].astype(age_cat_range)\n",
    "\n",
    "columns_age_cat = ['majorityStatus', 'majorityStatusAtExploit', 'majorityEntry']\n",
    "raw_data[columns_age_cat] = raw_data[columns_age_cat].astype(age_cat)"
   ]
  },
  {
   "cell_type": "markdown",
   "metadata": {},
   "source": [
    "# Descriptive analysis\n",
    "\n"
   ]
  },
  {
   "cell_type": "markdown",
   "metadata": {},
   "source": [
    "### Data presentation"
   ]
  },
  {
   "cell_type": "code",
   "execution_count": null,
   "metadata": {},
   "outputs": [],
   "source": [
    "raw_data.info()"
   ]
  },
  {
   "cell_type": "code",
   "execution_count": null,
   "metadata": {},
   "outputs": [],
   "source": [
    "print(f'The data-set has a total of records and atributes {raw_data.shape}\\n')\n",
    "print('Count total of data types in data-set')\n",
    "unique_types = raw_data.dtypes.value_counts()\n",
    "print(unique_types.to_string())"
   ]
  },
  {
   "cell_type": "code",
   "execution_count": null,
   "metadata": {},
   "outputs": [],
   "source": [
    "# NaN values per record in data-set\n",
    "nan_record = raw_data.isna().sum(axis=1).describe()\n",
    "print('Misising \"NaN\" attributes per record')\n",
    "print(nan_record.to_string(header=True))"
   ]
  },
  {
   "cell_type": "code",
   "execution_count": null,
   "metadata": {},
   "outputs": [],
   "source": [
    "# NaN values per attribute in data-set\n",
    "nan_attribute = raw_data.isna().sum()\n",
    "ratio_nan = nan_attribute / raw_data.shape[0]\n",
    "print('Ratio of missing values in attributes', ratio_nan.to_string(), sep='\\n')"
   ]
  },
  {
   "cell_type": "code",
   "execution_count": null,
   "metadata": {},
   "outputs": [],
   "source": [
    "duplicates = raw_data.duplicated().sum()\n",
    "ration_dup = duplicates / raw_data.shape[0]\n",
    "print(f'Total of elements duplicateds: {duplicates}\\nRatio of all data-set: {ration_dup:.2%}')"
   ]
  },
  {
   "cell_type": "markdown",
   "metadata": {},
   "source": [
    "**Si bien los datos son duplicados, hay que recordar que son datos anonimizados, cada uno es una lectura de una victima de trata de humanos**"
   ]
  },
  {
   "cell_type": "markdown",
   "metadata": {},
   "source": [
    "### Descriptive stats data type\n",
    "\n",
    "There are two type of attributes in the data set, _nominal_ and _numeric_.\n",
    "The _numeric_ attributes are mostly _ordinal_ binary used to indicat if the attribute is present in a record, by the other side, _nominal_ attributes where converted to a __Categorical__ data type of the package of _pandas_"
   ]
  },
  {
   "cell_type": "code",
   "execution_count": null,
   "metadata": {},
   "outputs": [],
   "source": [
    "# Numeric attributes description\n",
    "raw_data.describe(exclude=['category', 'O'])"
   ]
  },
  {
   "cell_type": "code",
   "execution_count": null,
   "metadata": {},
   "outputs": [],
   "source": [
    "# Nominal attributes\n",
    "raw_data.describe(include=['category'])"
   ]
  },
  {
   "cell_type": "code",
   "execution_count": null,
   "metadata": {},
   "outputs": [],
   "source": [
    "raw_data.median(numeric_only=True)"
   ]
  },
  {
   "cell_type": "code",
   "execution_count": null,
   "metadata": {},
   "outputs": [],
   "source": [
    "raw_data.columns"
   ]
  },
  {
   "cell_type": "code",
   "execution_count": null,
   "metadata": {},
   "outputs": [],
   "source": [
    "ax = raw_data['ageBroad'].value_counts().plot.bar()\n",
    "\n",
    "for i, bar in enumerate(ax.patches):\n",
    "    ax.text(bar.get_x() + bar.get_width() / 2, bar.get_height() + 300,\n",
    "            f\"{raw_data['ageBroad'].value_counts()[i]}:00\",\n",
    "            horizontalalignment= 'center', verticalalignment='bottom',\n",
    "            fontsize=10, rotation=90, color='black')\n",
    "\n",
    "ax.set_xlabel(\"Edades\")\n",
    "ax.set_ylabel(\"Frecuencia\")\n",
    "ax.margins(x=0, y=0.3)\n",
    "\n",
    "plt.show()"
   ]
  },
  {
   "cell_type": "code",
   "execution_count": 70,
   "metadata": {},
   "outputs": [
    {
     "data": {
      "text/plain": [
       "Index(['yearOfRegistration', 'Datasource', 'gender', 'ageBroad',\n",
       "       'majorityStatus', 'majorityStatusAtExploit', 'majorityEntry',\n",
       "       'citizenship', 'meansOfControlDebtBondage',\n",
       "       'meansOfControlTakesEarnings', 'meansOfControlRestrictsFinancialAccess',\n",
       "       'meansOfControlThreats', 'meansOfControlPsychologicalAbuse',\n",
       "       'meansOfControlPhysicalAbuse', 'meansOfControlSexualAbuse',\n",
       "       'meansOfControlFalsePromises', 'meansOfControlPsychoactiveSubstances',\n",
       "       'meansOfControlRestrictsMovement', 'meansOfControlRestrictsMedicalCare',\n",
       "       'meansOfControlExcessiveWorkingHours', 'meansOfControlUsesChildren',\n",
       "       'meansOfControlThreatOfLawEnforcement',\n",
       "       'meansOfControlWithholdsNecessities',\n",
       "       'meansOfControlWithholdsDocuments', 'meansOfControlOther',\n",
       "       'meansOfControlNotSpecified', 'meansOfControlConcatenated',\n",
       "       'isForcedLabour', 'isSexualExploit', 'isOtherExploit', 'isSexAndLabour',\n",
       "       'isForcedMarriage', 'isForcedMilitary', 'isOrganRemoval',\n",
       "       'isSlaveryAndPractices', 'typeOfExploitConcatenated',\n",
       "       'typeOfLabourAgriculture', 'typeOfLabourAquafarming',\n",
       "       'typeOfLabourBegging', 'typeOfLabourConstruction',\n",
       "       'typeOfLabourDomesticWork', 'typeOfLabourHospitality',\n",
       "       'typeOfLabourIllicitActivities', 'typeOfLabourManufacturing',\n",
       "       'typeOfLabourMiningOrDrilling', 'typeOfLabourPeddling',\n",
       "       'typeOfLabourTransportation', 'typeOfLabourOther',\n",
       "       'typeOfLabourNotSpecified', 'typeOfLabourConcatenated',\n",
       "       'typeOfSexProstitution', 'typeOfSexPornography',\n",
       "       'typeOfSexRemoteInteractiveServices', 'typeOfSexPrivateSexualServices',\n",
       "       'typeOfSexConcatenated', 'isAbduction', 'RecruiterRelationship',\n",
       "       'CountryOfExploitation', 'recruiterRelationIntimatePartner',\n",
       "       'recruiterRelationFriend', 'recruiterRelationFamily',\n",
       "       'recruiterRelationOther', 'recruiterRelationUnknown'],\n",
       "      dtype='object')"
      ]
     },
     "execution_count": 70,
     "metadata": {},
     "output_type": "execute_result"
    }
   ],
   "source": [
    "raw_data.columns"
   ]
  },
  {
   "cell_type": "code",
   "execution_count": 81,
   "metadata": {},
   "outputs": [
    {
     "name": "stdout",
     "output_type": "stream",
     "text": [
      "                                        yearOfRegistration  \\\n",
      "yearOfRegistration                                1.000000   \n",
      "meansOfControlDebtBondage                        -0.024488   \n",
      "meansOfControlTakesEarnings                      -0.023563   \n",
      "meansOfControlRestrictsFinancialAccess            0.182551   \n",
      "meansOfControlThreats                             0.037558   \n",
      "...                                                    ...   \n",
      "CountryOfExploitation_US                          0.519121   \n",
      "CountryOfExploitation_UZ                         -0.065614   \n",
      "CountryOfExploitation_VN                          0.003556   \n",
      "CountryOfExploitation_VU                          0.022378   \n",
      "CountryOfExploitation_ZA                         -0.010293   \n",
      "\n",
      "                                        meansOfControlDebtBondage  \\\n",
      "yearOfRegistration                                      -0.024488   \n",
      "meansOfControlDebtBondage                                1.000000   \n",
      "meansOfControlTakesEarnings                              0.551469   \n",
      "meansOfControlRestrictsFinancialAccess                   0.201088   \n",
      "meansOfControlThreats                                    0.578703   \n",
      "...                                                           ...   \n",
      "CountryOfExploitation_US                                 0.748928   \n",
      "CountryOfExploitation_UZ                                      NaN   \n",
      "CountryOfExploitation_VN                                -0.043562   \n",
      "CountryOfExploitation_VU                                      NaN   \n",
      "CountryOfExploitation_ZA                                      NaN   \n",
      "\n",
      "                                        meansOfControlTakesEarnings  \\\n",
      "yearOfRegistration                                        -0.023563   \n",
      "meansOfControlDebtBondage                                  0.551469   \n",
      "meansOfControlTakesEarnings                                1.000000   \n",
      "meansOfControlRestrictsFinancialAccess                     0.172193   \n",
      "meansOfControlThreats                                      0.720842   \n",
      "...                                                             ...   \n",
      "CountryOfExploitation_US                                   0.566009   \n",
      "CountryOfExploitation_UZ                                        NaN   \n",
      "CountryOfExploitation_VN                                  -0.069263   \n",
      "CountryOfExploitation_VU                                        NaN   \n",
      "CountryOfExploitation_ZA                                        NaN   \n",
      "\n",
      "                                        meansOfControlRestrictsFinancialAccess  \\\n",
      "yearOfRegistration                                                    0.182551   \n",
      "meansOfControlDebtBondage                                             0.201088   \n",
      "meansOfControlTakesEarnings                                           0.172193   \n",
      "meansOfControlRestrictsFinancialAccess                                1.000000   \n",
      "meansOfControlThreats                                                 0.199111   \n",
      "...                                                                        ...   \n",
      "CountryOfExploitation_US                                              0.881602   \n",
      "CountryOfExploitation_UZ                                                   NaN   \n",
      "CountryOfExploitation_VN                                                   NaN   \n",
      "CountryOfExploitation_VU                                                   NaN   \n",
      "CountryOfExploitation_ZA                                                   NaN   \n",
      "\n",
      "                                        meansOfControlThreats  \\\n",
      "yearOfRegistration                                   0.037558   \n",
      "meansOfControlDebtBondage                            0.578703   \n",
      "meansOfControlTakesEarnings                          0.720842   \n",
      "meansOfControlRestrictsFinancialAccess               0.199111   \n",
      "meansOfControlThreats                                1.000000   \n",
      "...                                                       ...   \n",
      "CountryOfExploitation_US                             0.641148   \n",
      "CountryOfExploitation_UZ                                  NaN   \n",
      "CountryOfExploitation_VN                            -0.067447   \n",
      "CountryOfExploitation_VU                                  NaN   \n",
      "CountryOfExploitation_ZA                                  NaN   \n",
      "\n",
      "                                        meansOfControlPsychologicalAbuse  \\\n",
      "yearOfRegistration                                             -0.044854   \n",
      "meansOfControlDebtBondage                                       0.476127   \n",
      "meansOfControlTakesEarnings                                     0.736138   \n",
      "meansOfControlRestrictsFinancialAccess                          0.137258   \n",
      "meansOfControlThreats                                           0.746036   \n",
      "...                                                                  ...   \n",
      "CountryOfExploitation_US                                        0.578790   \n",
      "CountryOfExploitation_UZ                                             NaN   \n",
      "CountryOfExploitation_VN                                       -0.074321   \n",
      "CountryOfExploitation_VU                                             NaN   \n",
      "CountryOfExploitation_ZA                                             NaN   \n",
      "\n",
      "                                        meansOfControlPhysicalAbuse  \\\n",
      "yearOfRegistration                                        -0.083104   \n",
      "meansOfControlDebtBondage                                  0.450321   \n",
      "meansOfControlTakesEarnings                                0.487928   \n",
      "meansOfControlRestrictsFinancialAccess                     0.251276   \n",
      "meansOfControlThreats                                      0.633346   \n",
      "...                                                             ...   \n",
      "CountryOfExploitation_US                                   0.694933   \n",
      "CountryOfExploitation_UZ                                        NaN   \n",
      "CountryOfExploitation_VN                                  -0.057469   \n",
      "CountryOfExploitation_VU                                        NaN   \n",
      "CountryOfExploitation_ZA                                        NaN   \n",
      "\n",
      "                                        meansOfControlSexualAbuse  \\\n",
      "yearOfRegistration                                       0.031800   \n",
      "meansOfControlDebtBondage                                0.455803   \n",
      "meansOfControlTakesEarnings                              0.308406   \n",
      "meansOfControlRestrictsFinancialAccess                   0.412786   \n",
      "meansOfControlThreats                                    0.481866   \n",
      "...                                                           ...   \n",
      "CountryOfExploitation_US                                 0.885434   \n",
      "CountryOfExploitation_UZ                                      NaN   \n",
      "CountryOfExploitation_VN                                -0.039201   \n",
      "CountryOfExploitation_VU                                      NaN   \n",
      "CountryOfExploitation_ZA                                      NaN   \n",
      "\n",
      "                                        meansOfControlFalsePromises  \\\n",
      "yearOfRegistration                                        -0.126187   \n",
      "meansOfControlDebtBondage                                  0.394722   \n",
      "meansOfControlTakesEarnings                                0.602678   \n",
      "meansOfControlRestrictsFinancialAccess                     0.044674   \n",
      "meansOfControlThreats                                      0.542630   \n",
      "...                                                             ...   \n",
      "CountryOfExploitation_US                                   0.371293   \n",
      "CountryOfExploitation_UZ                                        NaN   \n",
      "CountryOfExploitation_VN                                  -0.079124   \n",
      "CountryOfExploitation_VU                                        NaN   \n",
      "CountryOfExploitation_ZA                                        NaN   \n",
      "\n",
      "                                        meansOfControlPsychoactiveSubstances  \\\n",
      "yearOfRegistration                                                  0.126183   \n",
      "meansOfControlDebtBondage                                           0.478320   \n",
      "meansOfControlTakesEarnings                                         0.371659   \n",
      "meansOfControlRestrictsFinancialAccess                              0.402940   \n",
      "meansOfControlThreats                                               0.538649   \n",
      "...                                                                      ...   \n",
      "CountryOfExploitation_US                                            0.958988   \n",
      "CountryOfExploitation_UZ                                                 NaN   \n",
      "CountryOfExploitation_VN                                           -0.042540   \n",
      "CountryOfExploitation_VU                                                 NaN   \n",
      "CountryOfExploitation_ZA                                                 NaN   \n",
      "\n",
      "                                        ...  CountryOfExploitation_TT  \\\n",
      "yearOfRegistration                      ...                 -0.015480   \n",
      "meansOfControlDebtBondage               ...                 -0.010881   \n",
      "meansOfControlTakesEarnings             ...                 -0.017304   \n",
      "meansOfControlRestrictsFinancialAccess  ...                 -0.005964   \n",
      "meansOfControlThreats                   ...                 -0.016854   \n",
      "...                                     ...                       ...   \n",
      "CountryOfExploitation_US                ...                 -0.031202   \n",
      "CountryOfExploitation_UZ                ...                 -0.001388   \n",
      "CountryOfExploitation_VN                ...                 -0.000377   \n",
      "CountryOfExploitation_VU                ...                 -0.000812   \n",
      "CountryOfExploitation_ZA                ...                 -0.000713   \n",
      "\n",
      "                                        CountryOfExploitation_TW  \\\n",
      "yearOfRegistration                                     -0.009643   \n",
      "meansOfControlDebtBondage                                    NaN   \n",
      "meansOfControlTakesEarnings                                  NaN   \n",
      "meansOfControlRestrictsFinancialAccess                       NaN   \n",
      "meansOfControlThreats                                        NaN   \n",
      "...                                                          ...   \n",
      "CountryOfExploitation_US                               -0.019436   \n",
      "CountryOfExploitation_UZ                               -0.000865   \n",
      "CountryOfExploitation_VN                               -0.000235   \n",
      "CountryOfExploitation_VU                               -0.000506   \n",
      "CountryOfExploitation_ZA                               -0.000444   \n",
      "\n",
      "                                        CountryOfExploitation_TZ  \\\n",
      "yearOfRegistration                                     -0.029309   \n",
      "meansOfControlDebtBondage                                    NaN   \n",
      "meansOfControlTakesEarnings                                  NaN   \n",
      "meansOfControlRestrictsFinancialAccess                       NaN   \n",
      "meansOfControlThreats                                        NaN   \n",
      "...                                                          ...   \n",
      "CountryOfExploitation_US                               -0.019436   \n",
      "CountryOfExploitation_UZ                               -0.000865   \n",
      "CountryOfExploitation_VN                               -0.000235   \n",
      "CountryOfExploitation_VU                               -0.000506   \n",
      "CountryOfExploitation_ZA                               -0.000444   \n",
      "\n",
      "                                        CountryOfExploitation_UA  \\\n",
      "yearOfRegistration                                     -0.001298   \n",
      "meansOfControlDebtBondage                                    NaN   \n",
      "meansOfControlTakesEarnings                                  NaN   \n",
      "meansOfControlRestrictsFinancialAccess                       NaN   \n",
      "meansOfControlThreats                                        NaN   \n",
      "...                                                          ...   \n",
      "CountryOfExploitation_US                               -0.051475   \n",
      "CountryOfExploitation_UZ                               -0.002290   \n",
      "CountryOfExploitation_VN                               -0.000623   \n",
      "CountryOfExploitation_VU                               -0.001340   \n",
      "CountryOfExploitation_ZA                               -0.001176   \n",
      "\n",
      "                                        CountryOfExploitation_UG  \\\n",
      "yearOfRegistration                                     -0.024634   \n",
      "meansOfControlDebtBondage                              -0.127943   \n",
      "meansOfControlTakesEarnings                            -0.183720   \n",
      "meansOfControlRestrictsFinancialAccess                 -0.070661   \n",
      "meansOfControlThreats                                  -0.163574   \n",
      "...                                                          ...   \n",
      "CountryOfExploitation_US                               -0.047042   \n",
      "CountryOfExploitation_UZ                               -0.002093   \n",
      "CountryOfExploitation_VN                               -0.000569   \n",
      "CountryOfExploitation_VU                               -0.001224   \n",
      "CountryOfExploitation_ZA                               -0.001074   \n",
      "\n",
      "                                        CountryOfExploitation_US  \\\n",
      "yearOfRegistration                                      0.519121   \n",
      "meansOfControlDebtBondage                               0.748928   \n",
      "meansOfControlTakesEarnings                             0.566009   \n",
      "meansOfControlRestrictsFinancialAccess                  0.881602   \n",
      "meansOfControlThreats                                   0.641148   \n",
      "...                                                          ...   \n",
      "CountryOfExploitation_US                                1.000000   \n",
      "CountryOfExploitation_UZ                               -0.049772   \n",
      "CountryOfExploitation_VN                               -0.013532   \n",
      "CountryOfExploitation_VU                               -0.029111   \n",
      "CountryOfExploitation_ZA                               -0.025547   \n",
      "\n",
      "                                        CountryOfExploitation_UZ  \\\n",
      "yearOfRegistration                                     -0.065614   \n",
      "meansOfControlDebtBondage                                    NaN   \n",
      "meansOfControlTakesEarnings                                  NaN   \n",
      "meansOfControlRestrictsFinancialAccess                       NaN   \n",
      "meansOfControlThreats                                        NaN   \n",
      "...                                                          ...   \n",
      "CountryOfExploitation_US                               -0.049772   \n",
      "CountryOfExploitation_UZ                                1.000000   \n",
      "CountryOfExploitation_VN                               -0.000602   \n",
      "CountryOfExploitation_VU                               -0.001295   \n",
      "CountryOfExploitation_ZA                               -0.001137   \n",
      "\n",
      "                                        CountryOfExploitation_VN  \\\n",
      "yearOfRegistration                                      0.003556   \n",
      "meansOfControlDebtBondage                              -0.043562   \n",
      "meansOfControlTakesEarnings                            -0.069263   \n",
      "meansOfControlRestrictsFinancialAccess                       NaN   \n",
      "meansOfControlThreats                                  -0.067447   \n",
      "...                                                          ...   \n",
      "CountryOfExploitation_US                               -0.013532   \n",
      "CountryOfExploitation_UZ                               -0.000602   \n",
      "CountryOfExploitation_VN                                1.000000   \n",
      "CountryOfExploitation_VU                               -0.000352   \n",
      "CountryOfExploitation_ZA                               -0.000309   \n",
      "\n",
      "                                        CountryOfExploitation_VU  \\\n",
      "yearOfRegistration                                      0.022378   \n",
      "meansOfControlDebtBondage                                    NaN   \n",
      "meansOfControlTakesEarnings                                  NaN   \n",
      "meansOfControlRestrictsFinancialAccess                       NaN   \n",
      "meansOfControlThreats                                        NaN   \n",
      "...                                                          ...   \n",
      "CountryOfExploitation_US                               -0.029111   \n",
      "CountryOfExploitation_UZ                               -0.001295   \n",
      "CountryOfExploitation_VN                               -0.000352   \n",
      "CountryOfExploitation_VU                                1.000000   \n",
      "CountryOfExploitation_ZA                               -0.000665   \n",
      "\n",
      "                                        CountryOfExploitation_ZA  \n",
      "yearOfRegistration                                     -0.010293  \n",
      "meansOfControlDebtBondage                                    NaN  \n",
      "meansOfControlTakesEarnings                                  NaN  \n",
      "meansOfControlRestrictsFinancialAccess                       NaN  \n",
      "meansOfControlThreats                                        NaN  \n",
      "...                                                          ...  \n",
      "CountryOfExploitation_US                               -0.025547  \n",
      "CountryOfExploitation_UZ                               -0.001137  \n",
      "CountryOfExploitation_VN                               -0.000309  \n",
      "CountryOfExploitation_VU                               -0.000665  \n",
      "CountryOfExploitation_ZA                                1.000000  \n",
      "\n",
      "[208 rows x 208 columns]\n"
     ]
    }
   ],
   "source": [
    "raw_data_woCat = raw_data.drop(axis=1,columns=['meansOfControlConcatenated',\n",
    "                                               'typeOfExploitConcatenated',\n",
    "                                               'typeOfLabourConcatenated',\n",
    "                                               'typeOfSexConcatenated',\n",
    "                                               'RecruiterRelationship'])\n",
    "\n",
    "categorical_columns = ['ageBroad','Datasource','gender','majorityStatus','majorityStatusAtExploit','majorityEntry','citizenship',\n",
    "                       'CountryOfExploitation']\n",
    "data_encode = pd.get_dummies(raw_data_woCat, columns = categorical_columns)\n",
    "\n",
    "correlation_matrix = data_encode.corr()\n",
    "\n",
    "print(correlation_matrix)"
   ]
  },
  {
   "cell_type": "code",
   "execution_count": null,
   "metadata": {},
   "outputs": [],
   "source": [
    "raw_data_woCat['ageBroadID'] = raw_data_woCat['ageBroad'].cat.codes"
   ]
  },
  {
   "cell_type": "code",
   "execution_count": 117,
   "metadata": {},
   "outputs": [
    {
     "ename": "AttributeError",
     "evalue": "'float' object has no attribute 'shape'",
     "output_type": "error",
     "traceback": [
      "\u001b[1;31m---------------------------------------------------------------------------\u001b[0m",
      "\u001b[1;31mAttributeError\u001b[0m                            Traceback (most recent call last)",
      "Cell \u001b[1;32mIn[117], line 2\u001b[0m\n\u001b[0;32m      1\u001b[0m corr_matrix \u001b[39m=\u001b[39m raw_data_woCat[[\u001b[39m'\u001b[39;49m\u001b[39mmeansOfControlDebtBondage\u001b[39;49m\u001b[39m'\u001b[39;49m]]\\\n\u001b[1;32m----> 2\u001b[0m                             \u001b[39m.\u001b[39;49mcorrwith(raw_data_woCat[\u001b[39m'\u001b[39;49m\u001b[39mageBroadID\u001b[39;49m\u001b[39m'\u001b[39;49m]\u001b[39m.\u001b[39;49mastype(\u001b[39m'\u001b[39;49m\u001b[39mInt32\u001b[39;49m\u001b[39m'\u001b[39;49m))\n",
      "File \u001b[1;32m~\\AppData\\Local\\Packages\\PythonSoftwareFoundation.Python.3.11_qbz5n2kfra8p0\\LocalCache\\local-packages\\Python311\\site-packages\\pandas\\core\\frame.py:10301\u001b[0m, in \u001b[0;36mDataFrame.corrwith\u001b[1;34m(self, other, axis, drop, method, numeric_only)\u001b[0m\n\u001b[0;32m  10298\u001b[0m this \u001b[39m=\u001b[39m \u001b[39mself\u001b[39m\u001b[39m.\u001b[39m_get_numeric_data() \u001b[39mif\u001b[39;00m numeric_only \u001b[39melse\u001b[39;00m \u001b[39mself\u001b[39m\n\u001b[0;32m  10300\u001b[0m \u001b[39mif\u001b[39;00m \u001b[39misinstance\u001b[39m(other, Series):\n\u001b[1;32m> 10301\u001b[0m     \u001b[39mreturn\u001b[39;00m this\u001b[39m.\u001b[39;49mapply(\u001b[39mlambda\u001b[39;49;00m x: other\u001b[39m.\u001b[39;49mcorr(x, method\u001b[39m=\u001b[39;49mmethod), axis\u001b[39m=\u001b[39;49maxis)\n\u001b[0;32m  10303\u001b[0m \u001b[39mif\u001b[39;00m numeric_only:\n\u001b[0;32m  10304\u001b[0m     other \u001b[39m=\u001b[39m other\u001b[39m.\u001b[39m_get_numeric_data()\n",
      "File \u001b[1;32m~\\AppData\\Local\\Packages\\PythonSoftwareFoundation.Python.3.11_qbz5n2kfra8p0\\LocalCache\\local-packages\\Python311\\site-packages\\pandas\\core\\frame.py:9423\u001b[0m, in \u001b[0;36mDataFrame.apply\u001b[1;34m(self, func, axis, raw, result_type, args, **kwargs)\u001b[0m\n\u001b[0;32m   9412\u001b[0m \u001b[39mfrom\u001b[39;00m \u001b[39mpandas\u001b[39;00m\u001b[39m.\u001b[39;00m\u001b[39mcore\u001b[39;00m\u001b[39m.\u001b[39;00m\u001b[39mapply\u001b[39;00m \u001b[39mimport\u001b[39;00m frame_apply\n\u001b[0;32m   9414\u001b[0m op \u001b[39m=\u001b[39m frame_apply(\n\u001b[0;32m   9415\u001b[0m     \u001b[39mself\u001b[39m,\n\u001b[0;32m   9416\u001b[0m     func\u001b[39m=\u001b[39mfunc,\n\u001b[1;32m   (...)\u001b[0m\n\u001b[0;32m   9421\u001b[0m     kwargs\u001b[39m=\u001b[39mkwargs,\n\u001b[0;32m   9422\u001b[0m )\n\u001b[1;32m-> 9423\u001b[0m \u001b[39mreturn\u001b[39;00m op\u001b[39m.\u001b[39;49mapply()\u001b[39m.\u001b[39m__finalize__(\u001b[39mself\u001b[39m, method\u001b[39m=\u001b[39m\u001b[39m\"\u001b[39m\u001b[39mapply\u001b[39m\u001b[39m\"\u001b[39m)\n",
      "File \u001b[1;32m~\\AppData\\Local\\Packages\\PythonSoftwareFoundation.Python.3.11_qbz5n2kfra8p0\\LocalCache\\local-packages\\Python311\\site-packages\\pandas\\core\\apply.py:678\u001b[0m, in \u001b[0;36mFrameApply.apply\u001b[1;34m(self)\u001b[0m\n\u001b[0;32m    675\u001b[0m \u001b[39melif\u001b[39;00m \u001b[39mself\u001b[39m\u001b[39m.\u001b[39mraw:\n\u001b[0;32m    676\u001b[0m     \u001b[39mreturn\u001b[39;00m \u001b[39mself\u001b[39m\u001b[39m.\u001b[39mapply_raw()\n\u001b[1;32m--> 678\u001b[0m \u001b[39mreturn\u001b[39;00m \u001b[39mself\u001b[39;49m\u001b[39m.\u001b[39;49mapply_standard()\n",
      "File \u001b[1;32m~\\AppData\\Local\\Packages\\PythonSoftwareFoundation.Python.3.11_qbz5n2kfra8p0\\LocalCache\\local-packages\\Python311\\site-packages\\pandas\\core\\apply.py:798\u001b[0m, in \u001b[0;36mFrameApply.apply_standard\u001b[1;34m(self)\u001b[0m\n\u001b[0;32m    797\u001b[0m \u001b[39mdef\u001b[39;00m \u001b[39mapply_standard\u001b[39m(\u001b[39mself\u001b[39m):\n\u001b[1;32m--> 798\u001b[0m     results, res_index \u001b[39m=\u001b[39m \u001b[39mself\u001b[39;49m\u001b[39m.\u001b[39;49mapply_series_generator()\n\u001b[0;32m    800\u001b[0m     \u001b[39m# wrap results\u001b[39;00m\n\u001b[0;32m    801\u001b[0m     \u001b[39mreturn\u001b[39;00m \u001b[39mself\u001b[39m\u001b[39m.\u001b[39mwrap_results(results, res_index)\n",
      "File \u001b[1;32m~\\AppData\\Local\\Packages\\PythonSoftwareFoundation.Python.3.11_qbz5n2kfra8p0\\LocalCache\\local-packages\\Python311\\site-packages\\pandas\\core\\apply.py:814\u001b[0m, in \u001b[0;36mFrameApply.apply_series_generator\u001b[1;34m(self)\u001b[0m\n\u001b[0;32m    811\u001b[0m \u001b[39mwith\u001b[39;00m option_context(\u001b[39m\"\u001b[39m\u001b[39mmode.chained_assignment\u001b[39m\u001b[39m\"\u001b[39m, \u001b[39mNone\u001b[39;00m):\n\u001b[0;32m    812\u001b[0m     \u001b[39mfor\u001b[39;00m i, v \u001b[39min\u001b[39;00m \u001b[39menumerate\u001b[39m(series_gen):\n\u001b[0;32m    813\u001b[0m         \u001b[39m# ignore SettingWithCopy here in case the user mutates\u001b[39;00m\n\u001b[1;32m--> 814\u001b[0m         results[i] \u001b[39m=\u001b[39m \u001b[39mself\u001b[39;49m\u001b[39m.\u001b[39;49mf(v)\n\u001b[0;32m    815\u001b[0m         \u001b[39mif\u001b[39;00m \u001b[39misinstance\u001b[39m(results[i], ABCSeries):\n\u001b[0;32m    816\u001b[0m             \u001b[39m# If we have a view on v, we need to make a copy because\u001b[39;00m\n\u001b[0;32m    817\u001b[0m             \u001b[39m#  series_generator will swap out the underlying data\u001b[39;00m\n\u001b[0;32m    818\u001b[0m             results[i] \u001b[39m=\u001b[39m results[i]\u001b[39m.\u001b[39mcopy(deep\u001b[39m=\u001b[39m\u001b[39mFalse\u001b[39;00m)\n",
      "File \u001b[1;32m~\\AppData\\Local\\Packages\\PythonSoftwareFoundation.Python.3.11_qbz5n2kfra8p0\\LocalCache\\local-packages\\Python311\\site-packages\\pandas\\core\\frame.py:10301\u001b[0m, in \u001b[0;36mDataFrame.corrwith.<locals>.<lambda>\u001b[1;34m(x)\u001b[0m\n\u001b[0;32m  10298\u001b[0m this \u001b[39m=\u001b[39m \u001b[39mself\u001b[39m\u001b[39m.\u001b[39m_get_numeric_data() \u001b[39mif\u001b[39;00m numeric_only \u001b[39melse\u001b[39;00m \u001b[39mself\u001b[39m\n\u001b[0;32m  10300\u001b[0m \u001b[39mif\u001b[39;00m \u001b[39misinstance\u001b[39m(other, Series):\n\u001b[1;32m> 10301\u001b[0m     \u001b[39mreturn\u001b[39;00m this\u001b[39m.\u001b[39mapply(\u001b[39mlambda\u001b[39;00m x: other\u001b[39m.\u001b[39;49mcorr(x, method\u001b[39m=\u001b[39;49mmethod), axis\u001b[39m=\u001b[39maxis)\n\u001b[0;32m  10303\u001b[0m \u001b[39mif\u001b[39;00m numeric_only:\n\u001b[0;32m  10304\u001b[0m     other \u001b[39m=\u001b[39m other\u001b[39m.\u001b[39m_get_numeric_data()\n",
      "File \u001b[1;32m~\\AppData\\Local\\Packages\\PythonSoftwareFoundation.Python.3.11_qbz5n2kfra8p0\\LocalCache\\local-packages\\Python311\\site-packages\\pandas\\core\\series.py:2727\u001b[0m, in \u001b[0;36mSeries.corr\u001b[1;34m(self, other, method, min_periods)\u001b[0m\n\u001b[0;32m   2724\u001b[0m     \u001b[39mreturn\u001b[39;00m np\u001b[39m.\u001b[39mnan\n\u001b[0;32m   2726\u001b[0m \u001b[39mif\u001b[39;00m method \u001b[39min\u001b[39;00m [\u001b[39m\"\u001b[39m\u001b[39mpearson\u001b[39m\u001b[39m\"\u001b[39m, \u001b[39m\"\u001b[39m\u001b[39mspearman\u001b[39m\u001b[39m\"\u001b[39m, \u001b[39m\"\u001b[39m\u001b[39mkendall\u001b[39m\u001b[39m\"\u001b[39m] \u001b[39mor\u001b[39;00m \u001b[39mcallable\u001b[39m(method):\n\u001b[1;32m-> 2727\u001b[0m     \u001b[39mreturn\u001b[39;00m nanops\u001b[39m.\u001b[39;49mnancorr(\n\u001b[0;32m   2728\u001b[0m         this\u001b[39m.\u001b[39;49mvalues, other\u001b[39m.\u001b[39;49mvalues, method\u001b[39m=\u001b[39;49mmethod, min_periods\u001b[39m=\u001b[39;49mmin_periods\n\u001b[0;32m   2729\u001b[0m     )\n\u001b[0;32m   2731\u001b[0m \u001b[39mraise\u001b[39;00m \u001b[39mValueError\u001b[39;00m(\n\u001b[0;32m   2732\u001b[0m     \u001b[39m\"\u001b[39m\u001b[39mmethod must be either \u001b[39m\u001b[39m'\u001b[39m\u001b[39mpearson\u001b[39m\u001b[39m'\u001b[39m\u001b[39m, \u001b[39m\u001b[39m\"\u001b[39m\n\u001b[0;32m   2733\u001b[0m     \u001b[39m\"\u001b[39m\u001b[39m'\u001b[39m\u001b[39mspearman\u001b[39m\u001b[39m'\u001b[39m\u001b[39m, \u001b[39m\u001b[39m'\u001b[39m\u001b[39mkendall\u001b[39m\u001b[39m'\u001b[39m\u001b[39m, or a callable, \u001b[39m\u001b[39m\"\u001b[39m\n\u001b[0;32m   2734\u001b[0m     \u001b[39mf\u001b[39m\u001b[39m\"\u001b[39m\u001b[39m'\u001b[39m\u001b[39m{\u001b[39;00mmethod\u001b[39m}\u001b[39;00m\u001b[39m'\u001b[39m\u001b[39m was supplied\u001b[39m\u001b[39m\"\u001b[39m\n\u001b[0;32m   2735\u001b[0m )\n",
      "File \u001b[1;32m~\\AppData\\Local\\Packages\\PythonSoftwareFoundation.Python.3.11_qbz5n2kfra8p0\\LocalCache\\local-packages\\Python311\\site-packages\\pandas\\core\\nanops.py:96\u001b[0m, in \u001b[0;36mdisallow.__call__.<locals>._f\u001b[1;34m(*args, **kwargs)\u001b[0m\n\u001b[0;32m     94\u001b[0m \u001b[39mtry\u001b[39;00m:\n\u001b[0;32m     95\u001b[0m     \u001b[39mwith\u001b[39;00m np\u001b[39m.\u001b[39merrstate(invalid\u001b[39m=\u001b[39m\u001b[39m\"\u001b[39m\u001b[39mignore\u001b[39m\u001b[39m\"\u001b[39m):\n\u001b[1;32m---> 96\u001b[0m         \u001b[39mreturn\u001b[39;00m f(\u001b[39m*\u001b[39;49margs, \u001b[39m*\u001b[39;49m\u001b[39m*\u001b[39;49mkwargs)\n\u001b[0;32m     97\u001b[0m \u001b[39mexcept\u001b[39;00m \u001b[39mValueError\u001b[39;00m \u001b[39mas\u001b[39;00m e:\n\u001b[0;32m     98\u001b[0m     \u001b[39m# we want to transform an object array\u001b[39;00m\n\u001b[0;32m     99\u001b[0m     \u001b[39m# ValueError message to the more typical TypeError\u001b[39;00m\n\u001b[0;32m    100\u001b[0m     \u001b[39m# e.g. this is normally a disallowed function on\u001b[39;00m\n\u001b[0;32m    101\u001b[0m     \u001b[39m# object arrays that contain strings\u001b[39;00m\n\u001b[0;32m    102\u001b[0m     \u001b[39mif\u001b[39;00m is_object_dtype(args[\u001b[39m0\u001b[39m]):\n",
      "File \u001b[1;32m~\\AppData\\Local\\Packages\\PythonSoftwareFoundation.Python.3.11_qbz5n2kfra8p0\\LocalCache\\local-packages\\Python311\\site-packages\\pandas\\core\\nanops.py:1614\u001b[0m, in \u001b[0;36mnancorr\u001b[1;34m(a, b, method, min_periods)\u001b[0m\n\u001b[0;32m   1611\u001b[0m     \u001b[39mreturn\u001b[39;00m np\u001b[39m.\u001b[39mnan\n\u001b[0;32m   1613\u001b[0m f \u001b[39m=\u001b[39m get_corr_func(method)\n\u001b[1;32m-> 1614\u001b[0m \u001b[39mreturn\u001b[39;00m f(a, b)\n",
      "File \u001b[1;32m~\\AppData\\Local\\Packages\\PythonSoftwareFoundation.Python.3.11_qbz5n2kfra8p0\\LocalCache\\local-packages\\Python311\\site-packages\\pandas\\core\\nanops.py:1637\u001b[0m, in \u001b[0;36mget_corr_func.<locals>.func\u001b[1;34m(a, b)\u001b[0m\n\u001b[0;32m   1636\u001b[0m \u001b[39mdef\u001b[39;00m \u001b[39mfunc\u001b[39m(a, b):\n\u001b[1;32m-> 1637\u001b[0m     \u001b[39mreturn\u001b[39;00m np\u001b[39m.\u001b[39;49mcorrcoef(a, b)[\u001b[39m0\u001b[39m, \u001b[39m1\u001b[39m]\n",
      "File \u001b[1;32m~\\AppData\\Local\\Packages\\PythonSoftwareFoundation.Python.3.11_qbz5n2kfra8p0\\LocalCache\\local-packages\\Python311\\site-packages\\numpy\\lib\\function_base.py:2889\u001b[0m, in \u001b[0;36mcorrcoef\u001b[1;34m(x, y, rowvar, bias, ddof, dtype)\u001b[0m\n\u001b[0;32m   2885\u001b[0m \u001b[39mif\u001b[39;00m bias \u001b[39mis\u001b[39;00m \u001b[39mnot\u001b[39;00m np\u001b[39m.\u001b[39m_NoValue \u001b[39mor\u001b[39;00m ddof \u001b[39mis\u001b[39;00m \u001b[39mnot\u001b[39;00m np\u001b[39m.\u001b[39m_NoValue:\n\u001b[0;32m   2886\u001b[0m     \u001b[39m# 2015-03-15, 1.10\u001b[39;00m\n\u001b[0;32m   2887\u001b[0m     warnings\u001b[39m.\u001b[39mwarn(\u001b[39m'\u001b[39m\u001b[39mbias and ddof have no effect and are deprecated\u001b[39m\u001b[39m'\u001b[39m,\n\u001b[0;32m   2888\u001b[0m                   \u001b[39mDeprecationWarning\u001b[39;00m, stacklevel\u001b[39m=\u001b[39m\u001b[39m2\u001b[39m)\n\u001b[1;32m-> 2889\u001b[0m c \u001b[39m=\u001b[39m cov(x, y, rowvar, dtype\u001b[39m=\u001b[39;49mdtype)\n\u001b[0;32m   2890\u001b[0m \u001b[39mtry\u001b[39;00m:\n\u001b[0;32m   2891\u001b[0m     d \u001b[39m=\u001b[39m diag(c)\n",
      "File \u001b[1;32m~\\AppData\\Local\\Packages\\PythonSoftwareFoundation.Python.3.11_qbz5n2kfra8p0\\LocalCache\\local-packages\\Python311\\site-packages\\numpy\\lib\\function_base.py:2724\u001b[0m, in \u001b[0;36mcov\u001b[1;34m(m, y, rowvar, bias, ddof, fweights, aweights, dtype)\u001b[0m\n\u001b[0;32m   2721\u001b[0m     \u001b[39melse\u001b[39;00m:\n\u001b[0;32m   2722\u001b[0m         w \u001b[39m*\u001b[39m\u001b[39m=\u001b[39m aweights\n\u001b[1;32m-> 2724\u001b[0m avg, w_sum \u001b[39m=\u001b[39m average(X, axis\u001b[39m=\u001b[39;49m\u001b[39m1\u001b[39;49m, weights\u001b[39m=\u001b[39;49mw, returned\u001b[39m=\u001b[39;49m\u001b[39mTrue\u001b[39;49;00m)\n\u001b[0;32m   2725\u001b[0m w_sum \u001b[39m=\u001b[39m w_sum[\u001b[39m0\u001b[39m]\n\u001b[0;32m   2727\u001b[0m \u001b[39m# Determine the normalization\u001b[39;00m\n",
      "File \u001b[1;32m~\\AppData\\Local\\Packages\\PythonSoftwareFoundation.Python.3.11_qbz5n2kfra8p0\\LocalCache\\local-packages\\Python311\\site-packages\\numpy\\lib\\function_base.py:557\u001b[0m, in \u001b[0;36maverage\u001b[1;34m(a, axis, weights, returned, keepdims)\u001b[0m\n\u001b[0;32m    553\u001b[0m     avg \u001b[39m=\u001b[39m avg_as_array \u001b[39m=\u001b[39m np\u001b[39m.\u001b[39mmultiply(a, wgt,\n\u001b[0;32m    554\u001b[0m                       dtype\u001b[39m=\u001b[39mresult_dtype)\u001b[39m.\u001b[39msum(axis, \u001b[39m*\u001b[39m\u001b[39m*\u001b[39mkeepdims_kw) \u001b[39m/\u001b[39m scl\n\u001b[0;32m    556\u001b[0m \u001b[39mif\u001b[39;00m returned:\n\u001b[1;32m--> 557\u001b[0m     \u001b[39mif\u001b[39;00m scl\u001b[39m.\u001b[39;49mshape \u001b[39m!=\u001b[39m avg_as_array\u001b[39m.\u001b[39mshape:\n\u001b[0;32m    558\u001b[0m         scl \u001b[39m=\u001b[39m np\u001b[39m.\u001b[39mbroadcast_to(scl, avg_as_array\u001b[39m.\u001b[39mshape)\u001b[39m.\u001b[39mcopy()\n\u001b[0;32m    559\u001b[0m     \u001b[39mreturn\u001b[39;00m avg, scl\n",
      "\u001b[1;31mAttributeError\u001b[0m: 'float' object has no attribute 'shape'"
     ]
    }
   ],
   "source": [
    "\n",
    "corr_matrix = raw_data_woCat[['meansOfControlDebtBondage',\n",
    "                            'meansOfControlTakesEarnings', 'meansOfControlRestrictsFinancialAccess',\n",
    "                            'meansOfControlThreats', 'meansOfControlPsychologicalAbuse']]\\\n",
    "                            .corrwith(raw_data_woCat['ageBroadID'].astype('Int32'))"
   ]
  },
  {
   "cell_type": "code",
   "execution_count": 116,
   "metadata": {},
   "outputs": [
    {
     "name": "stdout",
     "output_type": "stream",
     "text": [
      "<class 'pandas.core.series.Series'>\n",
      "RangeIndex: 97750 entries, 0 to 97749\n",
      "Series name: ageBroadID\n",
      "Non-Null Count  Dtype\n",
      "--------------  -----\n",
      "97750 non-null  Int32\n",
      "dtypes: Int32(1)\n",
      "memory usage: 477.4 KB\n"
     ]
    }
   ],
   "source": [
    "raw_data_woCat['ageBroadID'].astype('Int32').info()"
   ]
  },
  {
   "cell_type": "code",
   "execution_count": 110,
   "metadata": {},
   "outputs": [
    {
     "data": {
      "text/plain": [
       "meansOfControlDebtBondage                 Int32\n",
       "meansOfControlTakesEarnings               Int32\n",
       "meansOfControlRestrictsFinancialAccess    Int32\n",
       "meansOfControlThreats                     Int32\n",
       "meansOfControlPsychologicalAbuse          Int32\n",
       "dtype: object"
      ]
     },
     "execution_count": 110,
     "metadata": {},
     "output_type": "execute_result"
    }
   ],
   "source": [
    "raw_data_woCat[['meansOfControlDebtBondage','meansOfControlTakesEarnings', 'meansOfControlRestrictsFinancialAccess',\n",
    "                            'meansOfControlThreats', 'meansOfControlPsychologicalAbuse']].dtypes\n",
    "                            "
   ]
  },
  {
   "cell_type": "code",
   "execution_count": 118,
   "metadata": {},
   "outputs": [
    {
     "ename": "AttributeError",
     "evalue": "'float' object has no attribute 'shape'",
     "output_type": "error",
     "traceback": [
      "\u001b[1;31m---------------------------------------------------------------------------\u001b[0m",
      "\u001b[1;31mAttributeError\u001b[0m                            Traceback (most recent call last)",
      "Cell \u001b[1;32mIn[118], line 4\u001b[0m\n\u001b[0;32m      1\u001b[0m df1 \u001b[39m=\u001b[39m raw_data_woCat[[\u001b[39m'\u001b[39m\u001b[39mmeansOfControlDebtBondage\u001b[39m\u001b[39m'\u001b[39m,\u001b[39m'\u001b[39m\u001b[39mmeansOfControlTakesEarnings\u001b[39m\u001b[39m'\u001b[39m, \u001b[39m'\u001b[39m\u001b[39mmeansOfControlRestrictsFinancialAccess\u001b[39m\u001b[39m'\u001b[39m,\n\u001b[0;32m      2\u001b[0m                             \u001b[39m'\u001b[39m\u001b[39mmeansOfControlThreats\u001b[39m\u001b[39m'\u001b[39m, \u001b[39m'\u001b[39m\u001b[39mmeansOfControlPsychologicalAbuse\u001b[39m\u001b[39m'\u001b[39m]]\n\u001b[0;32m      3\u001b[0m df2 \u001b[39m=\u001b[39m raw_data_woCat[\u001b[39m'\u001b[39m\u001b[39mageBroadID\u001b[39m\u001b[39m'\u001b[39m]\n\u001b[1;32m----> 4\u001b[0m df1\u001b[39m.\u001b[39;49mcorrwith(df2)\n",
      "File \u001b[1;32m~\\AppData\\Local\\Packages\\PythonSoftwareFoundation.Python.3.11_qbz5n2kfra8p0\\LocalCache\\local-packages\\Python311\\site-packages\\pandas\\core\\frame.py:10301\u001b[0m, in \u001b[0;36mDataFrame.corrwith\u001b[1;34m(self, other, axis, drop, method, numeric_only)\u001b[0m\n\u001b[0;32m  10298\u001b[0m this \u001b[39m=\u001b[39m \u001b[39mself\u001b[39m\u001b[39m.\u001b[39m_get_numeric_data() \u001b[39mif\u001b[39;00m numeric_only \u001b[39melse\u001b[39;00m \u001b[39mself\u001b[39m\n\u001b[0;32m  10300\u001b[0m \u001b[39mif\u001b[39;00m \u001b[39misinstance\u001b[39m(other, Series):\n\u001b[1;32m> 10301\u001b[0m     \u001b[39mreturn\u001b[39;00m this\u001b[39m.\u001b[39;49mapply(\u001b[39mlambda\u001b[39;49;00m x: other\u001b[39m.\u001b[39;49mcorr(x, method\u001b[39m=\u001b[39;49mmethod), axis\u001b[39m=\u001b[39;49maxis)\n\u001b[0;32m  10303\u001b[0m \u001b[39mif\u001b[39;00m numeric_only:\n\u001b[0;32m  10304\u001b[0m     other \u001b[39m=\u001b[39m other\u001b[39m.\u001b[39m_get_numeric_data()\n",
      "File \u001b[1;32m~\\AppData\\Local\\Packages\\PythonSoftwareFoundation.Python.3.11_qbz5n2kfra8p0\\LocalCache\\local-packages\\Python311\\site-packages\\pandas\\core\\frame.py:9423\u001b[0m, in \u001b[0;36mDataFrame.apply\u001b[1;34m(self, func, axis, raw, result_type, args, **kwargs)\u001b[0m\n\u001b[0;32m   9412\u001b[0m \u001b[39mfrom\u001b[39;00m \u001b[39mpandas\u001b[39;00m\u001b[39m.\u001b[39;00m\u001b[39mcore\u001b[39;00m\u001b[39m.\u001b[39;00m\u001b[39mapply\u001b[39;00m \u001b[39mimport\u001b[39;00m frame_apply\n\u001b[0;32m   9414\u001b[0m op \u001b[39m=\u001b[39m frame_apply(\n\u001b[0;32m   9415\u001b[0m     \u001b[39mself\u001b[39m,\n\u001b[0;32m   9416\u001b[0m     func\u001b[39m=\u001b[39mfunc,\n\u001b[1;32m   (...)\u001b[0m\n\u001b[0;32m   9421\u001b[0m     kwargs\u001b[39m=\u001b[39mkwargs,\n\u001b[0;32m   9422\u001b[0m )\n\u001b[1;32m-> 9423\u001b[0m \u001b[39mreturn\u001b[39;00m op\u001b[39m.\u001b[39;49mapply()\u001b[39m.\u001b[39m__finalize__(\u001b[39mself\u001b[39m, method\u001b[39m=\u001b[39m\u001b[39m\"\u001b[39m\u001b[39mapply\u001b[39m\u001b[39m\"\u001b[39m)\n",
      "File \u001b[1;32m~\\AppData\\Local\\Packages\\PythonSoftwareFoundation.Python.3.11_qbz5n2kfra8p0\\LocalCache\\local-packages\\Python311\\site-packages\\pandas\\core\\apply.py:678\u001b[0m, in \u001b[0;36mFrameApply.apply\u001b[1;34m(self)\u001b[0m\n\u001b[0;32m    675\u001b[0m \u001b[39melif\u001b[39;00m \u001b[39mself\u001b[39m\u001b[39m.\u001b[39mraw:\n\u001b[0;32m    676\u001b[0m     \u001b[39mreturn\u001b[39;00m \u001b[39mself\u001b[39m\u001b[39m.\u001b[39mapply_raw()\n\u001b[1;32m--> 678\u001b[0m \u001b[39mreturn\u001b[39;00m \u001b[39mself\u001b[39;49m\u001b[39m.\u001b[39;49mapply_standard()\n",
      "File \u001b[1;32m~\\AppData\\Local\\Packages\\PythonSoftwareFoundation.Python.3.11_qbz5n2kfra8p0\\LocalCache\\local-packages\\Python311\\site-packages\\pandas\\core\\apply.py:798\u001b[0m, in \u001b[0;36mFrameApply.apply_standard\u001b[1;34m(self)\u001b[0m\n\u001b[0;32m    797\u001b[0m \u001b[39mdef\u001b[39;00m \u001b[39mapply_standard\u001b[39m(\u001b[39mself\u001b[39m):\n\u001b[1;32m--> 798\u001b[0m     results, res_index \u001b[39m=\u001b[39m \u001b[39mself\u001b[39;49m\u001b[39m.\u001b[39;49mapply_series_generator()\n\u001b[0;32m    800\u001b[0m     \u001b[39m# wrap results\u001b[39;00m\n\u001b[0;32m    801\u001b[0m     \u001b[39mreturn\u001b[39;00m \u001b[39mself\u001b[39m\u001b[39m.\u001b[39mwrap_results(results, res_index)\n",
      "File \u001b[1;32m~\\AppData\\Local\\Packages\\PythonSoftwareFoundation.Python.3.11_qbz5n2kfra8p0\\LocalCache\\local-packages\\Python311\\site-packages\\pandas\\core\\apply.py:814\u001b[0m, in \u001b[0;36mFrameApply.apply_series_generator\u001b[1;34m(self)\u001b[0m\n\u001b[0;32m    811\u001b[0m \u001b[39mwith\u001b[39;00m option_context(\u001b[39m\"\u001b[39m\u001b[39mmode.chained_assignment\u001b[39m\u001b[39m\"\u001b[39m, \u001b[39mNone\u001b[39;00m):\n\u001b[0;32m    812\u001b[0m     \u001b[39mfor\u001b[39;00m i, v \u001b[39min\u001b[39;00m \u001b[39menumerate\u001b[39m(series_gen):\n\u001b[0;32m    813\u001b[0m         \u001b[39m# ignore SettingWithCopy here in case the user mutates\u001b[39;00m\n\u001b[1;32m--> 814\u001b[0m         results[i] \u001b[39m=\u001b[39m \u001b[39mself\u001b[39;49m\u001b[39m.\u001b[39;49mf(v)\n\u001b[0;32m    815\u001b[0m         \u001b[39mif\u001b[39;00m \u001b[39misinstance\u001b[39m(results[i], ABCSeries):\n\u001b[0;32m    816\u001b[0m             \u001b[39m# If we have a view on v, we need to make a copy because\u001b[39;00m\n\u001b[0;32m    817\u001b[0m             \u001b[39m#  series_generator will swap out the underlying data\u001b[39;00m\n\u001b[0;32m    818\u001b[0m             results[i] \u001b[39m=\u001b[39m results[i]\u001b[39m.\u001b[39mcopy(deep\u001b[39m=\u001b[39m\u001b[39mFalse\u001b[39;00m)\n",
      "File \u001b[1;32m~\\AppData\\Local\\Packages\\PythonSoftwareFoundation.Python.3.11_qbz5n2kfra8p0\\LocalCache\\local-packages\\Python311\\site-packages\\pandas\\core\\frame.py:10301\u001b[0m, in \u001b[0;36mDataFrame.corrwith.<locals>.<lambda>\u001b[1;34m(x)\u001b[0m\n\u001b[0;32m  10298\u001b[0m this \u001b[39m=\u001b[39m \u001b[39mself\u001b[39m\u001b[39m.\u001b[39m_get_numeric_data() \u001b[39mif\u001b[39;00m numeric_only \u001b[39melse\u001b[39;00m \u001b[39mself\u001b[39m\n\u001b[0;32m  10300\u001b[0m \u001b[39mif\u001b[39;00m \u001b[39misinstance\u001b[39m(other, Series):\n\u001b[1;32m> 10301\u001b[0m     \u001b[39mreturn\u001b[39;00m this\u001b[39m.\u001b[39mapply(\u001b[39mlambda\u001b[39;00m x: other\u001b[39m.\u001b[39;49mcorr(x, method\u001b[39m=\u001b[39;49mmethod), axis\u001b[39m=\u001b[39maxis)\n\u001b[0;32m  10303\u001b[0m \u001b[39mif\u001b[39;00m numeric_only:\n\u001b[0;32m  10304\u001b[0m     other \u001b[39m=\u001b[39m other\u001b[39m.\u001b[39m_get_numeric_data()\n",
      "File \u001b[1;32m~\\AppData\\Local\\Packages\\PythonSoftwareFoundation.Python.3.11_qbz5n2kfra8p0\\LocalCache\\local-packages\\Python311\\site-packages\\pandas\\core\\series.py:2727\u001b[0m, in \u001b[0;36mSeries.corr\u001b[1;34m(self, other, method, min_periods)\u001b[0m\n\u001b[0;32m   2724\u001b[0m     \u001b[39mreturn\u001b[39;00m np\u001b[39m.\u001b[39mnan\n\u001b[0;32m   2726\u001b[0m \u001b[39mif\u001b[39;00m method \u001b[39min\u001b[39;00m [\u001b[39m\"\u001b[39m\u001b[39mpearson\u001b[39m\u001b[39m\"\u001b[39m, \u001b[39m\"\u001b[39m\u001b[39mspearman\u001b[39m\u001b[39m\"\u001b[39m, \u001b[39m\"\u001b[39m\u001b[39mkendall\u001b[39m\u001b[39m\"\u001b[39m] \u001b[39mor\u001b[39;00m \u001b[39mcallable\u001b[39m(method):\n\u001b[1;32m-> 2727\u001b[0m     \u001b[39mreturn\u001b[39;00m nanops\u001b[39m.\u001b[39;49mnancorr(\n\u001b[0;32m   2728\u001b[0m         this\u001b[39m.\u001b[39;49mvalues, other\u001b[39m.\u001b[39;49mvalues, method\u001b[39m=\u001b[39;49mmethod, min_periods\u001b[39m=\u001b[39;49mmin_periods\n\u001b[0;32m   2729\u001b[0m     )\n\u001b[0;32m   2731\u001b[0m \u001b[39mraise\u001b[39;00m \u001b[39mValueError\u001b[39;00m(\n\u001b[0;32m   2732\u001b[0m     \u001b[39m\"\u001b[39m\u001b[39mmethod must be either \u001b[39m\u001b[39m'\u001b[39m\u001b[39mpearson\u001b[39m\u001b[39m'\u001b[39m\u001b[39m, \u001b[39m\u001b[39m\"\u001b[39m\n\u001b[0;32m   2733\u001b[0m     \u001b[39m\"\u001b[39m\u001b[39m'\u001b[39m\u001b[39mspearman\u001b[39m\u001b[39m'\u001b[39m\u001b[39m, \u001b[39m\u001b[39m'\u001b[39m\u001b[39mkendall\u001b[39m\u001b[39m'\u001b[39m\u001b[39m, or a callable, \u001b[39m\u001b[39m\"\u001b[39m\n\u001b[0;32m   2734\u001b[0m     \u001b[39mf\u001b[39m\u001b[39m\"\u001b[39m\u001b[39m'\u001b[39m\u001b[39m{\u001b[39;00mmethod\u001b[39m}\u001b[39;00m\u001b[39m'\u001b[39m\u001b[39m was supplied\u001b[39m\u001b[39m\"\u001b[39m\n\u001b[0;32m   2735\u001b[0m )\n",
      "File \u001b[1;32m~\\AppData\\Local\\Packages\\PythonSoftwareFoundation.Python.3.11_qbz5n2kfra8p0\\LocalCache\\local-packages\\Python311\\site-packages\\pandas\\core\\nanops.py:96\u001b[0m, in \u001b[0;36mdisallow.__call__.<locals>._f\u001b[1;34m(*args, **kwargs)\u001b[0m\n\u001b[0;32m     94\u001b[0m \u001b[39mtry\u001b[39;00m:\n\u001b[0;32m     95\u001b[0m     \u001b[39mwith\u001b[39;00m np\u001b[39m.\u001b[39merrstate(invalid\u001b[39m=\u001b[39m\u001b[39m\"\u001b[39m\u001b[39mignore\u001b[39m\u001b[39m\"\u001b[39m):\n\u001b[1;32m---> 96\u001b[0m         \u001b[39mreturn\u001b[39;00m f(\u001b[39m*\u001b[39;49margs, \u001b[39m*\u001b[39;49m\u001b[39m*\u001b[39;49mkwargs)\n\u001b[0;32m     97\u001b[0m \u001b[39mexcept\u001b[39;00m \u001b[39mValueError\u001b[39;00m \u001b[39mas\u001b[39;00m e:\n\u001b[0;32m     98\u001b[0m     \u001b[39m# we want to transform an object array\u001b[39;00m\n\u001b[0;32m     99\u001b[0m     \u001b[39m# ValueError message to the more typical TypeError\u001b[39;00m\n\u001b[0;32m    100\u001b[0m     \u001b[39m# e.g. this is normally a disallowed function on\u001b[39;00m\n\u001b[0;32m    101\u001b[0m     \u001b[39m# object arrays that contain strings\u001b[39;00m\n\u001b[0;32m    102\u001b[0m     \u001b[39mif\u001b[39;00m is_object_dtype(args[\u001b[39m0\u001b[39m]):\n",
      "File \u001b[1;32m~\\AppData\\Local\\Packages\\PythonSoftwareFoundation.Python.3.11_qbz5n2kfra8p0\\LocalCache\\local-packages\\Python311\\site-packages\\pandas\\core\\nanops.py:1614\u001b[0m, in \u001b[0;36mnancorr\u001b[1;34m(a, b, method, min_periods)\u001b[0m\n\u001b[0;32m   1611\u001b[0m     \u001b[39mreturn\u001b[39;00m np\u001b[39m.\u001b[39mnan\n\u001b[0;32m   1613\u001b[0m f \u001b[39m=\u001b[39m get_corr_func(method)\n\u001b[1;32m-> 1614\u001b[0m \u001b[39mreturn\u001b[39;00m f(a, b)\n",
      "File \u001b[1;32m~\\AppData\\Local\\Packages\\PythonSoftwareFoundation.Python.3.11_qbz5n2kfra8p0\\LocalCache\\local-packages\\Python311\\site-packages\\pandas\\core\\nanops.py:1637\u001b[0m, in \u001b[0;36mget_corr_func.<locals>.func\u001b[1;34m(a, b)\u001b[0m\n\u001b[0;32m   1636\u001b[0m \u001b[39mdef\u001b[39;00m \u001b[39mfunc\u001b[39m(a, b):\n\u001b[1;32m-> 1637\u001b[0m     \u001b[39mreturn\u001b[39;00m np\u001b[39m.\u001b[39;49mcorrcoef(a, b)[\u001b[39m0\u001b[39m, \u001b[39m1\u001b[39m]\n",
      "File \u001b[1;32m~\\AppData\\Local\\Packages\\PythonSoftwareFoundation.Python.3.11_qbz5n2kfra8p0\\LocalCache\\local-packages\\Python311\\site-packages\\numpy\\lib\\function_base.py:2889\u001b[0m, in \u001b[0;36mcorrcoef\u001b[1;34m(x, y, rowvar, bias, ddof, dtype)\u001b[0m\n\u001b[0;32m   2885\u001b[0m \u001b[39mif\u001b[39;00m bias \u001b[39mis\u001b[39;00m \u001b[39mnot\u001b[39;00m np\u001b[39m.\u001b[39m_NoValue \u001b[39mor\u001b[39;00m ddof \u001b[39mis\u001b[39;00m \u001b[39mnot\u001b[39;00m np\u001b[39m.\u001b[39m_NoValue:\n\u001b[0;32m   2886\u001b[0m     \u001b[39m# 2015-03-15, 1.10\u001b[39;00m\n\u001b[0;32m   2887\u001b[0m     warnings\u001b[39m.\u001b[39mwarn(\u001b[39m'\u001b[39m\u001b[39mbias and ddof have no effect and are deprecated\u001b[39m\u001b[39m'\u001b[39m,\n\u001b[0;32m   2888\u001b[0m                   \u001b[39mDeprecationWarning\u001b[39;00m, stacklevel\u001b[39m=\u001b[39m\u001b[39m2\u001b[39m)\n\u001b[1;32m-> 2889\u001b[0m c \u001b[39m=\u001b[39m cov(x, y, rowvar, dtype\u001b[39m=\u001b[39;49mdtype)\n\u001b[0;32m   2890\u001b[0m \u001b[39mtry\u001b[39;00m:\n\u001b[0;32m   2891\u001b[0m     d \u001b[39m=\u001b[39m diag(c)\n",
      "File \u001b[1;32m~\\AppData\\Local\\Packages\\PythonSoftwareFoundation.Python.3.11_qbz5n2kfra8p0\\LocalCache\\local-packages\\Python311\\site-packages\\numpy\\lib\\function_base.py:2724\u001b[0m, in \u001b[0;36mcov\u001b[1;34m(m, y, rowvar, bias, ddof, fweights, aweights, dtype)\u001b[0m\n\u001b[0;32m   2721\u001b[0m     \u001b[39melse\u001b[39;00m:\n\u001b[0;32m   2722\u001b[0m         w \u001b[39m*\u001b[39m\u001b[39m=\u001b[39m aweights\n\u001b[1;32m-> 2724\u001b[0m avg, w_sum \u001b[39m=\u001b[39m average(X, axis\u001b[39m=\u001b[39;49m\u001b[39m1\u001b[39;49m, weights\u001b[39m=\u001b[39;49mw, returned\u001b[39m=\u001b[39;49m\u001b[39mTrue\u001b[39;49;00m)\n\u001b[0;32m   2725\u001b[0m w_sum \u001b[39m=\u001b[39m w_sum[\u001b[39m0\u001b[39m]\n\u001b[0;32m   2727\u001b[0m \u001b[39m# Determine the normalization\u001b[39;00m\n",
      "File \u001b[1;32m~\\AppData\\Local\\Packages\\PythonSoftwareFoundation.Python.3.11_qbz5n2kfra8p0\\LocalCache\\local-packages\\Python311\\site-packages\\numpy\\lib\\function_base.py:557\u001b[0m, in \u001b[0;36maverage\u001b[1;34m(a, axis, weights, returned, keepdims)\u001b[0m\n\u001b[0;32m    553\u001b[0m     avg \u001b[39m=\u001b[39m avg_as_array \u001b[39m=\u001b[39m np\u001b[39m.\u001b[39mmultiply(a, wgt,\n\u001b[0;32m    554\u001b[0m                       dtype\u001b[39m=\u001b[39mresult_dtype)\u001b[39m.\u001b[39msum(axis, \u001b[39m*\u001b[39m\u001b[39m*\u001b[39mkeepdims_kw) \u001b[39m/\u001b[39m scl\n\u001b[0;32m    556\u001b[0m \u001b[39mif\u001b[39;00m returned:\n\u001b[1;32m--> 557\u001b[0m     \u001b[39mif\u001b[39;00m scl\u001b[39m.\u001b[39;49mshape \u001b[39m!=\u001b[39m avg_as_array\u001b[39m.\u001b[39mshape:\n\u001b[0;32m    558\u001b[0m         scl \u001b[39m=\u001b[39m np\u001b[39m.\u001b[39mbroadcast_to(scl, avg_as_array\u001b[39m.\u001b[39mshape)\u001b[39m.\u001b[39mcopy()\n\u001b[0;32m    559\u001b[0m     \u001b[39mreturn\u001b[39;00m avg, scl\n",
      "\u001b[1;31mAttributeError\u001b[0m: 'float' object has no attribute 'shape'"
     ]
    }
   ],
   "source": [
    "df1 = raw_data_woCat[['meansOfControlDebtBondage','meansOfControlTakesEarnings', 'meansOfControlRestrictsFinancialAccess',\n",
    "                            'meansOfControlThreats', 'meansOfControlPsychologicalAbuse']]\n",
    "df2 = raw_data_woCat['ageBroadID']\n",
    "df1.corrwith(df2)"
   ]
  },
  {
   "cell_type": "code",
   "execution_count": null,
   "metadata": {},
   "outputs": [],
   "source": []
  },
  {
   "cell_type": "markdown",
   "metadata": {},
   "source": [
    "## PENDIENTE \n",
    "- CODIGOS PARA CATEGORICAS\n",
    "- CODIGOS ISO PARA PAISES"
   ]
  }
 ],
 "metadata": {
  "kernelspec": {
   "display_name": "Python 3",
   "language": "python",
   "name": "python3"
  },
  "language_info": {
   "codemirror_mode": {
    "name": "ipython",
    "version": 3
   },
   "file_extension": ".py",
   "mimetype": "text/x-python",
   "name": "python",
   "nbconvert_exporter": "python",
   "pygments_lexer": "ipython3",
   "version": "3.11.4"
  },
  "orig_nbformat": 4
 },
 "nbformat": 4,
 "nbformat_minor": 2
}
