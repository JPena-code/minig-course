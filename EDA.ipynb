{
 "cells": [
  {
   "cell_type": "markdown",
   "metadata": {},
   "source": [
    "# Import Modules\n",
    "This section imports the required modules and prepare the raw content of the file in the desired\n",
    "data type for performance"
   ]
  },
  {
   "cell_type": "code",
   "execution_count": 2,
   "metadata": {
    "tags": []
   },
   "outputs": [],
   "source": [
    "import re\n",
    "import pycountry\n",
    "import numpy as np\n",
    "import pandas as pd\n",
    "import matplotlib.pyplot as plt\n",
    "import seaborn as sns\n",
    "import plotly\n",
    "import plotly.express as px\n",
    "\n",
    "#!pip install --quiet pycountry_convert\n",
    "from pycountry_convert import country_alpha2_to_country_name, country_name_to_country_alpha3\n",
    "from zipfile import ZipFile\n",
    "from wordcloud import WordCloud\n",
    "from pandas.api.types import CategoricalDtype"
   ]
  },
  {
   "cell_type": "code",
   "execution_count": null,
   "metadata": {},
   "outputs": [
    {
     "name": "stdout",
     "output_type": "stream",
     "text": [
      "Collecting nbformat\n",
      "  Obtaining dependency information for nbformat from https://files.pythonhosted.org/packages/f4/e7/ef30a90b70eba39e675689b9eaaa92530a71d7435ab8f9cae520814e0caf/nbformat-5.9.2-py3-none-any.whl.metadata\n",
      "  Downloading nbformat-5.9.2-py3-none-any.whl.metadata (3.4 kB)\n",
      "Collecting fastjsonschema (from nbformat)\n",
      "  Obtaining dependency information for fastjsonschema from https://files.pythonhosted.org/packages/9d/93/a3ca3cdeb84065d7d8f8df4cb09ab44405f109183c1d2b915ec17574e6b1/fastjsonschema-2.18.0-py3-none-any.whl.metadata\n",
      "  Downloading fastjsonschema-2.18.0-py3-none-any.whl.metadata (2.0 kB)\n",
      "Requirement already satisfied: jsonschema>=2.6 in c:\\users\\home\\appdata\\local\\packages\\pythonsoftwarefoundation.python.3.11_qbz5n2kfra8p0\\localcache\\local-packages\\python311\\site-packages (from nbformat) (4.18.0)\n",
      "Requirement already satisfied: jupyter-core in c:\\users\\home\\appdata\\local\\packages\\pythonsoftwarefoundation.python.3.11_qbz5n2kfra8p0\\localcache\\local-packages\\python311\\site-packages (from nbformat) (5.3.1)\n",
      "Requirement already satisfied: traitlets>=5.1 in c:\\users\\home\\appdata\\local\\packages\\pythonsoftwarefoundation.python.3.11_qbz5n2kfra8p0\\localcache\\local-packages\\python311\\site-packages (from nbformat) (5.9.0)\n",
      "Requirement already satisfied: attrs>=22.2.0 in c:\\users\\home\\appdata\\local\\packages\\pythonsoftwarefoundation.python.3.11_qbz5n2kfra8p0\\localcache\\local-packages\\python311\\site-packages (from jsonschema>=2.6->nbformat) (23.1.0)\n",
      "Requirement already satisfied: jsonschema-specifications>=2023.03.6 in c:\\users\\home\\appdata\\local\\packages\\pythonsoftwarefoundation.python.3.11_qbz5n2kfra8p0\\localcache\\local-packages\\python311\\site-packages (from jsonschema>=2.6->nbformat) (2023.6.1)\n",
      "Requirement already satisfied: referencing>=0.28.4 in c:\\users\\home\\appdata\\local\\packages\\pythonsoftwarefoundation.python.3.11_qbz5n2kfra8p0\\localcache\\local-packages\\python311\\site-packages (from jsonschema>=2.6->nbformat) (0.29.1)\n",
      "Requirement already satisfied: rpds-py>=0.7.1 in c:\\users\\home\\appdata\\local\\packages\\pythonsoftwarefoundation.python.3.11_qbz5n2kfra8p0\\localcache\\local-packages\\python311\\site-packages (from jsonschema>=2.6->nbformat) (0.8.10)\n",
      "Requirement already satisfied: platformdirs>=2.5 in c:\\users\\home\\appdata\\local\\packages\\pythonsoftwarefoundation.python.3.11_qbz5n2kfra8p0\\localcache\\local-packages\\python311\\site-packages (from jupyter-core->nbformat) (3.8.0)\n",
      "Requirement already satisfied: pywin32>=300 in c:\\users\\home\\appdata\\local\\packages\\pythonsoftwarefoundation.python.3.11_qbz5n2kfra8p0\\localcache\\local-packages\\python311\\site-packages (from jupyter-core->nbformat) (306)\n",
      "Downloading nbformat-5.9.2-py3-none-any.whl (77 kB)\n",
      "   ---------------------------------------- 0.0/77.6 kB ? eta -:--:--\n",
      "   ---------------------------------------- 0.0/77.6 kB ? eta -:--:--\n",
      "   ----- ---------------------------------- 10.2/77.6 kB ? eta -:--:--\n",
      "   ----- ---------------------------------- 10.2/77.6 kB ? eta -:--:--\n",
      "   --------------- ------------------------ 30.7/77.6 kB 187.9 kB/s eta 0:00:01\n",
      "   --------------------- ------------------ 41.0/77.6 kB 178.6 kB/s eta 0:00:01\n",
      "   ------------------------------- -------- 61.4/77.6 kB 218.8 kB/s eta 0:00:01\n",
      "   ------------------------------------ --- 71.7/77.6 kB 245.8 kB/s eta 0:00:01\n",
      "   ---------------------------------------- 77.6/77.6 kB 226.8 kB/s eta 0:00:00\n",
      "Downloading fastjsonschema-2.18.0-py3-none-any.whl (23 kB)\n",
      "Installing collected packages: fastjsonschema, nbformat\n",
      "Successfully installed fastjsonschema-2.18.0 nbformat-5.9.2\n"
     ]
    }
   ],
   "source": [
    "#!pip install nbformat"
   ]
  },
  {
   "cell_type": "code",
   "execution_count": 3,
   "metadata": {},
   "outputs": [],
   "source": [
    "def get_alpha3(col):\n",
    "    try:\n",
    "        iso_3 =  country_name_to_country_alpha3(col)\n",
    "    except:\n",
    "        iso_3 = 'Unknown'\n",
    "    return iso_3\n",
    "\n",
    "def get_name(col):\n",
    "    try:\n",
    "        name =  country_alpha2_to_country_name(col)\n",
    "    except:\n",
    "        name = 'Unknown'\n",
    "    return name"
   ]
  },
  {
   "cell_type": "markdown",
   "metadata": {},
   "source": [
    "### Read file"
   ]
  },
  {
   "cell_type": "code",
   "execution_count": 4,
   "metadata": {},
   "outputs": [],
   "source": [
    "# Read csv file ziped\n",
    "zip_path = './data/human-trafficking-victims-dataset-ctdc.zip'\n",
    "data_file = None\n",
    "raw_data = None\n",
    "with ZipFile(zip_path) as zip_file:\n",
    "    for commpresed in zip_file.filelist:\n",
    "        if commpresed.filename.endswith('csv'):\n",
    "            with zip_file.open(commpresed) as data_file:\n",
    "                raw_data = pd.read_csv(\n",
    "                    data_file,\n",
    "                    sep=';',\n",
    "                    header=0,\n",
    "                    low_memory=False,\n",
    "                    usecols=range(1,64),)"
   ]
  },
  {
   "cell_type": "markdown",
   "metadata": {},
   "source": [
    "### Data type convertion"
   ]
  },
  {
   "cell_type": "code",
   "execution_count": 5,
   "metadata": {},
   "outputs": [],
   "source": [
    "# Setting values of categorical attribute\n",
    "# for performnce at processing time\n",
    "# Age numerical categories\n",
    "age_range = [\n",
    "    '0--8',\n",
    "    '9--17',\n",
    "    '18--20',\n",
    "    '21--23',\n",
    "    '24--26',\n",
    "    '27--29',\n",
    "    '30--38',\n",
    "    '39--47',\n",
    "    '48+'\n",
    "]\n",
    "# Gender categories\n",
    "gender_values = [\n",
    "    'Male',\n",
    "    'Female',\n",
    "    'Transgender/NonConforming',\n",
    "]\n",
    "# Age status categories\n",
    "age_cate = [\n",
    "    'Adult',\n",
    "    'Minor',\n",
    "]\n",
    "# Data recorders categories\n",
    "data_source = [\n",
    "    'Case Management',\n",
    "    'Hotline'\n",
    "]\n",
    "# Categorical pandas objects\n",
    "age_cat_range = CategoricalDtype(categories=age_range, ordered=True)\n",
    "gender_cat = CategoricalDtype(categories=gender_values, ordered=False)\n",
    "age_cat = CategoricalDtype(categories=age_cate, ordered=True)\n",
    "data_cat_source = CategoricalDtype(categories=data_source, ordered=False)"
   ]
  },
  {
   "cell_type": "code",
   "execution_count": 6,
   "metadata": {},
   "outputs": [],
   "source": [
    "# Convert all values read as float due to NaN\n",
    "raw_data = raw_data.apply(lambda serie: serie.astype('Int32', errors='ignore'))\n",
    "# Converto to categorical types\n",
    "raw_data['Datasource'] = raw_data['Datasource'].astype(data_cat_source)\n",
    "raw_data['gender'] = raw_data['gender'].astype(gender_cat)\n",
    "raw_data['ageBroad'] = raw_data['ageBroad'].astype(age_cat_range)\n",
    "raw_data['citizenship'] = raw_data['citizenship'].astype(\"category\")\n",
    "raw_data['yearOfRegistration'] = raw_data['yearOfRegistration'].astype(\"category\")\n",
    "raw_data['CountryOfExploitation'] = raw_data['CountryOfExploitation'].astype(\"category\")\n",
    "\n",
    "columns_age_cat = ['majorityStatus', 'majorityStatusAtExploit', 'majorityEntry']\n",
    "raw_data[columns_age_cat] = raw_data[columns_age_cat].astype(age_cat)"
   ]
  },
  {
   "cell_type": "code",
   "execution_count": null,
   "metadata": {},
   "outputs": [],
   "source": []
  },
  {
   "cell_type": "markdown",
   "metadata": {},
   "source": [
    "### Others objects"
   ]
  },
  {
   "cell_type": "code",
   "execution_count": 6,
   "metadata": {},
   "outputs": [],
   "source": [
    "# Object to perform the word cloud plot\n",
    "word_cloud = WordCloud(\n",
    "    contour_color='black',\n",
    "    collocations=False,\n",
    "    mode='RGB',\n",
    "    background_color='white',\n",
    "    colormap='RdYlBu')\n",
    "\n",
    "# Categorical objects attributes\n",
    "categorical_columns = [\n",
    "    'ageBroad',\n",
    "    'Datasource',\n",
    "    'gender',\n",
    "    'majorityStatus',\n",
    "    'majorityStatusAtExploit',\n",
    "    'majorityEntry']\n",
    "\n",
    "# Categorical countries\n",
    "country_columns = [\n",
    "    'citizenship',\n",
    "    'CountryOfExploitation']\n",
    "\n",
    "# Method to convert country ISO2 to ISO numeric code\n",
    "def country_code(country):\n",
    "    try:\n",
    "        return pycountry.countries.lookup(country).numeric\n",
    "    except LookupError:\n",
    "        # It is a missing data and cannot be convert 'NaN'\n",
    "        # value of contry to numeric code\n",
    "        return -1 "
   ]
  },
  {
   "cell_type": "markdown",
   "metadata": {},
   "source": [
    "# Descriptive analysis\n",
    "\n"
   ]
  },
  {
   "cell_type": "markdown",
   "metadata": {},
   "source": [
    "### Data presentation"
   ]
  },
  {
   "cell_type": "code",
   "execution_count": 7,
   "metadata": {},
   "outputs": [
    {
     "data": {
      "text/html": [
       "<div>\n",
       "<style scoped>\n",
       "    .dataframe tbody tr th:only-of-type {\n",
       "        vertical-align: middle;\n",
       "    }\n",
       "\n",
       "    .dataframe tbody tr th {\n",
       "        vertical-align: top;\n",
       "    }\n",
       "\n",
       "    .dataframe thead th {\n",
       "        text-align: right;\n",
       "    }\n",
       "</style>\n",
       "<table border=\"1\" class=\"dataframe\">\n",
       "  <thead>\n",
       "    <tr style=\"text-align: right;\">\n",
       "      <th></th>\n",
       "      <th>yearOfRegistration</th>\n",
       "      <th>Datasource</th>\n",
       "      <th>gender</th>\n",
       "      <th>ageBroad</th>\n",
       "      <th>majorityStatus</th>\n",
       "      <th>majorityStatusAtExploit</th>\n",
       "      <th>majorityEntry</th>\n",
       "      <th>citizenship</th>\n",
       "      <th>meansOfControlDebtBondage</th>\n",
       "      <th>meansOfControlTakesEarnings</th>\n",
       "      <th>...</th>\n",
       "      <th>typeOfSexPrivateSexualServices</th>\n",
       "      <th>typeOfSexConcatenated</th>\n",
       "      <th>isAbduction</th>\n",
       "      <th>RecruiterRelationship</th>\n",
       "      <th>CountryOfExploitation</th>\n",
       "      <th>recruiterRelationIntimatePartner</th>\n",
       "      <th>recruiterRelationFriend</th>\n",
       "      <th>recruiterRelationFamily</th>\n",
       "      <th>recruiterRelationOther</th>\n",
       "      <th>recruiterRelationUnknown</th>\n",
       "    </tr>\n",
       "  </thead>\n",
       "  <tbody>\n",
       "    <tr>\n",
       "      <th>0</th>\n",
       "      <td>2002</td>\n",
       "      <td>Case Management</td>\n",
       "      <td>Female</td>\n",
       "      <td>18--20</td>\n",
       "      <td>Adult</td>\n",
       "      <td>NaN</td>\n",
       "      <td>NaN</td>\n",
       "      <td>CO</td>\n",
       "      <td>&lt;NA&gt;</td>\n",
       "      <td>&lt;NA&gt;</td>\n",
       "      <td>...</td>\n",
       "      <td>&lt;NA&gt;</td>\n",
       "      <td>NaN</td>\n",
       "      <td>0</td>\n",
       "      <td>NaN</td>\n",
       "      <td>NaN</td>\n",
       "      <td>0</td>\n",
       "      <td>0</td>\n",
       "      <td>0</td>\n",
       "      <td>0</td>\n",
       "      <td>1</td>\n",
       "    </tr>\n",
       "    <tr>\n",
       "      <th>1</th>\n",
       "      <td>2002</td>\n",
       "      <td>Case Management</td>\n",
       "      <td>Female</td>\n",
       "      <td>18--20</td>\n",
       "      <td>Adult</td>\n",
       "      <td>NaN</td>\n",
       "      <td>NaN</td>\n",
       "      <td>CO</td>\n",
       "      <td>&lt;NA&gt;</td>\n",
       "      <td>&lt;NA&gt;</td>\n",
       "      <td>...</td>\n",
       "      <td>&lt;NA&gt;</td>\n",
       "      <td>NaN</td>\n",
       "      <td>0</td>\n",
       "      <td>NaN</td>\n",
       "      <td>NaN</td>\n",
       "      <td>0</td>\n",
       "      <td>0</td>\n",
       "      <td>0</td>\n",
       "      <td>0</td>\n",
       "      <td>1</td>\n",
       "    </tr>\n",
       "    <tr>\n",
       "      <th>2</th>\n",
       "      <td>2002</td>\n",
       "      <td>Case Management</td>\n",
       "      <td>Female</td>\n",
       "      <td>18--20</td>\n",
       "      <td>Adult</td>\n",
       "      <td>NaN</td>\n",
       "      <td>NaN</td>\n",
       "      <td>CO</td>\n",
       "      <td>&lt;NA&gt;</td>\n",
       "      <td>&lt;NA&gt;</td>\n",
       "      <td>...</td>\n",
       "      <td>&lt;NA&gt;</td>\n",
       "      <td>NaN</td>\n",
       "      <td>0</td>\n",
       "      <td>NaN</td>\n",
       "      <td>NaN</td>\n",
       "      <td>0</td>\n",
       "      <td>0</td>\n",
       "      <td>0</td>\n",
       "      <td>0</td>\n",
       "      <td>1</td>\n",
       "    </tr>\n",
       "    <tr>\n",
       "      <th>3</th>\n",
       "      <td>2002</td>\n",
       "      <td>Case Management</td>\n",
       "      <td>Female</td>\n",
       "      <td>18--20</td>\n",
       "      <td>Adult</td>\n",
       "      <td>NaN</td>\n",
       "      <td>NaN</td>\n",
       "      <td>CO</td>\n",
       "      <td>&lt;NA&gt;</td>\n",
       "      <td>&lt;NA&gt;</td>\n",
       "      <td>...</td>\n",
       "      <td>&lt;NA&gt;</td>\n",
       "      <td>NaN</td>\n",
       "      <td>0</td>\n",
       "      <td>NaN</td>\n",
       "      <td>NaN</td>\n",
       "      <td>0</td>\n",
       "      <td>0</td>\n",
       "      <td>0</td>\n",
       "      <td>0</td>\n",
       "      <td>1</td>\n",
       "    </tr>\n",
       "    <tr>\n",
       "      <th>4</th>\n",
       "      <td>2002</td>\n",
       "      <td>Case Management</td>\n",
       "      <td>Female</td>\n",
       "      <td>18--20</td>\n",
       "      <td>Adult</td>\n",
       "      <td>NaN</td>\n",
       "      <td>NaN</td>\n",
       "      <td>CO</td>\n",
       "      <td>&lt;NA&gt;</td>\n",
       "      <td>&lt;NA&gt;</td>\n",
       "      <td>...</td>\n",
       "      <td>&lt;NA&gt;</td>\n",
       "      <td>NaN</td>\n",
       "      <td>0</td>\n",
       "      <td>NaN</td>\n",
       "      <td>NaN</td>\n",
       "      <td>0</td>\n",
       "      <td>0</td>\n",
       "      <td>0</td>\n",
       "      <td>0</td>\n",
       "      <td>1</td>\n",
       "    </tr>\n",
       "    <tr>\n",
       "      <th>...</th>\n",
       "      <td>...</td>\n",
       "      <td>...</td>\n",
       "      <td>...</td>\n",
       "      <td>...</td>\n",
       "      <td>...</td>\n",
       "      <td>...</td>\n",
       "      <td>...</td>\n",
       "      <td>...</td>\n",
       "      <td>...</td>\n",
       "      <td>...</td>\n",
       "      <td>...</td>\n",
       "      <td>...</td>\n",
       "      <td>...</td>\n",
       "      <td>...</td>\n",
       "      <td>...</td>\n",
       "      <td>...</td>\n",
       "      <td>...</td>\n",
       "      <td>...</td>\n",
       "      <td>...</td>\n",
       "      <td>...</td>\n",
       "      <td>...</td>\n",
       "    </tr>\n",
       "    <tr>\n",
       "      <th>97745</th>\n",
       "      <td>&lt;NA&gt;</td>\n",
       "      <td>Case Management</td>\n",
       "      <td>Male</td>\n",
       "      <td>9--17</td>\n",
       "      <td>Minor</td>\n",
       "      <td>NaN</td>\n",
       "      <td>NaN</td>\n",
       "      <td>CM</td>\n",
       "      <td>&lt;NA&gt;</td>\n",
       "      <td>&lt;NA&gt;</td>\n",
       "      <td>...</td>\n",
       "      <td>&lt;NA&gt;</td>\n",
       "      <td>NaN</td>\n",
       "      <td>&lt;NA&gt;</td>\n",
       "      <td>NaN</td>\n",
       "      <td>LY</td>\n",
       "      <td>0</td>\n",
       "      <td>0</td>\n",
       "      <td>0</td>\n",
       "      <td>0</td>\n",
       "      <td>1</td>\n",
       "    </tr>\n",
       "    <tr>\n",
       "      <th>97746</th>\n",
       "      <td>&lt;NA&gt;</td>\n",
       "      <td>Case Management</td>\n",
       "      <td>Male</td>\n",
       "      <td>9--17</td>\n",
       "      <td>Minor</td>\n",
       "      <td>NaN</td>\n",
       "      <td>NaN</td>\n",
       "      <td>CM</td>\n",
       "      <td>&lt;NA&gt;</td>\n",
       "      <td>&lt;NA&gt;</td>\n",
       "      <td>...</td>\n",
       "      <td>&lt;NA&gt;</td>\n",
       "      <td>NaN</td>\n",
       "      <td>&lt;NA&gt;</td>\n",
       "      <td>NaN</td>\n",
       "      <td>LY</td>\n",
       "      <td>0</td>\n",
       "      <td>0</td>\n",
       "      <td>0</td>\n",
       "      <td>0</td>\n",
       "      <td>1</td>\n",
       "    </tr>\n",
       "    <tr>\n",
       "      <th>97747</th>\n",
       "      <td>&lt;NA&gt;</td>\n",
       "      <td>Case Management</td>\n",
       "      <td>Male</td>\n",
       "      <td>9--17</td>\n",
       "      <td>Minor</td>\n",
       "      <td>NaN</td>\n",
       "      <td>NaN</td>\n",
       "      <td>CM</td>\n",
       "      <td>&lt;NA&gt;</td>\n",
       "      <td>&lt;NA&gt;</td>\n",
       "      <td>...</td>\n",
       "      <td>&lt;NA&gt;</td>\n",
       "      <td>NaN</td>\n",
       "      <td>&lt;NA&gt;</td>\n",
       "      <td>NaN</td>\n",
       "      <td>LY</td>\n",
       "      <td>0</td>\n",
       "      <td>0</td>\n",
       "      <td>0</td>\n",
       "      <td>0</td>\n",
       "      <td>1</td>\n",
       "    </tr>\n",
       "    <tr>\n",
       "      <th>97748</th>\n",
       "      <td>&lt;NA&gt;</td>\n",
       "      <td>Case Management</td>\n",
       "      <td>Male</td>\n",
       "      <td>9--17</td>\n",
       "      <td>Minor</td>\n",
       "      <td>NaN</td>\n",
       "      <td>NaN</td>\n",
       "      <td>CM</td>\n",
       "      <td>&lt;NA&gt;</td>\n",
       "      <td>&lt;NA&gt;</td>\n",
       "      <td>...</td>\n",
       "      <td>&lt;NA&gt;</td>\n",
       "      <td>NaN</td>\n",
       "      <td>&lt;NA&gt;</td>\n",
       "      <td>NaN</td>\n",
       "      <td>LY</td>\n",
       "      <td>0</td>\n",
       "      <td>0</td>\n",
       "      <td>0</td>\n",
       "      <td>0</td>\n",
       "      <td>1</td>\n",
       "    </tr>\n",
       "    <tr>\n",
       "      <th>97749</th>\n",
       "      <td>&lt;NA&gt;</td>\n",
       "      <td>Case Management</td>\n",
       "      <td>Male</td>\n",
       "      <td>9--17</td>\n",
       "      <td>Minor</td>\n",
       "      <td>NaN</td>\n",
       "      <td>NaN</td>\n",
       "      <td>CM</td>\n",
       "      <td>&lt;NA&gt;</td>\n",
       "      <td>&lt;NA&gt;</td>\n",
       "      <td>...</td>\n",
       "      <td>&lt;NA&gt;</td>\n",
       "      <td>NaN</td>\n",
       "      <td>&lt;NA&gt;</td>\n",
       "      <td>NaN</td>\n",
       "      <td>LY</td>\n",
       "      <td>0</td>\n",
       "      <td>0</td>\n",
       "      <td>0</td>\n",
       "      <td>0</td>\n",
       "      <td>1</td>\n",
       "    </tr>\n",
       "  </tbody>\n",
       "</table>\n",
       "<p>97750 rows × 63 columns</p>\n",
       "</div>"
      ],
      "text/plain": [
       "       yearOfRegistration       Datasource  gender ageBroad majorityStatus  \\\n",
       "0                    2002  Case Management  Female   18--20          Adult   \n",
       "1                    2002  Case Management  Female   18--20          Adult   \n",
       "2                    2002  Case Management  Female   18--20          Adult   \n",
       "3                    2002  Case Management  Female   18--20          Adult   \n",
       "4                    2002  Case Management  Female   18--20          Adult   \n",
       "...                   ...              ...     ...      ...            ...   \n",
       "97745                <NA>  Case Management    Male    9--17          Minor   \n",
       "97746                <NA>  Case Management    Male    9--17          Minor   \n",
       "97747                <NA>  Case Management    Male    9--17          Minor   \n",
       "97748                <NA>  Case Management    Male    9--17          Minor   \n",
       "97749                <NA>  Case Management    Male    9--17          Minor   \n",
       "\n",
       "      majorityStatusAtExploit majorityEntry citizenship  \\\n",
       "0                         NaN           NaN          CO   \n",
       "1                         NaN           NaN          CO   \n",
       "2                         NaN           NaN          CO   \n",
       "3                         NaN           NaN          CO   \n",
       "4                         NaN           NaN          CO   \n",
       "...                       ...           ...         ...   \n",
       "97745                     NaN           NaN          CM   \n",
       "97746                     NaN           NaN          CM   \n",
       "97747                     NaN           NaN          CM   \n",
       "97748                     NaN           NaN          CM   \n",
       "97749                     NaN           NaN          CM   \n",
       "\n",
       "       meansOfControlDebtBondage  meansOfControlTakesEarnings  ...  \\\n",
       "0                           <NA>                         <NA>  ...   \n",
       "1                           <NA>                         <NA>  ...   \n",
       "2                           <NA>                         <NA>  ...   \n",
       "3                           <NA>                         <NA>  ...   \n",
       "4                           <NA>                         <NA>  ...   \n",
       "...                          ...                          ...  ...   \n",
       "97745                       <NA>                         <NA>  ...   \n",
       "97746                       <NA>                         <NA>  ...   \n",
       "97747                       <NA>                         <NA>  ...   \n",
       "97748                       <NA>                         <NA>  ...   \n",
       "97749                       <NA>                         <NA>  ...   \n",
       "\n",
       "       typeOfSexPrivateSexualServices  typeOfSexConcatenated  isAbduction  \\\n",
       "0                                <NA>                    NaN            0   \n",
       "1                                <NA>                    NaN            0   \n",
       "2                                <NA>                    NaN            0   \n",
       "3                                <NA>                    NaN            0   \n",
       "4                                <NA>                    NaN            0   \n",
       "...                               ...                    ...          ...   \n",
       "97745                            <NA>                    NaN         <NA>   \n",
       "97746                            <NA>                    NaN         <NA>   \n",
       "97747                            <NA>                    NaN         <NA>   \n",
       "97748                            <NA>                    NaN         <NA>   \n",
       "97749                            <NA>                    NaN         <NA>   \n",
       "\n",
       "       RecruiterRelationship  CountryOfExploitation  \\\n",
       "0                        NaN                    NaN   \n",
       "1                        NaN                    NaN   \n",
       "2                        NaN                    NaN   \n",
       "3                        NaN                    NaN   \n",
       "4                        NaN                    NaN   \n",
       "...                      ...                    ...   \n",
       "97745                    NaN                     LY   \n",
       "97746                    NaN                     LY   \n",
       "97747                    NaN                     LY   \n",
       "97748                    NaN                     LY   \n",
       "97749                    NaN                     LY   \n",
       "\n",
       "       recruiterRelationIntimatePartner  recruiterRelationFriend  \\\n",
       "0                                     0                        0   \n",
       "1                                     0                        0   \n",
       "2                                     0                        0   \n",
       "3                                     0                        0   \n",
       "4                                     0                        0   \n",
       "...                                 ...                      ...   \n",
       "97745                                 0                        0   \n",
       "97746                                 0                        0   \n",
       "97747                                 0                        0   \n",
       "97748                                 0                        0   \n",
       "97749                                 0                        0   \n",
       "\n",
       "       recruiterRelationFamily  recruiterRelationOther  \\\n",
       "0                            0                       0   \n",
       "1                            0                       0   \n",
       "2                            0                       0   \n",
       "3                            0                       0   \n",
       "4                            0                       0   \n",
       "...                        ...                     ...   \n",
       "97745                        0                       0   \n",
       "97746                        0                       0   \n",
       "97747                        0                       0   \n",
       "97748                        0                       0   \n",
       "97749                        0                       0   \n",
       "\n",
       "       recruiterRelationUnknown  \n",
       "0                             1  \n",
       "1                             1  \n",
       "2                             1  \n",
       "3                             1  \n",
       "4                             1  \n",
       "...                         ...  \n",
       "97745                         1  \n",
       "97746                         1  \n",
       "97747                         1  \n",
       "97748                         1  \n",
       "97749                         1  \n",
       "\n",
       "[97750 rows x 63 columns]"
      ]
     },
     "execution_count": 7,
     "metadata": {},
     "output_type": "execute_result"
    }
   ],
   "source": [
    "raw_data"
   ]
  },
  {
   "cell_type": "code",
   "execution_count": 8,
   "metadata": {},
   "outputs": [
    {
     "name": "stdout",
     "output_type": "stream",
     "text": [
      "<class 'pandas.core.frame.DataFrame'>\n",
      "RangeIndex: 97750 entries, 0 to 97749\n",
      "Data columns (total 63 columns):\n",
      " #   Column                                  Non-Null Count  Dtype   \n",
      "---  ------                                  --------------  -----   \n",
      " 0   yearOfRegistration                      95739 non-null  Int32   \n",
      " 1   Datasource                              97750 non-null  category\n",
      " 2   gender                                  89612 non-null  category\n",
      " 3   ageBroad                                50967 non-null  category\n",
      " 4   majorityStatus                          71246 non-null  category\n",
      " 5   majorityStatusAtExploit                 21286 non-null  category\n",
      " 6   majorityEntry                           7252 non-null   category\n",
      " 7   citizenship                             53290 non-null  object  \n",
      " 8   meansOfControlDebtBondage               8235 non-null   Int32   \n",
      " 9   meansOfControlTakesEarnings             11438 non-null  Int32   \n",
      " 10  meansOfControlRestrictsFinancialAccess  4331 non-null   Int32   \n",
      " 11  meansOfControlThreats                   15527 non-null  Int32   \n",
      " 12  meansOfControlPsychologicalAbuse        14736 non-null  Int32   \n",
      " 13  meansOfControlPhysicalAbuse             11933 non-null  Int32   \n",
      " 14  meansOfControlSexualAbuse               9013 non-null   Int32   \n",
      " 15  meansOfControlFalsePromises             8124 non-null   Int32   \n",
      " 16  meansOfControlPsychoactiveSubstances    10972 non-null  Int32   \n",
      " 17  meansOfControlRestrictsMovement         14113 non-null  Int32   \n",
      " 18  meansOfControlRestrictsMedicalCare      5971 non-null   Int32   \n",
      " 19  meansOfControlExcessiveWorkingHours     8629 non-null   Int32   \n",
      " 20  meansOfControlUsesChildren              3909 non-null   Int32   \n",
      " 21  meansOfControlThreatOfLawEnforcement    8923 non-null   Int32   \n",
      " 22  meansOfControlWithholdsNecessities      8886 non-null   Int32   \n",
      " 23  meansOfControlWithholdsDocuments        8284 non-null   Int32   \n",
      " 24  meansOfControlOther                     11604 non-null  Int32   \n",
      " 25  meansOfControlNotSpecified              83783 non-null  Int32   \n",
      " 26  meansOfControlConcatenated              58315 non-null  object  \n",
      " 27  isForcedLabour                          65647 non-null  Int32   \n",
      " 28  isSexualExploit                         65401 non-null  Int32   \n",
      " 29  isOtherExploit                          73421 non-null  Int32   \n",
      " 30  isSexAndLabour                          62568 non-null  Int32   \n",
      " 31  isForcedMarriage                        13504 non-null  Int32   \n",
      " 32  isForcedMilitary                        13836 non-null  Int32   \n",
      " 33  isOrganRemoval                          13836 non-null  Int32   \n",
      " 34  isSlaveryAndPractices                   8876 non-null   Int32   \n",
      " 35  typeOfExploitConcatenated               66289 non-null  object  \n",
      " 36  typeOfLabourAgriculture                 61606 non-null  Int32   \n",
      " 37  typeOfLabourAquafarming                 61577 non-null  Int32   \n",
      " 38  typeOfLabourBegging                     61564 non-null  Int32   \n",
      " 39  typeOfLabourConstruction                61886 non-null  Int32   \n",
      " 40  typeOfLabourDomesticWork                63695 non-null  Int32   \n",
      " 41  typeOfLabourHospitality                 62718 non-null  Int32   \n",
      " 42  typeOfLabourIllicitActivities           61486 non-null  Int32   \n",
      " 43  typeOfLabourManufacturing               61676 non-null  Int32   \n",
      " 44  typeOfLabourMiningOrDrilling            61564 non-null  Int32   \n",
      " 45  typeOfLabourPeddling                    61486 non-null  Int32   \n",
      " 46  typeOfLabourTransportation              61564 non-null  Int32   \n",
      " 47  typeOfLabourOther                       62725 non-null  Int32   \n",
      " 48  typeOfLabourNotSpecified                63216 non-null  Int32   \n",
      " 49  typeOfLabourConcatenated                16613 non-null  object  \n",
      " 50  typeOfSexProstitution                   39662 non-null  Int32   \n",
      " 51  typeOfSexPornography                    30732 non-null  Int32   \n",
      " 52  typeOfSexRemoteInteractiveServices      30732 non-null  Int32   \n",
      " 53  typeOfSexPrivateSexualServices          29167 non-null  Int32   \n",
      " 54  typeOfSexConcatenated                   15758 non-null  object  \n",
      " 55  isAbduction                             30422 non-null  Int32   \n",
      " 56  RecruiterRelationship                   59185 non-null  object  \n",
      " 57  CountryOfExploitation                   73492 non-null  object  \n",
      " 58  recruiterRelationIntimatePartner        57963 non-null  Int32   \n",
      " 59  recruiterRelationFriend                 57963 non-null  Int32   \n",
      " 60  recruiterRelationFamily                 57963 non-null  Int32   \n",
      " 61  recruiterRelationOther                  57963 non-null  Int32   \n",
      " 62  recruiterRelationUnknown                97514 non-null  Int32   \n",
      "dtypes: Int32(50), category(6), object(7)\n",
      "memory usage: 29.1+ MB\n"
     ]
    }
   ],
   "source": [
    "raw_data.info()"
   ]
  },
  {
   "cell_type": "code",
   "execution_count": 9,
   "metadata": {},
   "outputs": [
    {
     "name": "stdout",
     "output_type": "stream",
     "text": [
      "The data-set has a total of records and atributes (97750, 63)\n",
      "\n",
      "Count total of data types in data-set\n",
      "Int32       50\n",
      "object       7\n",
      "category     3\n",
      "category     1\n",
      "category     1\n",
      "category     1\n"
     ]
    }
   ],
   "source": [
    "print(f'The data-set has a total of records and atributes {raw_data.shape}\\n')\n",
    "print('Count total of data types in data-set')\n",
    "unique_types = raw_data.dtypes.value_counts()\n",
    "print(unique_types.to_string())"
   ]
  },
  {
   "cell_type": "code",
   "execution_count": 10,
   "metadata": {},
   "outputs": [
    {
     "name": "stdout",
     "output_type": "stream",
     "text": [
      "Misising \"NaN\" attributes per record\n",
      "count    97750.000000\n",
      "mean        36.001146\n",
      "std         11.850157\n",
      "min          1.000000\n",
      "25%         28.000000\n",
      "50%         35.000000\n",
      "75%         50.000000\n",
      "max         56.000000\n"
     ]
    }
   ],
   "source": [
    "# NaN values per record in data-set\n",
    "nan_record = raw_data.isna().sum(axis=1).describe()\n",
    "print('Misising \"NaN\" attributes per record')\n",
    "print(nan_record.to_string(header=True))"
   ]
  },
  {
   "cell_type": "code",
   "execution_count": 11,
   "metadata": {},
   "outputs": [
    {
     "name": "stdout",
     "output_type": "stream",
     "text": [
      "Ratio of missing values in attributes\n",
      "yearOfRegistration                        0.020573\n",
      "Datasource                                0.000000\n",
      "gender                                    0.083253\n",
      "ageBroad                                  0.478598\n",
      "majorityStatus                            0.271141\n",
      "majorityStatusAtExploit                   0.782240\n",
      "majorityEntry                             0.925811\n",
      "citizenship                               0.454834\n",
      "meansOfControlDebtBondage                 0.915754\n",
      "meansOfControlTakesEarnings               0.882987\n",
      "meansOfControlRestrictsFinancialAccess    0.955693\n",
      "meansOfControlThreats                     0.841156\n",
      "meansOfControlPsychologicalAbuse          0.849248\n",
      "meansOfControlPhysicalAbuse               0.877923\n",
      "meansOfControlSexualAbuse                 0.907795\n",
      "meansOfControlFalsePromises               0.916890\n",
      "meansOfControlPsychoactiveSubstances      0.887754\n",
      "meansOfControlRestrictsMovement           0.855621\n",
      "meansOfControlRestrictsMedicalCare        0.938916\n",
      "meansOfControlExcessiveWorkingHours       0.911724\n",
      "meansOfControlUsesChildren                0.960010\n",
      "meansOfControlThreatOfLawEnforcement      0.908716\n",
      "meansOfControlWithholdsNecessities        0.909095\n",
      "meansOfControlWithholdsDocuments          0.915253\n",
      "meansOfControlOther                       0.881289\n",
      "meansOfControlNotSpecified                0.142885\n",
      "meansOfControlConcatenated                0.403427\n",
      "isForcedLabour                            0.328419\n",
      "isSexualExploit                           0.330936\n",
      "isOtherExploit                            0.248890\n",
      "isSexAndLabour                            0.359918\n",
      "isForcedMarriage                          0.861852\n",
      "isForcedMilitary                          0.858455\n",
      "isOrganRemoval                            0.858455\n",
      "isSlaveryAndPractices                     0.909197\n",
      "typeOfExploitConcatenated                 0.321852\n",
      "typeOfLabourAgriculture                   0.369760\n",
      "typeOfLabourAquafarming                   0.370056\n",
      "typeOfLabourBegging                       0.370189\n",
      "typeOfLabourConstruction                  0.366895\n",
      "typeOfLabourDomesticWork                  0.348389\n",
      "typeOfLabourHospitality                   0.358384\n",
      "typeOfLabourIllicitActivities             0.370987\n",
      "typeOfLabourManufacturing                 0.369043\n",
      "typeOfLabourMiningOrDrilling              0.370189\n",
      "typeOfLabourPeddling                      0.370987\n",
      "typeOfLabourTransportation                0.370189\n",
      "typeOfLabourOther                         0.358312\n",
      "typeOfLabourNotSpecified                  0.353289\n",
      "typeOfLabourConcatenated                  0.830046\n",
      "typeOfSexProstitution                     0.594251\n",
      "typeOfSexPornography                      0.685606\n",
      "typeOfSexRemoteInteractiveServices        0.685606\n",
      "typeOfSexPrivateSexualServices            0.701616\n",
      "typeOfSexConcatenated                     0.838793\n",
      "isAbduction                               0.688777\n",
      "RecruiterRelationship                     0.394527\n",
      "CountryOfExploitation                     0.248164\n",
      "recruiterRelationIntimatePartner          0.407028\n",
      "recruiterRelationFriend                   0.407028\n",
      "recruiterRelationFamily                   0.407028\n",
      "recruiterRelationOther                    0.407028\n",
      "recruiterRelationUnknown                  0.002414\n"
     ]
    }
   ],
   "source": [
    "# NaN values per attribute in data-set\n",
    "nan_attribute = raw_data.isna().sum()\n",
    "ratio_nan = nan_attribute / raw_data.shape[0]\n",
    "print('Ratio of missing values in attributes', ratio_nan.to_string(), sep='\\n')"
   ]
  },
  {
   "cell_type": "code",
   "execution_count": 12,
   "metadata": {},
   "outputs": [
    {
     "name": "stdout",
     "output_type": "stream",
     "text": [
      "Total of elements duplicateds: 77084\n",
      "Ratio of all data-set: 78.86%\n"
     ]
    }
   ],
   "source": [
    "duplicates = raw_data.duplicated().sum()\n",
    "ration_dup = duplicates / raw_data.shape[0]\n",
    "print(f'Total of elements duplicateds: {duplicates}\\nRatio of all data-set: {ration_dup:.2%}')"
   ]
  },
  {
   "cell_type": "code",
   "execution_count": 24,
   "metadata": {},
   "outputs": [
    {
     "data": {
      "application/vnd.plotly.v1+json": {
       "config": {
        "plotlyServerURL": "https://plot.ly"
       },
       "data": [
        {
         "coloraxis": "coloraxis",
         "geo": "geo",
         "hovertemplate": "alpha_3=%{location}<br>Victims=%{z}<extra></extra>",
         "locations": [
          "AFG",
          "ALB",
          "BGD",
          "BFA",
          "BGR",
          "BDI",
          "BEN",
          "BOL",
          "BRA",
          "BLR",
          "COD",
          "CIV",
          "CMR",
          "CHN",
          "COL",
          "CUB",
          "ERI",
          "ETH",
          "FSM",
          "GHA",
          "GIN",
          "GTM",
          "GNB",
          "HTI",
          "IDN",
          "ISR",
          "IND",
          "JAM",
          "KEN",
          "KGZ",
          "KHM",
          "KOR",
          "KAZ",
          "LAO",
          "LKA",
          "MDA",
          "MDG",
          "MLI",
          "MMR",
          "MNG",
          "MRT",
          "MEX",
          "NER",
          "NGA",
          "NPL",
          "PHL",
          "ROU",
          "RUS",
          "SDN",
          "SLE",
          "SEN",
          "SLV",
          "TGO",
          "THA",
          "TJK",
          "TKM",
          "UKR",
          "UGA",
          "USA",
          "UZB",
          "VNM"
         ],
         "name": "",
         "type": "choropleth",
         "z": [
          195,
          45,
          176,
          33,
          369,
          229,
          11,
          18,
          32,
          1540,
          53,
          103,
          626,
          419,
          111,
          90,
          40,
          98,
          97,
          579,
          26,
          29,
          145,
          350,
          1999,
          12,
          50,
          167,
          120,
          458,
          2130,
          84,
          40,
          142,
          85,
          7593,
          160,
          45,
          1382,
          20,
          28,
          2382,
          42,
          1108,
          39,
          11454,
          712,
          16,
          80,
          130,
          70,
          11,
          30,
          178,
          77,
          15,
          9995,
          153,
          6366,
          303,
          200
         ]
        }
       ],
       "layout": {
        "coloraxis": {
         "colorbar": {
          "title": {
           "text": "Victims"
          }
         },
         "colorscale": [
          [
           0,
           "#fde725"
          ],
          [
           0.1111111111111111,
           "#b5de2b"
          ],
          [
           0.2222222222222222,
           "#6ece58"
          ],
          [
           0.3333333333333333,
           "#35b779"
          ],
          [
           0.4444444444444444,
           "#1f9e89"
          ],
          [
           0.5555555555555556,
           "#26828e"
          ],
          [
           0.6666666666666666,
           "#31688e"
          ],
          [
           0.7777777777777778,
           "#3e4989"
          ],
          [
           0.8888888888888888,
           "#482878"
          ],
          [
           1,
           "#440154"
          ]
         ]
        },
        "geo": {
         "center": {},
         "domain": {
          "x": [
           0,
           1
          ],
          "y": [
           0,
           1
          ]
         }
        },
        "legend": {
         "tracegroupgap": 0
        },
        "margin": {
         "t": 60
        },
        "template": {
         "data": {
          "bar": [
           {
            "error_x": {
             "color": "#2a3f5f"
            },
            "error_y": {
             "color": "#2a3f5f"
            },
            "marker": {
             "line": {
              "color": "#E5ECF6",
              "width": 0.5
             },
             "pattern": {
              "fillmode": "overlay",
              "size": 10,
              "solidity": 0.2
             }
            },
            "type": "bar"
           }
          ],
          "barpolar": [
           {
            "marker": {
             "line": {
              "color": "#E5ECF6",
              "width": 0.5
             },
             "pattern": {
              "fillmode": "overlay",
              "size": 10,
              "solidity": 0.2
             }
            },
            "type": "barpolar"
           }
          ],
          "carpet": [
           {
            "aaxis": {
             "endlinecolor": "#2a3f5f",
             "gridcolor": "white",
             "linecolor": "white",
             "minorgridcolor": "white",
             "startlinecolor": "#2a3f5f"
            },
            "baxis": {
             "endlinecolor": "#2a3f5f",
             "gridcolor": "white",
             "linecolor": "white",
             "minorgridcolor": "white",
             "startlinecolor": "#2a3f5f"
            },
            "type": "carpet"
           }
          ],
          "choropleth": [
           {
            "colorbar": {
             "outlinewidth": 0,
             "ticks": ""
            },
            "type": "choropleth"
           }
          ],
          "contour": [
           {
            "colorbar": {
             "outlinewidth": 0,
             "ticks": ""
            },
            "colorscale": [
             [
              0,
              "#0d0887"
             ],
             [
              0.1111111111111111,
              "#46039f"
             ],
             [
              0.2222222222222222,
              "#7201a8"
             ],
             [
              0.3333333333333333,
              "#9c179e"
             ],
             [
              0.4444444444444444,
              "#bd3786"
             ],
             [
              0.5555555555555556,
              "#d8576b"
             ],
             [
              0.6666666666666666,
              "#ed7953"
             ],
             [
              0.7777777777777778,
              "#fb9f3a"
             ],
             [
              0.8888888888888888,
              "#fdca26"
             ],
             [
              1,
              "#f0f921"
             ]
            ],
            "type": "contour"
           }
          ],
          "contourcarpet": [
           {
            "colorbar": {
             "outlinewidth": 0,
             "ticks": ""
            },
            "type": "contourcarpet"
           }
          ],
          "heatmap": [
           {
            "colorbar": {
             "outlinewidth": 0,
             "ticks": ""
            },
            "colorscale": [
             [
              0,
              "#0d0887"
             ],
             [
              0.1111111111111111,
              "#46039f"
             ],
             [
              0.2222222222222222,
              "#7201a8"
             ],
             [
              0.3333333333333333,
              "#9c179e"
             ],
             [
              0.4444444444444444,
              "#bd3786"
             ],
             [
              0.5555555555555556,
              "#d8576b"
             ],
             [
              0.6666666666666666,
              "#ed7953"
             ],
             [
              0.7777777777777778,
              "#fb9f3a"
             ],
             [
              0.8888888888888888,
              "#fdca26"
             ],
             [
              1,
              "#f0f921"
             ]
            ],
            "type": "heatmap"
           }
          ],
          "heatmapgl": [
           {
            "colorbar": {
             "outlinewidth": 0,
             "ticks": ""
            },
            "colorscale": [
             [
              0,
              "#0d0887"
             ],
             [
              0.1111111111111111,
              "#46039f"
             ],
             [
              0.2222222222222222,
              "#7201a8"
             ],
             [
              0.3333333333333333,
              "#9c179e"
             ],
             [
              0.4444444444444444,
              "#bd3786"
             ],
             [
              0.5555555555555556,
              "#d8576b"
             ],
             [
              0.6666666666666666,
              "#ed7953"
             ],
             [
              0.7777777777777778,
              "#fb9f3a"
             ],
             [
              0.8888888888888888,
              "#fdca26"
             ],
             [
              1,
              "#f0f921"
             ]
            ],
            "type": "heatmapgl"
           }
          ],
          "histogram": [
           {
            "marker": {
             "pattern": {
              "fillmode": "overlay",
              "size": 10,
              "solidity": 0.2
             }
            },
            "type": "histogram"
           }
          ],
          "histogram2d": [
           {
            "colorbar": {
             "outlinewidth": 0,
             "ticks": ""
            },
            "colorscale": [
             [
              0,
              "#0d0887"
             ],
             [
              0.1111111111111111,
              "#46039f"
             ],
             [
              0.2222222222222222,
              "#7201a8"
             ],
             [
              0.3333333333333333,
              "#9c179e"
             ],
             [
              0.4444444444444444,
              "#bd3786"
             ],
             [
              0.5555555555555556,
              "#d8576b"
             ],
             [
              0.6666666666666666,
              "#ed7953"
             ],
             [
              0.7777777777777778,
              "#fb9f3a"
             ],
             [
              0.8888888888888888,
              "#fdca26"
             ],
             [
              1,
              "#f0f921"
             ]
            ],
            "type": "histogram2d"
           }
          ],
          "histogram2dcontour": [
           {
            "colorbar": {
             "outlinewidth": 0,
             "ticks": ""
            },
            "colorscale": [
             [
              0,
              "#0d0887"
             ],
             [
              0.1111111111111111,
              "#46039f"
             ],
             [
              0.2222222222222222,
              "#7201a8"
             ],
             [
              0.3333333333333333,
              "#9c179e"
             ],
             [
              0.4444444444444444,
              "#bd3786"
             ],
             [
              0.5555555555555556,
              "#d8576b"
             ],
             [
              0.6666666666666666,
              "#ed7953"
             ],
             [
              0.7777777777777778,
              "#fb9f3a"
             ],
             [
              0.8888888888888888,
              "#fdca26"
             ],
             [
              1,
              "#f0f921"
             ]
            ],
            "type": "histogram2dcontour"
           }
          ],
          "mesh3d": [
           {
            "colorbar": {
             "outlinewidth": 0,
             "ticks": ""
            },
            "type": "mesh3d"
           }
          ],
          "parcoords": [
           {
            "line": {
             "colorbar": {
              "outlinewidth": 0,
              "ticks": ""
             }
            },
            "type": "parcoords"
           }
          ],
          "pie": [
           {
            "automargin": true,
            "type": "pie"
           }
          ],
          "scatter": [
           {
            "fillpattern": {
             "fillmode": "overlay",
             "size": 10,
             "solidity": 0.2
            },
            "type": "scatter"
           }
          ],
          "scatter3d": [
           {
            "line": {
             "colorbar": {
              "outlinewidth": 0,
              "ticks": ""
             }
            },
            "marker": {
             "colorbar": {
              "outlinewidth": 0,
              "ticks": ""
             }
            },
            "type": "scatter3d"
           }
          ],
          "scattercarpet": [
           {
            "marker": {
             "colorbar": {
              "outlinewidth": 0,
              "ticks": ""
             }
            },
            "type": "scattercarpet"
           }
          ],
          "scattergeo": [
           {
            "marker": {
             "colorbar": {
              "outlinewidth": 0,
              "ticks": ""
             }
            },
            "type": "scattergeo"
           }
          ],
          "scattergl": [
           {
            "marker": {
             "colorbar": {
              "outlinewidth": 0,
              "ticks": ""
             }
            },
            "type": "scattergl"
           }
          ],
          "scattermapbox": [
           {
            "marker": {
             "colorbar": {
              "outlinewidth": 0,
              "ticks": ""
             }
            },
            "type": "scattermapbox"
           }
          ],
          "scatterpolar": [
           {
            "marker": {
             "colorbar": {
              "outlinewidth": 0,
              "ticks": ""
             }
            },
            "type": "scatterpolar"
           }
          ],
          "scatterpolargl": [
           {
            "marker": {
             "colorbar": {
              "outlinewidth": 0,
              "ticks": ""
             }
            },
            "type": "scatterpolargl"
           }
          ],
          "scatterternary": [
           {
            "marker": {
             "colorbar": {
              "outlinewidth": 0,
              "ticks": ""
             }
            },
            "type": "scatterternary"
           }
          ],
          "surface": [
           {
            "colorbar": {
             "outlinewidth": 0,
             "ticks": ""
            },
            "colorscale": [
             [
              0,
              "#0d0887"
             ],
             [
              0.1111111111111111,
              "#46039f"
             ],
             [
              0.2222222222222222,
              "#7201a8"
             ],
             [
              0.3333333333333333,
              "#9c179e"
             ],
             [
              0.4444444444444444,
              "#bd3786"
             ],
             [
              0.5555555555555556,
              "#d8576b"
             ],
             [
              0.6666666666666666,
              "#ed7953"
             ],
             [
              0.7777777777777778,
              "#fb9f3a"
             ],
             [
              0.8888888888888888,
              "#fdca26"
             ],
             [
              1,
              "#f0f921"
             ]
            ],
            "type": "surface"
           }
          ],
          "table": [
           {
            "cells": {
             "fill": {
              "color": "#EBF0F8"
             },
             "line": {
              "color": "white"
             }
            },
            "header": {
             "fill": {
              "color": "#C8D4E3"
             },
             "line": {
              "color": "white"
             }
            },
            "type": "table"
           }
          ]
         },
         "layout": {
          "annotationdefaults": {
           "arrowcolor": "#2a3f5f",
           "arrowhead": 0,
           "arrowwidth": 1
          },
          "autotypenumbers": "strict",
          "coloraxis": {
           "colorbar": {
            "outlinewidth": 0,
            "ticks": ""
           }
          },
          "colorscale": {
           "diverging": [
            [
             0,
             "#8e0152"
            ],
            [
             0.1,
             "#c51b7d"
            ],
            [
             0.2,
             "#de77ae"
            ],
            [
             0.3,
             "#f1b6da"
            ],
            [
             0.4,
             "#fde0ef"
            ],
            [
             0.5,
             "#f7f7f7"
            ],
            [
             0.6,
             "#e6f5d0"
            ],
            [
             0.7,
             "#b8e186"
            ],
            [
             0.8,
             "#7fbc41"
            ],
            [
             0.9,
             "#4d9221"
            ],
            [
             1,
             "#276419"
            ]
           ],
           "sequential": [
            [
             0,
             "#0d0887"
            ],
            [
             0.1111111111111111,
             "#46039f"
            ],
            [
             0.2222222222222222,
             "#7201a8"
            ],
            [
             0.3333333333333333,
             "#9c179e"
            ],
            [
             0.4444444444444444,
             "#bd3786"
            ],
            [
             0.5555555555555556,
             "#d8576b"
            ],
            [
             0.6666666666666666,
             "#ed7953"
            ],
            [
             0.7777777777777778,
             "#fb9f3a"
            ],
            [
             0.8888888888888888,
             "#fdca26"
            ],
            [
             1,
             "#f0f921"
            ]
           ],
           "sequentialminus": [
            [
             0,
             "#0d0887"
            ],
            [
             0.1111111111111111,
             "#46039f"
            ],
            [
             0.2222222222222222,
             "#7201a8"
            ],
            [
             0.3333333333333333,
             "#9c179e"
            ],
            [
             0.4444444444444444,
             "#bd3786"
            ],
            [
             0.5555555555555556,
             "#d8576b"
            ],
            [
             0.6666666666666666,
             "#ed7953"
            ],
            [
             0.7777777777777778,
             "#fb9f3a"
            ],
            [
             0.8888888888888888,
             "#fdca26"
            ],
            [
             1,
             "#f0f921"
            ]
           ]
          },
          "colorway": [
           "#636efa",
           "#EF553B",
           "#00cc96",
           "#ab63fa",
           "#FFA15A",
           "#19d3f3",
           "#FF6692",
           "#B6E880",
           "#FF97FF",
           "#FECB52"
          ],
          "font": {
           "color": "#2a3f5f"
          },
          "geo": {
           "bgcolor": "white",
           "lakecolor": "white",
           "landcolor": "#E5ECF6",
           "showlakes": true,
           "showland": true,
           "subunitcolor": "white"
          },
          "hoverlabel": {
           "align": "left"
          },
          "hovermode": "closest",
          "mapbox": {
           "style": "light"
          },
          "paper_bgcolor": "white",
          "plot_bgcolor": "#E5ECF6",
          "polar": {
           "angularaxis": {
            "gridcolor": "white",
            "linecolor": "white",
            "ticks": ""
           },
           "bgcolor": "#E5ECF6",
           "radialaxis": {
            "gridcolor": "white",
            "linecolor": "white",
            "ticks": ""
           }
          },
          "scene": {
           "xaxis": {
            "backgroundcolor": "#E5ECF6",
            "gridcolor": "white",
            "gridwidth": 2,
            "linecolor": "white",
            "showbackground": true,
            "ticks": "",
            "zerolinecolor": "white"
           },
           "yaxis": {
            "backgroundcolor": "#E5ECF6",
            "gridcolor": "white",
            "gridwidth": 2,
            "linecolor": "white",
            "showbackground": true,
            "ticks": "",
            "zerolinecolor": "white"
           },
           "zaxis": {
            "backgroundcolor": "#E5ECF6",
            "gridcolor": "white",
            "gridwidth": 2,
            "linecolor": "white",
            "showbackground": true,
            "ticks": "",
            "zerolinecolor": "white"
           }
          },
          "shapedefaults": {
           "line": {
            "color": "#2a3f5f"
           }
          },
          "ternary": {
           "aaxis": {
            "gridcolor": "white",
            "linecolor": "white",
            "ticks": ""
           },
           "baxis": {
            "gridcolor": "white",
            "linecolor": "white",
            "ticks": ""
           },
           "bgcolor": "#E5ECF6",
           "caxis": {
            "gridcolor": "white",
            "linecolor": "white",
            "ticks": ""
           }
          },
          "title": {
           "x": 0.05
          },
          "xaxis": {
           "automargin": true,
           "gridcolor": "white",
           "linecolor": "white",
           "ticks": "",
           "title": {
            "standoff": 15
           },
           "zerolinecolor": "white",
           "zerolinewidth": 2
          },
          "yaxis": {
           "automargin": true,
           "gridcolor": "white",
           "linecolor": "white",
           "ticks": "",
           "title": {
            "standoff": 15
           },
           "zerolinecolor": "white",
           "zerolinewidth": 2
          }
         }
        }
       }
      }
     },
     "metadata": {},
     "output_type": "display_data"
    }
   ],
   "source": [
    "raw_data[\"country\"] = raw_data[\"citizenship\"].apply(lambda x: get_name(x))\n",
    "raw_data[\"alpha_3\"] = raw_data[\"country\"].apply(lambda x: get_alpha3(x))\n",
    "data_map = pd.DataFrame(raw_data.groupby([\"country\",\"alpha_3\"])[\"alpha_3\"].agg(Victims=\"count\")).reset_index()\n",
    "country_victims = data_map.groupby([\"alpha_3\"])[\"Victims\"].sum().reset_index()\n",
    "fig = px.choropleth(country_victims, locations = \"alpha_3\",\n",
    "                    color = \"Victims\",\n",
    "                    color_continuous_scale=\"Viridis_r\")\n",
    "\n",
    "fig.show()"
   ]
  },
  {
   "cell_type": "markdown",
   "metadata": {},
   "source": [
    "**Si bien los datos son duplicados, hay que recordar que son datos anonimizados, cada uno es una lectura de una victima de trata de humanos**"
   ]
  },
  {
   "cell_type": "markdown",
   "metadata": {},
   "source": [
    "### Descriptive stats data type\n",
    "\n",
    "There are two type of attributes in the data set, _nominal_ and _numeric_.\n",
    "The _numeric_ attributes are mostly _ordinal_ binary used to indicat if the attribute is present in a record, by the other side, _nominal_ attributes where converted to a __Categorical__ data type of the package of _pandas_"
   ]
  },
  {
   "cell_type": "code",
   "execution_count": 13,
   "metadata": {},
   "outputs": [
    {
     "data": {
      "text/html": [
       "<div>\n",
       "<style scoped>\n",
       "    .dataframe tbody tr th:only-of-type {\n",
       "        vertical-align: middle;\n",
       "    }\n",
       "\n",
       "    .dataframe tbody tr th {\n",
       "        vertical-align: top;\n",
       "    }\n",
       "\n",
       "    .dataframe thead th {\n",
       "        text-align: right;\n",
       "    }\n",
       "</style>\n",
       "<table border=\"1\" class=\"dataframe\">\n",
       "  <thead>\n",
       "    <tr style=\"text-align: right;\">\n",
       "      <th></th>\n",
       "      <th>yearOfRegistration</th>\n",
       "      <th>meansOfControlDebtBondage</th>\n",
       "      <th>meansOfControlTakesEarnings</th>\n",
       "      <th>meansOfControlRestrictsFinancialAccess</th>\n",
       "      <th>meansOfControlThreats</th>\n",
       "      <th>meansOfControlPsychologicalAbuse</th>\n",
       "      <th>meansOfControlPhysicalAbuse</th>\n",
       "      <th>meansOfControlSexualAbuse</th>\n",
       "      <th>meansOfControlFalsePromises</th>\n",
       "      <th>meansOfControlPsychoactiveSubstances</th>\n",
       "      <th>...</th>\n",
       "      <th>typeOfSexProstitution</th>\n",
       "      <th>typeOfSexPornography</th>\n",
       "      <th>typeOfSexRemoteInteractiveServices</th>\n",
       "      <th>typeOfSexPrivateSexualServices</th>\n",
       "      <th>isAbduction</th>\n",
       "      <th>recruiterRelationIntimatePartner</th>\n",
       "      <th>recruiterRelationFriend</th>\n",
       "      <th>recruiterRelationFamily</th>\n",
       "      <th>recruiterRelationOther</th>\n",
       "      <th>recruiterRelationUnknown</th>\n",
       "    </tr>\n",
       "  </thead>\n",
       "  <tbody>\n",
       "    <tr>\n",
       "      <th>count</th>\n",
       "      <td>95739.0</td>\n",
       "      <td>8235.0</td>\n",
       "      <td>11438.0</td>\n",
       "      <td>4331.0</td>\n",
       "      <td>15527.0</td>\n",
       "      <td>14736.0</td>\n",
       "      <td>11933.0</td>\n",
       "      <td>9013.0</td>\n",
       "      <td>8124.0</td>\n",
       "      <td>10972.0</td>\n",
       "      <td>...</td>\n",
       "      <td>39662.0</td>\n",
       "      <td>30732.0</td>\n",
       "      <td>30732.0</td>\n",
       "      <td>29167.0</td>\n",
       "      <td>30422.0</td>\n",
       "      <td>57963.0</td>\n",
       "      <td>57963.0</td>\n",
       "      <td>57963.0</td>\n",
       "      <td>57963.0</td>\n",
       "      <td>97514.0</td>\n",
       "    </tr>\n",
       "    <tr>\n",
       "      <th>mean</th>\n",
       "      <td>2015.961186</td>\n",
       "      <td>0.493625</td>\n",
       "      <td>0.773999</td>\n",
       "      <td>0.133456</td>\n",
       "      <td>0.815161</td>\n",
       "      <td>0.835573</td>\n",
       "      <td>0.71097</td>\n",
       "      <td>0.463553</td>\n",
       "      <td>0.76034</td>\n",
       "      <td>0.553409</td>\n",
       "      <td>...</td>\n",
       "      <td>0.335006</td>\n",
       "      <td>0.060718</td>\n",
       "      <td>0.00384</td>\n",
       "      <td>0.016697</td>\n",
       "      <td>0.011965</td>\n",
       "      <td>0.062178</td>\n",
       "      <td>0.054069</td>\n",
       "      <td>0.05714</td>\n",
       "      <td>0.173663</td>\n",
       "      <td>0.797732</td>\n",
       "    </tr>\n",
       "    <tr>\n",
       "      <th>std</th>\n",
       "      <td>3.776725</td>\n",
       "      <td>0.49999</td>\n",
       "      <td>0.418258</td>\n",
       "      <td>0.340107</td>\n",
       "      <td>0.38818</td>\n",
       "      <td>0.370675</td>\n",
       "      <td>0.453331</td>\n",
       "      <td>0.498697</td>\n",
       "      <td>0.426902</td>\n",
       "      <td>0.497162</td>\n",
       "      <td>...</td>\n",
       "      <td>0.471998</td>\n",
       "      <td>0.238817</td>\n",
       "      <td>0.061847</td>\n",
       "      <td>0.128136</td>\n",
       "      <td>0.10873</td>\n",
       "      <td>0.24148</td>\n",
       "      <td>0.226156</td>\n",
       "      <td>0.232112</td>\n",
       "      <td>0.378822</td>\n",
       "      <td>0.401693</td>\n",
       "    </tr>\n",
       "    <tr>\n",
       "      <th>min</th>\n",
       "      <td>2002.0</td>\n",
       "      <td>0.0</td>\n",
       "      <td>0.0</td>\n",
       "      <td>0.0</td>\n",
       "      <td>0.0</td>\n",
       "      <td>0.0</td>\n",
       "      <td>0.0</td>\n",
       "      <td>0.0</td>\n",
       "      <td>0.0</td>\n",
       "      <td>0.0</td>\n",
       "      <td>...</td>\n",
       "      <td>0.0</td>\n",
       "      <td>0.0</td>\n",
       "      <td>0.0</td>\n",
       "      <td>0.0</td>\n",
       "      <td>0.0</td>\n",
       "      <td>0.0</td>\n",
       "      <td>0.0</td>\n",
       "      <td>0.0</td>\n",
       "      <td>0.0</td>\n",
       "      <td>0.0</td>\n",
       "    </tr>\n",
       "    <tr>\n",
       "      <th>25%</th>\n",
       "      <td>2015.0</td>\n",
       "      <td>0.0</td>\n",
       "      <td>1.0</td>\n",
       "      <td>0.0</td>\n",
       "      <td>1.0</td>\n",
       "      <td>1.0</td>\n",
       "      <td>0.0</td>\n",
       "      <td>0.0</td>\n",
       "      <td>1.0</td>\n",
       "      <td>0.0</td>\n",
       "      <td>...</td>\n",
       "      <td>0.0</td>\n",
       "      <td>0.0</td>\n",
       "      <td>0.0</td>\n",
       "      <td>0.0</td>\n",
       "      <td>0.0</td>\n",
       "      <td>0.0</td>\n",
       "      <td>0.0</td>\n",
       "      <td>0.0</td>\n",
       "      <td>0.0</td>\n",
       "      <td>1.0</td>\n",
       "    </tr>\n",
       "    <tr>\n",
       "      <th>50%</th>\n",
       "      <td>2017.0</td>\n",
       "      <td>0.0</td>\n",
       "      <td>1.0</td>\n",
       "      <td>0.0</td>\n",
       "      <td>1.0</td>\n",
       "      <td>1.0</td>\n",
       "      <td>1.0</td>\n",
       "      <td>0.0</td>\n",
       "      <td>1.0</td>\n",
       "      <td>1.0</td>\n",
       "      <td>...</td>\n",
       "      <td>0.0</td>\n",
       "      <td>0.0</td>\n",
       "      <td>0.0</td>\n",
       "      <td>0.0</td>\n",
       "      <td>0.0</td>\n",
       "      <td>0.0</td>\n",
       "      <td>0.0</td>\n",
       "      <td>0.0</td>\n",
       "      <td>0.0</td>\n",
       "      <td>1.0</td>\n",
       "    </tr>\n",
       "    <tr>\n",
       "      <th>75%</th>\n",
       "      <td>2018.0</td>\n",
       "      <td>1.0</td>\n",
       "      <td>1.0</td>\n",
       "      <td>0.0</td>\n",
       "      <td>1.0</td>\n",
       "      <td>1.0</td>\n",
       "      <td>1.0</td>\n",
       "      <td>1.0</td>\n",
       "      <td>1.0</td>\n",
       "      <td>1.0</td>\n",
       "      <td>...</td>\n",
       "      <td>1.0</td>\n",
       "      <td>0.0</td>\n",
       "      <td>0.0</td>\n",
       "      <td>0.0</td>\n",
       "      <td>0.0</td>\n",
       "      <td>0.0</td>\n",
       "      <td>0.0</td>\n",
       "      <td>0.0</td>\n",
       "      <td>0.0</td>\n",
       "      <td>1.0</td>\n",
       "    </tr>\n",
       "    <tr>\n",
       "      <th>max</th>\n",
       "      <td>2021.0</td>\n",
       "      <td>1.0</td>\n",
       "      <td>1.0</td>\n",
       "      <td>1.0</td>\n",
       "      <td>1.0</td>\n",
       "      <td>1.0</td>\n",
       "      <td>1.0</td>\n",
       "      <td>1.0</td>\n",
       "      <td>1.0</td>\n",
       "      <td>1.0</td>\n",
       "      <td>...</td>\n",
       "      <td>1.0</td>\n",
       "      <td>1.0</td>\n",
       "      <td>1.0</td>\n",
       "      <td>1.0</td>\n",
       "      <td>1.0</td>\n",
       "      <td>1.0</td>\n",
       "      <td>1.0</td>\n",
       "      <td>1.0</td>\n",
       "      <td>1.0</td>\n",
       "      <td>1.0</td>\n",
       "    </tr>\n",
       "  </tbody>\n",
       "</table>\n",
       "<p>8 rows × 50 columns</p>\n",
       "</div>"
      ],
      "text/plain": [
       "       yearOfRegistration  meansOfControlDebtBondage  \\\n",
       "count             95739.0                     8235.0   \n",
       "mean          2015.961186                   0.493625   \n",
       "std              3.776725                    0.49999   \n",
       "min                2002.0                        0.0   \n",
       "25%                2015.0                        0.0   \n",
       "50%                2017.0                        0.0   \n",
       "75%                2018.0                        1.0   \n",
       "max                2021.0                        1.0   \n",
       "\n",
       "       meansOfControlTakesEarnings  meansOfControlRestrictsFinancialAccess  \\\n",
       "count                      11438.0                                  4331.0   \n",
       "mean                      0.773999                                0.133456   \n",
       "std                       0.418258                                0.340107   \n",
       "min                            0.0                                     0.0   \n",
       "25%                            1.0                                     0.0   \n",
       "50%                            1.0                                     0.0   \n",
       "75%                            1.0                                     0.0   \n",
       "max                            1.0                                     1.0   \n",
       "\n",
       "       meansOfControlThreats  meansOfControlPsychologicalAbuse  \\\n",
       "count                15527.0                           14736.0   \n",
       "mean                0.815161                          0.835573   \n",
       "std                  0.38818                          0.370675   \n",
       "min                      0.0                               0.0   \n",
       "25%                      1.0                               1.0   \n",
       "50%                      1.0                               1.0   \n",
       "75%                      1.0                               1.0   \n",
       "max                      1.0                               1.0   \n",
       "\n",
       "       meansOfControlPhysicalAbuse  meansOfControlSexualAbuse  \\\n",
       "count                      11933.0                     9013.0   \n",
       "mean                       0.71097                   0.463553   \n",
       "std                       0.453331                   0.498697   \n",
       "min                            0.0                        0.0   \n",
       "25%                            0.0                        0.0   \n",
       "50%                            1.0                        0.0   \n",
       "75%                            1.0                        1.0   \n",
       "max                            1.0                        1.0   \n",
       "\n",
       "       meansOfControlFalsePromises  meansOfControlPsychoactiveSubstances  ...  \\\n",
       "count                       8124.0                               10972.0  ...   \n",
       "mean                       0.76034                              0.553409  ...   \n",
       "std                       0.426902                              0.497162  ...   \n",
       "min                            0.0                                   0.0  ...   \n",
       "25%                            1.0                                   0.0  ...   \n",
       "50%                            1.0                                   1.0  ...   \n",
       "75%                            1.0                                   1.0  ...   \n",
       "max                            1.0                                   1.0  ...   \n",
       "\n",
       "       typeOfSexProstitution  typeOfSexPornography  \\\n",
       "count                39662.0               30732.0   \n",
       "mean                0.335006              0.060718   \n",
       "std                 0.471998              0.238817   \n",
       "min                      0.0                   0.0   \n",
       "25%                      0.0                   0.0   \n",
       "50%                      0.0                   0.0   \n",
       "75%                      1.0                   0.0   \n",
       "max                      1.0                   1.0   \n",
       "\n",
       "       typeOfSexRemoteInteractiveServices  typeOfSexPrivateSexualServices  \\\n",
       "count                             30732.0                         29167.0   \n",
       "mean                              0.00384                        0.016697   \n",
       "std                              0.061847                        0.128136   \n",
       "min                                   0.0                             0.0   \n",
       "25%                                   0.0                             0.0   \n",
       "50%                                   0.0                             0.0   \n",
       "75%                                   0.0                             0.0   \n",
       "max                                   1.0                             1.0   \n",
       "\n",
       "       isAbduction  recruiterRelationIntimatePartner  recruiterRelationFriend  \\\n",
       "count      30422.0                           57963.0                  57963.0   \n",
       "mean      0.011965                          0.062178                 0.054069   \n",
       "std        0.10873                           0.24148                 0.226156   \n",
       "min            0.0                               0.0                      0.0   \n",
       "25%            0.0                               0.0                      0.0   \n",
       "50%            0.0                               0.0                      0.0   \n",
       "75%            0.0                               0.0                      0.0   \n",
       "max            1.0                               1.0                      1.0   \n",
       "\n",
       "       recruiterRelationFamily  recruiterRelationOther  \\\n",
       "count                  57963.0                 57963.0   \n",
       "mean                   0.05714                0.173663   \n",
       "std                   0.232112                0.378822   \n",
       "min                        0.0                     0.0   \n",
       "25%                        0.0                     0.0   \n",
       "50%                        0.0                     0.0   \n",
       "75%                        0.0                     0.0   \n",
       "max                        1.0                     1.0   \n",
       "\n",
       "       recruiterRelationUnknown  \n",
       "count                   97514.0  \n",
       "mean                   0.797732  \n",
       "std                    0.401693  \n",
       "min                         0.0  \n",
       "25%                         1.0  \n",
       "50%                         1.0  \n",
       "75%                         1.0  \n",
       "max                         1.0  \n",
       "\n",
       "[8 rows x 50 columns]"
      ]
     },
     "execution_count": 13,
     "metadata": {},
     "output_type": "execute_result"
    }
   ],
   "source": [
    "# Numeric attributes description\n",
    "raw_data.describe(exclude=['category', 'O'])"
   ]
  },
  {
   "cell_type": "code",
   "execution_count": 14,
   "metadata": {},
   "outputs": [
    {
     "data": {
      "text/html": [
       "<div>\n",
       "<style scoped>\n",
       "    .dataframe tbody tr th:only-of-type {\n",
       "        vertical-align: middle;\n",
       "    }\n",
       "\n",
       "    .dataframe tbody tr th {\n",
       "        vertical-align: top;\n",
       "    }\n",
       "\n",
       "    .dataframe thead th {\n",
       "        text-align: right;\n",
       "    }\n",
       "</style>\n",
       "<table border=\"1\" class=\"dataframe\">\n",
       "  <thead>\n",
       "    <tr style=\"text-align: right;\">\n",
       "      <th></th>\n",
       "      <th>Datasource</th>\n",
       "      <th>gender</th>\n",
       "      <th>ageBroad</th>\n",
       "      <th>majorityStatus</th>\n",
       "      <th>majorityStatusAtExploit</th>\n",
       "      <th>majorityEntry</th>\n",
       "    </tr>\n",
       "  </thead>\n",
       "  <tbody>\n",
       "    <tr>\n",
       "      <th>count</th>\n",
       "      <td>97750</td>\n",
       "      <td>89612</td>\n",
       "      <td>50967</td>\n",
       "      <td>71246</td>\n",
       "      <td>21286</td>\n",
       "      <td>7252</td>\n",
       "    </tr>\n",
       "    <tr>\n",
       "      <th>unique</th>\n",
       "      <td>2</td>\n",
       "      <td>3</td>\n",
       "      <td>9</td>\n",
       "      <td>2</td>\n",
       "      <td>2</td>\n",
       "      <td>2</td>\n",
       "    </tr>\n",
       "    <tr>\n",
       "      <th>top</th>\n",
       "      <td>Hotline</td>\n",
       "      <td>Female</td>\n",
       "      <td>9--17</td>\n",
       "      <td>Adult</td>\n",
       "      <td>Minor</td>\n",
       "      <td>Adult</td>\n",
       "    </tr>\n",
       "    <tr>\n",
       "      <th>freq</th>\n",
       "      <td>52607</td>\n",
       "      <td>68083</td>\n",
       "      <td>12507</td>\n",
       "      <td>51596</td>\n",
       "      <td>14253</td>\n",
       "      <td>5820</td>\n",
       "    </tr>\n",
       "  </tbody>\n",
       "</table>\n",
       "</div>"
      ],
      "text/plain": [
       "       Datasource  gender ageBroad majorityStatus majorityStatusAtExploit  \\\n",
       "count       97750   89612    50967          71246                   21286   \n",
       "unique          2       3        9              2                       2   \n",
       "top       Hotline  Female    9--17          Adult                   Minor   \n",
       "freq        52607   68083    12507          51596                   14253   \n",
       "\n",
       "       majorityEntry  \n",
       "count           7252  \n",
       "unique             2  \n",
       "top            Adult  \n",
       "freq            5820  "
      ]
     },
     "execution_count": 14,
     "metadata": {},
     "output_type": "execute_result"
    }
   ],
   "source": [
    "# Nominal attributes\n",
    "raw_data.describe(include=['category'])"
   ]
  },
  {
   "cell_type": "markdown",
   "metadata": {},
   "source": [
    "### Plots\n",
    "Graphical description of the attributes and the relations between each other, the plot used to describe the data are _bar_, _word cloud_, _scatter_, _box_.\n",
    "The objetive is observe potential trends, frecuencies and relationships."
   ]
  },
  {
   "cell_type": "code",
   "execution_count": 15,
   "metadata": {},
   "outputs": [
    {
     "data": {
      "image/png": "[encoded data removed]",
      "text/plain": [
       "<Figure size 640x480 with 1 Axes>"
      ]
     },
     "metadata": {},
     "output_type": "display_data"
    }
   ],
   "source": [
    "# Gender of the individuals\n",
    "plot = raw_data['gender'].value_counts().plot.bar(ylabel='frecuency', xlabel='gender')\n",
    "labels = [label.set_rotation('horizontal') for label in plot.get_xticklabels()]\n",
    "plot.margins(x=0, y=0.3)"
   ]
  },
  {
   "cell_type": "code",
   "execution_count": 16,
   "metadata": {},
   "outputs": [
    {
     "data": {
      "image/png": "[encoded data removed]",
      "text/plain": [
       "<Figure size 640x480 with 1 Axes>"
      ]
     },
     "metadata": {},
     "output_type": "display_data"
    }
   ],
   "source": [
    "# Histogram of the age of the individual\n",
    "age_count = raw_data['ageBroad'].value_counts()\n",
    "plot = raw_data['ageBroad'].value_counts().plot.bar(xlabel=\"Age broad\", ylabel=\"Frecuency\")\n",
    "labels = [label.set_rotation('horizontal') for label in plot.get_xticklabels()]\n",
    "for bar, count in zip(plot.patches, age_count):\n",
    "    plot.text(\n",
    "        bar.get_x() + bar.get_width() / 2,\n",
    "        bar.get_height() + 300,\n",
    "        f\"{count}\",\n",
    "        horizontalalignment='center', verticalalignment='bottom',\n",
    "        fontsize=10, rotation=45, color='white')\n",
    "plot.margins(x=0, y=0.3)"
   ]
  },
  {
   "cell_type": "code",
   "execution_count": 17,
   "metadata": {},
   "outputs": [
    {
     "data": {
      "image/png": "[encoded data removed]",
      "text/plain": [
       "<Figure size 640x480 with 1 Axes>"
      ]
     },
     "metadata": {},
     "output_type": "display_data"
    }
   ],
   "source": [
    "# Word cloud of the individual citizen\n",
    "citizen = raw_data['citizenship'].dropna().value_counts()\n",
    "\n",
    "word_image = word_cloud.generate_from_frequencies(citizen)\n",
    "plt.imshow(word_cloud, interpolation='bilinear',)\n",
    "plt.title('Individuals citizen')\n",
    "plt.axis('off')\n",
    "plt.show()"
   ]
  },
  {
   "cell_type": "code",
   "execution_count": 18,
   "metadata": {},
   "outputs": [
    {
     "data": {
      "image/png": "[encoded data removed]",
      "text/plain": [
       "<Figure size 640x480 with 1 Axes>"
      ]
     },
     "metadata": {},
     "output_type": "display_data"
    }
   ],
   "source": [
    "# Word cloud of the country where the individual were exploited\n",
    "country_exploit = raw_data['CountryOfExploitation'].dropna().value_counts()\n",
    "\n",
    "word_image = word_cloud.generate_from_frequencies(country_exploit)\n",
    "plt.imshow(word_cloud, interpolation='bilinear')\n",
    "plt.title('Country of Explotation')\n",
    "plt.axis('off')\n",
    "plt.show()"
   ]
  },
  {
   "cell_type": "code",
   "execution_count": 19,
   "metadata": {},
   "outputs": [],
   "source": [
    "count_totals = raw_data.filter(regex='(Concatenated|Relationship)$')\n",
    "count_totals = count_totals.applymap(lambda x: len(x.split(';')), na_action='ignore').fillna(0).astype('int32')\n",
    "count_totals.rename(columns=lambda x: re.sub(r'(Concatenated)?$', 'Count', x, count=1), inplace=True)"
   ]
  },
  {
   "cell_type": "code",
   "execution_count": 20,
   "metadata": {},
   "outputs": [
    {
     "data": {
      "image/png": "[encoded data removed]",
      "text/plain": [
       "<Figure size 1000x600 with 1 Axes>"
      ]
     },
     "metadata": {},
     "output_type": "display_data"
    }
   ],
   "source": [
    "axis = count_totals.boxplot(\n",
    "    fontsize=8,\n",
    "    grid=False,\n",
    "    figsize=(10, 6),\n",
    "    showcaps=True,\n",
    "    flierprops={'marker': '.', 'markersize': 3},\n",
    "    showmeans=True,\n",
    "    meanline=True,)\n",
    "    # whis=(0, 98.54))\n",
    "axis.set_ylim(-1)\n",
    "title = axis.set_title('Total count of subcategories')"
   ]
  },
  {
   "cell_type": "code",
   "execution_count": 51,
   "metadata": {},
   "outputs": [
    {
     "data": {
      "text/html": [
       "<div>\n",
       "<style scoped>\n",
       "    .dataframe tbody tr th:only-of-type {\n",
       "        vertical-align: middle;\n",
       "    }\n",
       "\n",
       "    .dataframe tbody tr th {\n",
       "        vertical-align: top;\n",
       "    }\n",
       "\n",
       "    .dataframe thead th {\n",
       "        text-align: right;\n",
       "    }\n",
       "</style>\n",
       "<table border=\"1\" class=\"dataframe\">\n",
       "  <thead>\n",
       "    <tr style=\"text-align: right;\">\n",
       "      <th></th>\n",
       "      <th>yearOfRegistration</th>\n",
       "      <th>Datasource</th>\n",
       "      <th>gender</th>\n",
       "      <th>ageBroad</th>\n",
       "      <th>majorityStatus</th>\n",
       "      <th>majorityStatusAtExploit</th>\n",
       "      <th>majorityEntry</th>\n",
       "      <th>citizenship</th>\n",
       "      <th>meansOfControlDebtBondage</th>\n",
       "      <th>meansOfControlTakesEarnings</th>\n",
       "      <th>...</th>\n",
       "      <th>typeOfSexPrivateSexualServices</th>\n",
       "      <th>typeOfSexConcatenated</th>\n",
       "      <th>isAbduction</th>\n",
       "      <th>RecruiterRelationship</th>\n",
       "      <th>CountryOfExploitation</th>\n",
       "      <th>recruiterRelationIntimatePartner</th>\n",
       "      <th>recruiterRelationFriend</th>\n",
       "      <th>recruiterRelationFamily</th>\n",
       "      <th>recruiterRelationOther</th>\n",
       "      <th>recruiterRelationUnknown</th>\n",
       "    </tr>\n",
       "  </thead>\n",
       "  <tbody>\n",
       "    <tr>\n",
       "      <th>7077</th>\n",
       "      <td>2008</td>\n",
       "      <td>Case Management</td>\n",
       "      <td>Male</td>\n",
       "      <td>30--38</td>\n",
       "      <td>Adult</td>\n",
       "      <td>Adult</td>\n",
       "      <td>Adult</td>\n",
       "      <td>KG</td>\n",
       "      <td>0</td>\n",
       "      <td>1</td>\n",
       "      <td>...</td>\n",
       "      <td>&lt;NA&gt;</td>\n",
       "      <td>NaN</td>\n",
       "      <td>0</td>\n",
       "      <td>NaN</td>\n",
       "      <td>KZ</td>\n",
       "      <td>0</td>\n",
       "      <td>0</td>\n",
       "      <td>0</td>\n",
       "      <td>0</td>\n",
       "      <td>1</td>\n",
       "    </tr>\n",
       "    <tr>\n",
       "      <th>7078</th>\n",
       "      <td>2008</td>\n",
       "      <td>Case Management</td>\n",
       "      <td>Male</td>\n",
       "      <td>30--38</td>\n",
       "      <td>Adult</td>\n",
       "      <td>Adult</td>\n",
       "      <td>Adult</td>\n",
       "      <td>KG</td>\n",
       "      <td>&lt;NA&gt;</td>\n",
       "      <td>1</td>\n",
       "      <td>...</td>\n",
       "      <td>&lt;NA&gt;</td>\n",
       "      <td>NaN</td>\n",
       "      <td>0</td>\n",
       "      <td>NaN</td>\n",
       "      <td>KZ</td>\n",
       "      <td>0</td>\n",
       "      <td>0</td>\n",
       "      <td>0</td>\n",
       "      <td>0</td>\n",
       "      <td>1</td>\n",
       "    </tr>\n",
       "    <tr>\n",
       "      <th>7079</th>\n",
       "      <td>2008</td>\n",
       "      <td>Case Management</td>\n",
       "      <td>Male</td>\n",
       "      <td>30--38</td>\n",
       "      <td>Adult</td>\n",
       "      <td>Adult</td>\n",
       "      <td>Adult</td>\n",
       "      <td>KG</td>\n",
       "      <td>1</td>\n",
       "      <td>1</td>\n",
       "      <td>...</td>\n",
       "      <td>&lt;NA&gt;</td>\n",
       "      <td>NaN</td>\n",
       "      <td>0</td>\n",
       "      <td>NaN</td>\n",
       "      <td>KZ</td>\n",
       "      <td>0</td>\n",
       "      <td>0</td>\n",
       "      <td>0</td>\n",
       "      <td>0</td>\n",
       "      <td>1</td>\n",
       "    </tr>\n",
       "    <tr>\n",
       "      <th>7080</th>\n",
       "      <td>2008</td>\n",
       "      <td>Case Management</td>\n",
       "      <td>Male</td>\n",
       "      <td>30--38</td>\n",
       "      <td>Adult</td>\n",
       "      <td>Adult</td>\n",
       "      <td>Adult</td>\n",
       "      <td>KG</td>\n",
       "      <td>&lt;NA&gt;</td>\n",
       "      <td>1</td>\n",
       "      <td>...</td>\n",
       "      <td>&lt;NA&gt;</td>\n",
       "      <td>NaN</td>\n",
       "      <td>0</td>\n",
       "      <td>NaN</td>\n",
       "      <td>KZ</td>\n",
       "      <td>0</td>\n",
       "      <td>0</td>\n",
       "      <td>0</td>\n",
       "      <td>0</td>\n",
       "      <td>1</td>\n",
       "    </tr>\n",
       "    <tr>\n",
       "      <th>7081</th>\n",
       "      <td>2008</td>\n",
       "      <td>Case Management</td>\n",
       "      <td>Male</td>\n",
       "      <td>30--38</td>\n",
       "      <td>Adult</td>\n",
       "      <td>Adult</td>\n",
       "      <td>Adult</td>\n",
       "      <td>KG</td>\n",
       "      <td>0</td>\n",
       "      <td>1</td>\n",
       "      <td>...</td>\n",
       "      <td>&lt;NA&gt;</td>\n",
       "      <td>NaN</td>\n",
       "      <td>0</td>\n",
       "      <td>NaN</td>\n",
       "      <td>KZ</td>\n",
       "      <td>0</td>\n",
       "      <td>0</td>\n",
       "      <td>0</td>\n",
       "      <td>0</td>\n",
       "      <td>1</td>\n",
       "    </tr>\n",
       "    <tr>\n",
       "      <th>7335</th>\n",
       "      <td>2009</td>\n",
       "      <td>Case Management</td>\n",
       "      <td>Female</td>\n",
       "      <td>18--20</td>\n",
       "      <td>Adult</td>\n",
       "      <td>Adult</td>\n",
       "      <td>Adult</td>\n",
       "      <td>UA</td>\n",
       "      <td>1</td>\n",
       "      <td>1</td>\n",
       "      <td>...</td>\n",
       "      <td>&lt;NA&gt;</td>\n",
       "      <td>NaN</td>\n",
       "      <td>0</td>\n",
       "      <td>NaN</td>\n",
       "      <td>NaN</td>\n",
       "      <td>0</td>\n",
       "      <td>0</td>\n",
       "      <td>0</td>\n",
       "      <td>0</td>\n",
       "      <td>1</td>\n",
       "    </tr>\n",
       "    <tr>\n",
       "      <th>7342</th>\n",
       "      <td>2009</td>\n",
       "      <td>Case Management</td>\n",
       "      <td>Female</td>\n",
       "      <td>18--20</td>\n",
       "      <td>Adult</td>\n",
       "      <td>Adult</td>\n",
       "      <td>Adult</td>\n",
       "      <td>UA</td>\n",
       "      <td>1</td>\n",
       "      <td>1</td>\n",
       "      <td>...</td>\n",
       "      <td>&lt;NA&gt;</td>\n",
       "      <td>NaN</td>\n",
       "      <td>0</td>\n",
       "      <td>NaN</td>\n",
       "      <td>NaN</td>\n",
       "      <td>0</td>\n",
       "      <td>0</td>\n",
       "      <td>0</td>\n",
       "      <td>0</td>\n",
       "      <td>1</td>\n",
       "    </tr>\n",
       "    <tr>\n",
       "      <th>7582</th>\n",
       "      <td>2009</td>\n",
       "      <td>Case Management</td>\n",
       "      <td>Female</td>\n",
       "      <td>24--26</td>\n",
       "      <td>Adult</td>\n",
       "      <td>Adult</td>\n",
       "      <td>Adult</td>\n",
       "      <td>UA</td>\n",
       "      <td>1</td>\n",
       "      <td>1</td>\n",
       "      <td>...</td>\n",
       "      <td>&lt;NA&gt;</td>\n",
       "      <td>NaN</td>\n",
       "      <td>0</td>\n",
       "      <td>NaN</td>\n",
       "      <td>NaN</td>\n",
       "      <td>0</td>\n",
       "      <td>0</td>\n",
       "      <td>0</td>\n",
       "      <td>0</td>\n",
       "      <td>1</td>\n",
       "    </tr>\n",
       "    <tr>\n",
       "      <th>7590</th>\n",
       "      <td>2009</td>\n",
       "      <td>Case Management</td>\n",
       "      <td>Female</td>\n",
       "      <td>24--26</td>\n",
       "      <td>Adult</td>\n",
       "      <td>Adult</td>\n",
       "      <td>Adult</td>\n",
       "      <td>UA</td>\n",
       "      <td>1</td>\n",
       "      <td>1</td>\n",
       "      <td>...</td>\n",
       "      <td>&lt;NA&gt;</td>\n",
       "      <td>NaN</td>\n",
       "      <td>0</td>\n",
       "      <td>NaN</td>\n",
       "      <td>NaN</td>\n",
       "      <td>0</td>\n",
       "      <td>0</td>\n",
       "      <td>0</td>\n",
       "      <td>0</td>\n",
       "      <td>1</td>\n",
       "    </tr>\n",
       "    <tr>\n",
       "      <th>7591</th>\n",
       "      <td>2009</td>\n",
       "      <td>Case Management</td>\n",
       "      <td>Female</td>\n",
       "      <td>24--26</td>\n",
       "      <td>Adult</td>\n",
       "      <td>Adult</td>\n",
       "      <td>Adult</td>\n",
       "      <td>UA</td>\n",
       "      <td>1</td>\n",
       "      <td>1</td>\n",
       "      <td>...</td>\n",
       "      <td>&lt;NA&gt;</td>\n",
       "      <td>NaN</td>\n",
       "      <td>0</td>\n",
       "      <td>NaN</td>\n",
       "      <td>NaN</td>\n",
       "      <td>0</td>\n",
       "      <td>0</td>\n",
       "      <td>0</td>\n",
       "      <td>0</td>\n",
       "      <td>1</td>\n",
       "    </tr>\n",
       "    <tr>\n",
       "      <th>7671</th>\n",
       "      <td>2009</td>\n",
       "      <td>Case Management</td>\n",
       "      <td>Female</td>\n",
       "      <td>27--29</td>\n",
       "      <td>Adult</td>\n",
       "      <td>Adult</td>\n",
       "      <td>Adult</td>\n",
       "      <td>UA</td>\n",
       "      <td>1</td>\n",
       "      <td>1</td>\n",
       "      <td>...</td>\n",
       "      <td>&lt;NA&gt;</td>\n",
       "      <td>NaN</td>\n",
       "      <td>0</td>\n",
       "      <td>NaN</td>\n",
       "      <td>NaN</td>\n",
       "      <td>0</td>\n",
       "      <td>0</td>\n",
       "      <td>0</td>\n",
       "      <td>0</td>\n",
       "      <td>1</td>\n",
       "    </tr>\n",
       "    <tr>\n",
       "      <th>8450</th>\n",
       "      <td>2010</td>\n",
       "      <td>Case Management</td>\n",
       "      <td>Female</td>\n",
       "      <td>21--23</td>\n",
       "      <td>Adult</td>\n",
       "      <td>Adult</td>\n",
       "      <td>Adult</td>\n",
       "      <td>UA</td>\n",
       "      <td>1</td>\n",
       "      <td>1</td>\n",
       "      <td>...</td>\n",
       "      <td>&lt;NA&gt;</td>\n",
       "      <td>NaN</td>\n",
       "      <td>0</td>\n",
       "      <td>NaN</td>\n",
       "      <td>NaN</td>\n",
       "      <td>0</td>\n",
       "      <td>0</td>\n",
       "      <td>0</td>\n",
       "      <td>0</td>\n",
       "      <td>1</td>\n",
       "    </tr>\n",
       "    <tr>\n",
       "      <th>8553</th>\n",
       "      <td>2010</td>\n",
       "      <td>Case Management</td>\n",
       "      <td>Female</td>\n",
       "      <td>24--26</td>\n",
       "      <td>Adult</td>\n",
       "      <td>Adult</td>\n",
       "      <td>Adult</td>\n",
       "      <td>UA</td>\n",
       "      <td>1</td>\n",
       "      <td>1</td>\n",
       "      <td>...</td>\n",
       "      <td>&lt;NA&gt;</td>\n",
       "      <td>NaN</td>\n",
       "      <td>0</td>\n",
       "      <td>NaN</td>\n",
       "      <td>NaN</td>\n",
       "      <td>0</td>\n",
       "      <td>0</td>\n",
       "      <td>0</td>\n",
       "      <td>0</td>\n",
       "      <td>1</td>\n",
       "    </tr>\n",
       "    <tr>\n",
       "      <th>8554</th>\n",
       "      <td>2010</td>\n",
       "      <td>Case Management</td>\n",
       "      <td>Female</td>\n",
       "      <td>24--26</td>\n",
       "      <td>Adult</td>\n",
       "      <td>Adult</td>\n",
       "      <td>Adult</td>\n",
       "      <td>UA</td>\n",
       "      <td>1</td>\n",
       "      <td>1</td>\n",
       "      <td>...</td>\n",
       "      <td>&lt;NA&gt;</td>\n",
       "      <td>NaN</td>\n",
       "      <td>0</td>\n",
       "      <td>NaN</td>\n",
       "      <td>NaN</td>\n",
       "      <td>0</td>\n",
       "      <td>0</td>\n",
       "      <td>0</td>\n",
       "      <td>0</td>\n",
       "      <td>1</td>\n",
       "    </tr>\n",
       "    <tr>\n",
       "      <th>8620</th>\n",
       "      <td>2010</td>\n",
       "      <td>Case Management</td>\n",
       "      <td>Female</td>\n",
       "      <td>27--29</td>\n",
       "      <td>Adult</td>\n",
       "      <td>Adult</td>\n",
       "      <td>Adult</td>\n",
       "      <td>UA</td>\n",
       "      <td>1</td>\n",
       "      <td>1</td>\n",
       "      <td>...</td>\n",
       "      <td>&lt;NA&gt;</td>\n",
       "      <td>NaN</td>\n",
       "      <td>0</td>\n",
       "      <td>NaN</td>\n",
       "      <td>NaN</td>\n",
       "      <td>0</td>\n",
       "      <td>0</td>\n",
       "      <td>0</td>\n",
       "      <td>0</td>\n",
       "      <td>1</td>\n",
       "    </tr>\n",
       "  </tbody>\n",
       "</table>\n",
       "<p>15 rows × 63 columns</p>\n",
       "</div>"
      ],
      "text/plain": [
       "      yearOfRegistration       Datasource  gender ageBroad majorityStatus  \\\n",
       "7077                2008  Case Management    Male   30--38          Adult   \n",
       "7078                2008  Case Management    Male   30--38          Adult   \n",
       "7079                2008  Case Management    Male   30--38          Adult   \n",
       "7080                2008  Case Management    Male   30--38          Adult   \n",
       "7081                2008  Case Management    Male   30--38          Adult   \n",
       "7335                2009  Case Management  Female   18--20          Adult   \n",
       "7342                2009  Case Management  Female   18--20          Adult   \n",
       "7582                2009  Case Management  Female   24--26          Adult   \n",
       "7590                2009  Case Management  Female   24--26          Adult   \n",
       "7591                2009  Case Management  Female   24--26          Adult   \n",
       "7671                2009  Case Management  Female   27--29          Adult   \n",
       "8450                2010  Case Management  Female   21--23          Adult   \n",
       "8553                2010  Case Management  Female   24--26          Adult   \n",
       "8554                2010  Case Management  Female   24--26          Adult   \n",
       "8620                2010  Case Management  Female   27--29          Adult   \n",
       "\n",
       "     majorityStatusAtExploit majorityEntry citizenship  \\\n",
       "7077                   Adult         Adult          KG   \n",
       "7078                   Adult         Adult          KG   \n",
       "7079                   Adult         Adult          KG   \n",
       "7080                   Adult         Adult          KG   \n",
       "7081                   Adult         Adult          KG   \n",
       "7335                   Adult         Adult          UA   \n",
       "7342                   Adult         Adult          UA   \n",
       "7582                   Adult         Adult          UA   \n",
       "7590                   Adult         Adult          UA   \n",
       "7591                   Adult         Adult          UA   \n",
       "7671                   Adult         Adult          UA   \n",
       "8450                   Adult         Adult          UA   \n",
       "8553                   Adult         Adult          UA   \n",
       "8554                   Adult         Adult          UA   \n",
       "8620                   Adult         Adult          UA   \n",
       "\n",
       "      meansOfControlDebtBondage  meansOfControlTakesEarnings  ...  \\\n",
       "7077                          0                            1  ...   \n",
       "7078                       <NA>                            1  ...   \n",
       "7079                          1                            1  ...   \n",
       "7080                       <NA>                            1  ...   \n",
       "7081                          0                            1  ...   \n",
       "7335                          1                            1  ...   \n",
       "7342                          1                            1  ...   \n",
       "7582                          1                            1  ...   \n",
       "7590                          1                            1  ...   \n",
       "7591                          1                            1  ...   \n",
       "7671                          1                            1  ...   \n",
       "8450                          1                            1  ...   \n",
       "8553                          1                            1  ...   \n",
       "8554                          1                            1  ...   \n",
       "8620                          1                            1  ...   \n",
       "\n",
       "      typeOfSexPrivateSexualServices  typeOfSexConcatenated  isAbduction  \\\n",
       "7077                            <NA>                    NaN            0   \n",
       "7078                            <NA>                    NaN            0   \n",
       "7079                            <NA>                    NaN            0   \n",
       "7080                            <NA>                    NaN            0   \n",
       "7081                            <NA>                    NaN            0   \n",
       "7335                            <NA>                    NaN            0   \n",
       "7342                            <NA>                    NaN            0   \n",
       "7582                            <NA>                    NaN            0   \n",
       "7590                            <NA>                    NaN            0   \n",
       "7591                            <NA>                    NaN            0   \n",
       "7671                            <NA>                    NaN            0   \n",
       "8450                            <NA>                    NaN            0   \n",
       "8553                            <NA>                    NaN            0   \n",
       "8554                            <NA>                    NaN            0   \n",
       "8620                            <NA>                    NaN            0   \n",
       "\n",
       "      RecruiterRelationship  CountryOfExploitation  \\\n",
       "7077                    NaN                     KZ   \n",
       "7078                    NaN                     KZ   \n",
       "7079                    NaN                     KZ   \n",
       "7080                    NaN                     KZ   \n",
       "7081                    NaN                     KZ   \n",
       "7335                    NaN                    NaN   \n",
       "7342                    NaN                    NaN   \n",
       "7582                    NaN                    NaN   \n",
       "7590                    NaN                    NaN   \n",
       "7591                    NaN                    NaN   \n",
       "7671                    NaN                    NaN   \n",
       "8450                    NaN                    NaN   \n",
       "8553                    NaN                    NaN   \n",
       "8554                    NaN                    NaN   \n",
       "8620                    NaN                    NaN   \n",
       "\n",
       "      recruiterRelationIntimatePartner  recruiterRelationFriend  \\\n",
       "7077                                 0                        0   \n",
       "7078                                 0                        0   \n",
       "7079                                 0                        0   \n",
       "7080                                 0                        0   \n",
       "7081                                 0                        0   \n",
       "7335                                 0                        0   \n",
       "7342                                 0                        0   \n",
       "7582                                 0                        0   \n",
       "7590                                 0                        0   \n",
       "7591                                 0                        0   \n",
       "7671                                 0                        0   \n",
       "8450                                 0                        0   \n",
       "8553                                 0                        0   \n",
       "8554                                 0                        0   \n",
       "8620                                 0                        0   \n",
       "\n",
       "      recruiterRelationFamily  recruiterRelationOther  \\\n",
       "7077                        0                       0   \n",
       "7078                        0                       0   \n",
       "7079                        0                       0   \n",
       "7080                        0                       0   \n",
       "7081                        0                       0   \n",
       "7335                        0                       0   \n",
       "7342                        0                       0   \n",
       "7582                        0                       0   \n",
       "7590                        0                       0   \n",
       "7591                        0                       0   \n",
       "7671                        0                       0   \n",
       "8450                        0                       0   \n",
       "8553                        0                       0   \n",
       "8554                        0                       0   \n",
       "8620                        0                       0   \n",
       "\n",
       "      recruiterRelationUnknown  \n",
       "7077                         1  \n",
       "7078                         1  \n",
       "7079                         1  \n",
       "7080                         1  \n",
       "7081                         1  \n",
       "7335                         1  \n",
       "7342                         1  \n",
       "7582                         1  \n",
       "7590                         1  \n",
       "7591                         1  \n",
       "7671                         1  \n",
       "8450                         1  \n",
       "8553                         1  \n",
       "8554                         1  \n",
       "8620                         1  \n",
       "\n",
       "[15 rows x 63 columns]"
      ]
     },
     "execution_count": 51,
     "metadata": {},
     "output_type": "execute_result"
    }
   ],
   "source": [
    "raw_data.iloc[count_totals.index[count_totals[\"meansOfControlCount\"] == 14]]"
   ]
  },
  {
   "cell_type": "code",
   "execution_count": 23,
   "metadata": {},
   "outputs": [
    {
     "data": {
      "image/png": "[encoded data removed]",
      "text/plain": [
       "<Figure size 640x480 with 1 Axes>"
      ]
     },
     "metadata": {},
     "output_type": "display_data"
    }
   ],
   "source": [
    "axis = count_totals.plot.kde()"
   ]
  },
  {
   "cell_type": "code",
   "execution_count": 56,
   "metadata": {},
   "outputs": [
    {
     "name": "stdout",
     "output_type": "stream",
     "text": [
      "<class 'pandas.core.frame.DataFrame'>\n",
      "RangeIndex: 97750 entries, 0 to 97749\n",
      "Data columns (total 63 columns):\n",
      " #   Column                                  Non-Null Count  Dtype   \n",
      "---  ------                                  --------------  -----   \n",
      " 0   yearOfRegistration                      95739 non-null  Int32   \n",
      " 1   Datasource                              97750 non-null  category\n",
      " 2   gender                                  89612 non-null  category\n",
      " 3   ageBroad                                50967 non-null  category\n",
      " 4   majorityStatus                          71246 non-null  category\n",
      " 5   majorityStatusAtExploit                 21286 non-null  category\n",
      " 6   majorityEntry                           7252 non-null   category\n",
      " 7   citizenship                             53290 non-null  object  \n",
      " 8   meansOfControlDebtBondage               8235 non-null   Int32   \n",
      " 9   meansOfControlTakesEarnings             11438 non-null  Int32   \n",
      " 10  meansOfControlRestrictsFinancialAccess  4331 non-null   Int32   \n",
      " 11  meansOfControlThreats                   15527 non-null  Int32   \n",
      " 12  meansOfControlPsychologicalAbuse        14736 non-null  Int32   \n",
      " 13  meansOfControlPhysicalAbuse             11933 non-null  Int32   \n",
      " 14  meansOfControlSexualAbuse               9013 non-null   Int32   \n",
      " 15  meansOfControlFalsePromises             8124 non-null   Int32   \n",
      " 16  meansOfControlPsychoactiveSubstances    10972 non-null  Int32   \n",
      " 17  meansOfControlRestrictsMovement         14113 non-null  Int32   \n",
      " 18  meansOfControlRestrictsMedicalCare      5971 non-null   Int32   \n",
      " 19  meansOfControlExcessiveWorkingHours     8629 non-null   Int32   \n",
      " 20  meansOfControlUsesChildren              3909 non-null   Int32   \n",
      " 21  meansOfControlThreatOfLawEnforcement    8923 non-null   Int32   \n",
      " 22  meansOfControlWithholdsNecessities      8886 non-null   Int32   \n",
      " 23  meansOfControlWithholdsDocuments        8284 non-null   Int32   \n",
      " 24  meansOfControlOther                     11604 non-null  Int32   \n",
      " 25  meansOfControlNotSpecified              83783 non-null  Int32   \n",
      " 26  meansOfControlConcatenated              58315 non-null  object  \n",
      " 27  isForcedLabour                          65647 non-null  Int32   \n",
      " 28  isSexualExploit                         65401 non-null  Int32   \n",
      " 29  isOtherExploit                          73421 non-null  Int32   \n",
      " 30  isSexAndLabour                          62568 non-null  Int32   \n",
      " 31  isForcedMarriage                        13504 non-null  Int32   \n",
      " 32  isForcedMilitary                        13836 non-null  Int32   \n",
      " 33  isOrganRemoval                          13836 non-null  Int32   \n",
      " 34  isSlaveryAndPractices                   8876 non-null   Int32   \n",
      " 35  typeOfExploitConcatenated               66289 non-null  object  \n",
      " 36  typeOfLabourAgriculture                 61606 non-null  Int32   \n",
      " 37  typeOfLabourAquafarming                 61577 non-null  Int32   \n",
      " 38  typeOfLabourBegging                     61564 non-null  Int32   \n",
      " 39  typeOfLabourConstruction                61886 non-null  Int32   \n",
      " 40  typeOfLabourDomesticWork                63695 non-null  Int32   \n",
      " 41  typeOfLabourHospitality                 62718 non-null  Int32   \n",
      " 42  typeOfLabourIllicitActivities           61486 non-null  Int32   \n",
      " 43  typeOfLabourManufacturing               61676 non-null  Int32   \n",
      " 44  typeOfLabourMiningOrDrilling            61564 non-null  Int32   \n",
      " 45  typeOfLabourPeddling                    61486 non-null  Int32   \n",
      " 46  typeOfLabourTransportation              61564 non-null  Int32   \n",
      " 47  typeOfLabourOther                       62725 non-null  Int32   \n",
      " 48  typeOfLabourNotSpecified                63216 non-null  Int32   \n",
      " 49  typeOfLabourConcatenated                16613 non-null  object  \n",
      " 50  typeOfSexProstitution                   39662 non-null  Int32   \n",
      " 51  typeOfSexPornography                    30732 non-null  Int32   \n",
      " 52  typeOfSexRemoteInteractiveServices      30732 non-null  Int32   \n",
      " 53  typeOfSexPrivateSexualServices          29167 non-null  Int32   \n",
      " 54  typeOfSexConcatenated                   15758 non-null  object  \n",
      " 55  isAbduction                             30422 non-null  Int32   \n",
      " 56  RecruiterRelationship                   59185 non-null  object  \n",
      " 57  CountryOfExploitation                   73492 non-null  object  \n",
      " 58  recruiterRelationIntimatePartner        57963 non-null  Int32   \n",
      " 59  recruiterRelationFriend                 57963 non-null  Int32   \n",
      " 60  recruiterRelationFamily                 57963 non-null  Int32   \n",
      " 61  recruiterRelationOther                  57963 non-null  Int32   \n",
      " 62  recruiterRelationUnknown                97514 non-null  Int32   \n",
      "dtypes: Int32(50), category(6), object(7)\n",
      "memory usage: 29.1+ MB\n"
     ]
    }
   ],
   "source": [
    "raw_data.astype)"
   ]
  },
  {
   "cell_type": "code",
   "execution_count": 28,
   "metadata": {},
   "outputs": [
    {
     "name": "stderr",
     "output_type": "stream",
     "text": [
      "C:\\Users\\Home\\AppData\\Local\\Packages\\PythonSoftwareFoundation.Python.3.11_qbz5n2kfra8p0\\LocalCache\\local-packages\\Python311\\site-packages\\seaborn\\axisgrid.py:118: UserWarning: The figure layout has changed to tight\n",
      "  self._figure.tight_layout(*args, **kwargs)\n"
     ]
    },
    {
     "data": {
      "image/png": "[encoded data removed]",
      "text/plain": [
       "<Figure size 1499.25x1250 with 30 Axes>"
      ]
     },
     "metadata": {},
     "output_type": "display_data"
    }
   ],
   "source": [
    "\n",
    "test = pd.concat([count_totals, raw_data.select_dtypes('category')], axis=1)\n",
    "test['gender']\n",
    "g = sns.pairplot(test, hue='gender')"
   ]
  },
  {
   "cell_type": "markdown",
   "metadata": {},
   "source": [
    "### Other thing"
   ]
  },
  {
   "cell_type": "code",
   "execution_count": 29,
   "metadata": {},
   "outputs": [
    {
     "data": {
      "text/plain": [
       "0         -1\n",
       "1         -1\n",
       "2         -1\n",
       "3         -1\n",
       "4         -1\n",
       "        ... \n",
       "97745    434\n",
       "97746    434\n",
       "97747    434\n",
       "97748    434\n",
       "97749    434\n",
       "Name: CountryOfExploitation, Length: 97750, dtype: object"
      ]
     },
     "execution_count": 29,
     "metadata": {},
     "output_type": "execute_result"
    }
   ],
   "source": [
    "# Change categorical data type from string to encoder number\n",
    "raw_data['citizenship'].map(country_code).head()\n",
    "raw_data['CountryOfExploitation'].map(country_code)"
   ]
  },
  {
   "cell_type": "code",
   "execution_count": 31,
   "metadata": {},
   "outputs": [
    {
     "data": {
      "text/html": [
       "<div>\n",
       "<style scoped>\n",
       "    .dataframe tbody tr th:only-of-type {\n",
       "        vertical-align: middle;\n",
       "    }\n",
       "\n",
       "    .dataframe tbody tr th {\n",
       "        vertical-align: top;\n",
       "    }\n",
       "\n",
       "    .dataframe thead th {\n",
       "        text-align: right;\n",
       "    }\n",
       "</style>\n",
       "<table border=\"1\" class=\"dataframe\">\n",
       "  <thead>\n",
       "    <tr style=\"text-align: right;\">\n",
       "      <th></th>\n",
       "      <th>yearOfRegistration</th>\n",
       "      <th>Datasource</th>\n",
       "      <th>gender</th>\n",
       "      <th>ageBroad</th>\n",
       "      <th>majorityStatus</th>\n",
       "      <th>majorityStatusAtExploit</th>\n",
       "      <th>majorityEntry</th>\n",
       "      <th>citizenship</th>\n",
       "      <th>meansOfControlDebtBondage</th>\n",
       "      <th>meansOfControlTakesEarnings</th>\n",
       "      <th>...</th>\n",
       "      <th>meansOfControlRestrictsMovement</th>\n",
       "      <th>meansOfControlRestrictsMedicalCare</th>\n",
       "      <th>meansOfControlExcessiveWorkingHours</th>\n",
       "      <th>meansOfControlUsesChildren</th>\n",
       "      <th>meansOfControlThreatOfLawEnforcement</th>\n",
       "      <th>meansOfControlWithholdsNecessities</th>\n",
       "      <th>meansOfControlWithholdsDocuments</th>\n",
       "      <th>meansOfControlOther</th>\n",
       "      <th>meansOfControlNotSpecified</th>\n",
       "      <th>meansOfControlConcatenated</th>\n",
       "    </tr>\n",
       "  </thead>\n",
       "  <tbody>\n",
       "    <tr>\n",
       "      <th>0</th>\n",
       "      <td>2002</td>\n",
       "      <td>Case Management</td>\n",
       "      <td>Female</td>\n",
       "      <td>18--20</td>\n",
       "      <td>Adult</td>\n",
       "      <td>NaN</td>\n",
       "      <td>NaN</td>\n",
       "      <td>CO</td>\n",
       "      <td>&lt;NA&gt;</td>\n",
       "      <td>&lt;NA&gt;</td>\n",
       "      <td>...</td>\n",
       "      <td>&lt;NA&gt;</td>\n",
       "      <td>&lt;NA&gt;</td>\n",
       "      <td>&lt;NA&gt;</td>\n",
       "      <td>&lt;NA&gt;</td>\n",
       "      <td>&lt;NA&gt;</td>\n",
       "      <td>&lt;NA&gt;</td>\n",
       "      <td>&lt;NA&gt;</td>\n",
       "      <td>&lt;NA&gt;</td>\n",
       "      <td>1</td>\n",
       "      <td>NaN</td>\n",
       "    </tr>\n",
       "    <tr>\n",
       "      <th>1</th>\n",
       "      <td>2002</td>\n",
       "      <td>Case Management</td>\n",
       "      <td>Female</td>\n",
       "      <td>18--20</td>\n",
       "      <td>Adult</td>\n",
       "      <td>NaN</td>\n",
       "      <td>NaN</td>\n",
       "      <td>CO</td>\n",
       "      <td>&lt;NA&gt;</td>\n",
       "      <td>&lt;NA&gt;</td>\n",
       "      <td>...</td>\n",
       "      <td>&lt;NA&gt;</td>\n",
       "      <td>&lt;NA&gt;</td>\n",
       "      <td>&lt;NA&gt;</td>\n",
       "      <td>&lt;NA&gt;</td>\n",
       "      <td>&lt;NA&gt;</td>\n",
       "      <td>&lt;NA&gt;</td>\n",
       "      <td>&lt;NA&gt;</td>\n",
       "      <td>&lt;NA&gt;</td>\n",
       "      <td>1</td>\n",
       "      <td>NaN</td>\n",
       "    </tr>\n",
       "    <tr>\n",
       "      <th>2</th>\n",
       "      <td>2002</td>\n",
       "      <td>Case Management</td>\n",
       "      <td>Female</td>\n",
       "      <td>18--20</td>\n",
       "      <td>Adult</td>\n",
       "      <td>NaN</td>\n",
       "      <td>NaN</td>\n",
       "      <td>CO</td>\n",
       "      <td>&lt;NA&gt;</td>\n",
       "      <td>&lt;NA&gt;</td>\n",
       "      <td>...</td>\n",
       "      <td>&lt;NA&gt;</td>\n",
       "      <td>&lt;NA&gt;</td>\n",
       "      <td>&lt;NA&gt;</td>\n",
       "      <td>&lt;NA&gt;</td>\n",
       "      <td>&lt;NA&gt;</td>\n",
       "      <td>&lt;NA&gt;</td>\n",
       "      <td>&lt;NA&gt;</td>\n",
       "      <td>&lt;NA&gt;</td>\n",
       "      <td>1</td>\n",
       "      <td>NaN</td>\n",
       "    </tr>\n",
       "    <tr>\n",
       "      <th>3</th>\n",
       "      <td>2002</td>\n",
       "      <td>Case Management</td>\n",
       "      <td>Female</td>\n",
       "      <td>18--20</td>\n",
       "      <td>Adult</td>\n",
       "      <td>NaN</td>\n",
       "      <td>NaN</td>\n",
       "      <td>CO</td>\n",
       "      <td>&lt;NA&gt;</td>\n",
       "      <td>&lt;NA&gt;</td>\n",
       "      <td>...</td>\n",
       "      <td>&lt;NA&gt;</td>\n",
       "      <td>&lt;NA&gt;</td>\n",
       "      <td>&lt;NA&gt;</td>\n",
       "      <td>&lt;NA&gt;</td>\n",
       "      <td>&lt;NA&gt;</td>\n",
       "      <td>&lt;NA&gt;</td>\n",
       "      <td>&lt;NA&gt;</td>\n",
       "      <td>&lt;NA&gt;</td>\n",
       "      <td>1</td>\n",
       "      <td>NaN</td>\n",
       "    </tr>\n",
       "    <tr>\n",
       "      <th>4</th>\n",
       "      <td>2002</td>\n",
       "      <td>Case Management</td>\n",
       "      <td>Female</td>\n",
       "      <td>18--20</td>\n",
       "      <td>Adult</td>\n",
       "      <td>NaN</td>\n",
       "      <td>NaN</td>\n",
       "      <td>CO</td>\n",
       "      <td>&lt;NA&gt;</td>\n",
       "      <td>&lt;NA&gt;</td>\n",
       "      <td>...</td>\n",
       "      <td>&lt;NA&gt;</td>\n",
       "      <td>&lt;NA&gt;</td>\n",
       "      <td>&lt;NA&gt;</td>\n",
       "      <td>&lt;NA&gt;</td>\n",
       "      <td>&lt;NA&gt;</td>\n",
       "      <td>&lt;NA&gt;</td>\n",
       "      <td>&lt;NA&gt;</td>\n",
       "      <td>&lt;NA&gt;</td>\n",
       "      <td>1</td>\n",
       "      <td>NaN</td>\n",
       "    </tr>\n",
       "  </tbody>\n",
       "</table>\n",
       "<p>5 rows × 27 columns</p>\n",
       "</div>"
      ],
      "text/plain": [
       "   yearOfRegistration       Datasource  gender ageBroad majorityStatus  \\\n",
       "0                2002  Case Management  Female   18--20          Adult   \n",
       "1                2002  Case Management  Female   18--20          Adult   \n",
       "2                2002  Case Management  Female   18--20          Adult   \n",
       "3                2002  Case Management  Female   18--20          Adult   \n",
       "4                2002  Case Management  Female   18--20          Adult   \n",
       "\n",
       "  majorityStatusAtExploit majorityEntry citizenship  \\\n",
       "0                     NaN           NaN          CO   \n",
       "1                     NaN           NaN          CO   \n",
       "2                     NaN           NaN          CO   \n",
       "3                     NaN           NaN          CO   \n",
       "4                     NaN           NaN          CO   \n",
       "\n",
       "   meansOfControlDebtBondage  meansOfControlTakesEarnings  ...  \\\n",
       "0                       <NA>                         <NA>  ...   \n",
       "1                       <NA>                         <NA>  ...   \n",
       "2                       <NA>                         <NA>  ...   \n",
       "3                       <NA>                         <NA>  ...   \n",
       "4                       <NA>                         <NA>  ...   \n",
       "\n",
       "   meansOfControlRestrictsMovement  meansOfControlRestrictsMedicalCare  \\\n",
       "0                             <NA>                                <NA>   \n",
       "1                             <NA>                                <NA>   \n",
       "2                             <NA>                                <NA>   \n",
       "3                             <NA>                                <NA>   \n",
       "4                             <NA>                                <NA>   \n",
       "\n",
       "   meansOfControlExcessiveWorkingHours  meansOfControlUsesChildren  \\\n",
       "0                                 <NA>                        <NA>   \n",
       "1                                 <NA>                        <NA>   \n",
       "2                                 <NA>                        <NA>   \n",
       "3                                 <NA>                        <NA>   \n",
       "4                                 <NA>                        <NA>   \n",
       "\n",
       "   meansOfControlThreatOfLawEnforcement  meansOfControlWithholdsNecessities  \\\n",
       "0                                  <NA>                                <NA>   \n",
       "1                                  <NA>                                <NA>   \n",
       "2                                  <NA>                                <NA>   \n",
       "3                                  <NA>                                <NA>   \n",
       "4                                  <NA>                                <NA>   \n",
       "\n",
       "   meansOfControlWithholdsDocuments  meansOfControlOther  \\\n",
       "0                              <NA>                 <NA>   \n",
       "1                              <NA>                 <NA>   \n",
       "2                              <NA>                 <NA>   \n",
       "3                              <NA>                 <NA>   \n",
       "4                              <NA>                 <NA>   \n",
       "\n",
       "   meansOfControlNotSpecified  meansOfControlConcatenated  \n",
       "0                           1                         NaN  \n",
       "1                           1                         NaN  \n",
       "2                           1                         NaN  \n",
       "3                           1                         NaN  \n",
       "4                           1                         NaN  \n",
       "\n",
       "[5 rows x 27 columns]"
      ]
     },
     "execution_count": 31,
     "metadata": {},
     "output_type": "execute_result"
    }
   ],
   "source": [
    "df_partition1 = raw_data[['yearOfRegistration', 'Datasource', 'gender', 'ageBroad',\n",
    "       'majorityStatus', 'majorityStatusAtExploit', 'majorityEntry',\n",
    "       'citizenship', 'meansOfControlDebtBondage',\n",
    "       'meansOfControlTakesEarnings', 'meansOfControlRestrictsFinancialAccess',\n",
    "       'meansOfControlThreats', 'meansOfControlPsychologicalAbuse',\n",
    "       'meansOfControlPhysicalAbuse', 'meansOfControlSexualAbuse',\n",
    "       'meansOfControlFalsePromises', 'meansOfControlPsychoactiveSubstances',\n",
    "       'meansOfControlRestrictsMovement', 'meansOfControlRestrictsMedicalCare',\n",
    "       'meansOfControlExcessiveWorkingHours', 'meansOfControlUsesChildren',\n",
    "       'meansOfControlThreatOfLawEnforcement',\n",
    "       'meansOfControlWithholdsNecessities',\n",
    "       'meansOfControlWithholdsDocuments', 'meansOfControlOther',\n",
    "       'meansOfControlNotSpecified', 'meansOfControlConcatenated']]\n",
    "\n",
    "df_partition1.head()"
   ]
  },
  {
   "cell_type": "code",
   "execution_count": 36,
   "metadata": {},
   "outputs": [
    {
     "data": {
      "text/plain": [
       "(97750, 63)"
      ]
     },
     "execution_count": 36,
     "metadata": {},
     "output_type": "execute_result"
    }
   ],
   "source": [
    "raw_data.shape"
   ]
  },
  {
   "cell_type": "code",
   "execution_count": 38,
   "metadata": {},
   "outputs": [
    {
     "name": "stdout",
     "output_type": "stream",
     "text": [
      "97750\n"
     ]
    }
   ],
   "source": [
    "duplicados = raw_data[raw_data.isna()]\n",
    "\n",
    "print(len(duplicados))"
   ]
  },
  {
   "cell_type": "code",
   "execution_count": 62,
   "metadata": {},
   "outputs": [],
   "source": [
    "test = pd.concat([count_totals, raw_data.select_dtypes('category')], axis=1)"
   ]
  },
  {
   "cell_type": "code",
   "execution_count": 68,
   "metadata": {},
   "outputs": [
    {
     "data": {
      "text/plain": [
       "Index(['meansOfControlCount', 'typeOfExploitCount', 'typeOfLabourCount',\n",
       "       'typeOfSexCount', 'RecruiterRelationshipCount', 'yearOfRegistration',\n",
       "       'Datasource', 'gender', 'ageBroad', 'majorityStatus',\n",
       "       'majorityStatusAtExploit', 'majorityEntry', 'citizenship',\n",
       "       'CountryOfExploitation'],\n",
       "      dtype='object')"
      ]
     },
     "execution_count": 68,
     "metadata": {},
     "output_type": "execute_result"
    }
   ],
   "source": [
    "test.columns"
   ]
  },
  {
   "cell_type": "code",
   "execution_count": 71,
   "metadata": {},
   "outputs": [
    {
     "data": {
      "text/html": [
       "<div>\n",
       "<style scoped>\n",
       "    .dataframe tbody tr th:only-of-type {\n",
       "        vertical-align: middle;\n",
       "    }\n",
       "\n",
       "    .dataframe tbody tr th {\n",
       "        vertical-align: top;\n",
       "    }\n",
       "\n",
       "    .dataframe thead th {\n",
       "        text-align: right;\n",
       "    }\n",
       "</style>\n",
       "<table border=\"1\" class=\"dataframe\">\n",
       "  <thead>\n",
       "    <tr style=\"text-align: right;\">\n",
       "      <th></th>\n",
       "      <th>meansOfControlCount</th>\n",
       "      <th>typeOfExploitCount</th>\n",
       "      <th>typeOfLabourCount</th>\n",
       "      <th>typeOfSexCount</th>\n",
       "      <th>RecruiterRelationshipCount</th>\n",
       "      <th>yearOfRegistration</th>\n",
       "      <th>Datasource</th>\n",
       "      <th>gender</th>\n",
       "      <th>ageBroad</th>\n",
       "      <th>majorityStatus</th>\n",
       "      <th>majorityStatusAtExploit</th>\n",
       "      <th>majorityEntry</th>\n",
       "      <th>citizenship</th>\n",
       "      <th>CountryOfExploitation</th>\n",
       "    </tr>\n",
       "  </thead>\n",
       "  <tbody>\n",
       "    <tr>\n",
       "      <th>11</th>\n",
       "      <td>0</td>\n",
       "      <td>0</td>\n",
       "      <td>0</td>\n",
       "      <td>0</td>\n",
       "      <td>0</td>\n",
       "      <td>2002</td>\n",
       "      <td>Case Management</td>\n",
       "      <td>Female</td>\n",
       "      <td>18--20</td>\n",
       "      <td>Adult</td>\n",
       "      <td>NaN</td>\n",
       "      <td>NaN</td>\n",
       "      <td>MD</td>\n",
       "      <td>NaN</td>\n",
       "    </tr>\n",
       "    <tr>\n",
       "      <th>12</th>\n",
       "      <td>0</td>\n",
       "      <td>0</td>\n",
       "      <td>0</td>\n",
       "      <td>0</td>\n",
       "      <td>0</td>\n",
       "      <td>2002</td>\n",
       "      <td>Case Management</td>\n",
       "      <td>Female</td>\n",
       "      <td>18--20</td>\n",
       "      <td>Adult</td>\n",
       "      <td>NaN</td>\n",
       "      <td>NaN</td>\n",
       "      <td>MD</td>\n",
       "      <td>NaN</td>\n",
       "    </tr>\n",
       "    <tr>\n",
       "      <th>13</th>\n",
       "      <td>0</td>\n",
       "      <td>0</td>\n",
       "      <td>0</td>\n",
       "      <td>0</td>\n",
       "      <td>0</td>\n",
       "      <td>2002</td>\n",
       "      <td>Case Management</td>\n",
       "      <td>Female</td>\n",
       "      <td>18--20</td>\n",
       "      <td>Adult</td>\n",
       "      <td>NaN</td>\n",
       "      <td>NaN</td>\n",
       "      <td>MD</td>\n",
       "      <td>NaN</td>\n",
       "    </tr>\n",
       "    <tr>\n",
       "      <th>14</th>\n",
       "      <td>0</td>\n",
       "      <td>0</td>\n",
       "      <td>0</td>\n",
       "      <td>0</td>\n",
       "      <td>0</td>\n",
       "      <td>2002</td>\n",
       "      <td>Case Management</td>\n",
       "      <td>Female</td>\n",
       "      <td>18--20</td>\n",
       "      <td>Adult</td>\n",
       "      <td>NaN</td>\n",
       "      <td>NaN</td>\n",
       "      <td>MD</td>\n",
       "      <td>NaN</td>\n",
       "    </tr>\n",
       "    <tr>\n",
       "      <th>15</th>\n",
       "      <td>0</td>\n",
       "      <td>0</td>\n",
       "      <td>0</td>\n",
       "      <td>0</td>\n",
       "      <td>0</td>\n",
       "      <td>2002</td>\n",
       "      <td>Case Management</td>\n",
       "      <td>Female</td>\n",
       "      <td>18--20</td>\n",
       "      <td>Adult</td>\n",
       "      <td>NaN</td>\n",
       "      <td>NaN</td>\n",
       "      <td>MD</td>\n",
       "      <td>NaN</td>\n",
       "    </tr>\n",
       "    <tr>\n",
       "      <th>...</th>\n",
       "      <td>...</td>\n",
       "      <td>...</td>\n",
       "      <td>...</td>\n",
       "      <td>...</td>\n",
       "      <td>...</td>\n",
       "      <td>...</td>\n",
       "      <td>...</td>\n",
       "      <td>...</td>\n",
       "      <td>...</td>\n",
       "      <td>...</td>\n",
       "      <td>...</td>\n",
       "      <td>...</td>\n",
       "      <td>...</td>\n",
       "      <td>...</td>\n",
       "    </tr>\n",
       "    <tr>\n",
       "      <th>97745</th>\n",
       "      <td>0</td>\n",
       "      <td>0</td>\n",
       "      <td>0</td>\n",
       "      <td>0</td>\n",
       "      <td>0</td>\n",
       "      <td>NaN</td>\n",
       "      <td>Case Management</td>\n",
       "      <td>Male</td>\n",
       "      <td>9--17</td>\n",
       "      <td>Minor</td>\n",
       "      <td>NaN</td>\n",
       "      <td>NaN</td>\n",
       "      <td>CM</td>\n",
       "      <td>LY</td>\n",
       "    </tr>\n",
       "    <tr>\n",
       "      <th>97746</th>\n",
       "      <td>0</td>\n",
       "      <td>0</td>\n",
       "      <td>0</td>\n",
       "      <td>0</td>\n",
       "      <td>0</td>\n",
       "      <td>NaN</td>\n",
       "      <td>Case Management</td>\n",
       "      <td>Male</td>\n",
       "      <td>9--17</td>\n",
       "      <td>Minor</td>\n",
       "      <td>NaN</td>\n",
       "      <td>NaN</td>\n",
       "      <td>CM</td>\n",
       "      <td>LY</td>\n",
       "    </tr>\n",
       "    <tr>\n",
       "      <th>97747</th>\n",
       "      <td>0</td>\n",
       "      <td>0</td>\n",
       "      <td>0</td>\n",
       "      <td>0</td>\n",
       "      <td>0</td>\n",
       "      <td>NaN</td>\n",
       "      <td>Case Management</td>\n",
       "      <td>Male</td>\n",
       "      <td>9--17</td>\n",
       "      <td>Minor</td>\n",
       "      <td>NaN</td>\n",
       "      <td>NaN</td>\n",
       "      <td>CM</td>\n",
       "      <td>LY</td>\n",
       "    </tr>\n",
       "    <tr>\n",
       "      <th>97748</th>\n",
       "      <td>0</td>\n",
       "      <td>0</td>\n",
       "      <td>0</td>\n",
       "      <td>0</td>\n",
       "      <td>0</td>\n",
       "      <td>NaN</td>\n",
       "      <td>Case Management</td>\n",
       "      <td>Male</td>\n",
       "      <td>9--17</td>\n",
       "      <td>Minor</td>\n",
       "      <td>NaN</td>\n",
       "      <td>NaN</td>\n",
       "      <td>CM</td>\n",
       "      <td>LY</td>\n",
       "    </tr>\n",
       "    <tr>\n",
       "      <th>97749</th>\n",
       "      <td>0</td>\n",
       "      <td>0</td>\n",
       "      <td>0</td>\n",
       "      <td>0</td>\n",
       "      <td>0</td>\n",
       "      <td>NaN</td>\n",
       "      <td>Case Management</td>\n",
       "      <td>Male</td>\n",
       "      <td>9--17</td>\n",
       "      <td>Minor</td>\n",
       "      <td>NaN</td>\n",
       "      <td>NaN</td>\n",
       "      <td>CM</td>\n",
       "      <td>LY</td>\n",
       "    </tr>\n",
       "  </tbody>\n",
       "</table>\n",
       "<p>24234 rows × 14 columns</p>\n",
       "</div>"
      ],
      "text/plain": [
       "       meansOfControlCount  typeOfExploitCount  typeOfLabourCount  \\\n",
       "11                       0                   0                  0   \n",
       "12                       0                   0                  0   \n",
       "13                       0                   0                  0   \n",
       "14                       0                   0                  0   \n",
       "15                       0                   0                  0   \n",
       "...                    ...                 ...                ...   \n",
       "97745                    0                   0                  0   \n",
       "97746                    0                   0                  0   \n",
       "97747                    0                   0                  0   \n",
       "97748                    0                   0                  0   \n",
       "97749                    0                   0                  0   \n",
       "\n",
       "       typeOfSexCount  RecruiterRelationshipCount yearOfRegistration  \\\n",
       "11                  0                           0               2002   \n",
       "12                  0                           0               2002   \n",
       "13                  0                           0               2002   \n",
       "14                  0                           0               2002   \n",
       "15                  0                           0               2002   \n",
       "...               ...                         ...                ...   \n",
       "97745               0                           0                NaN   \n",
       "97746               0                           0                NaN   \n",
       "97747               0                           0                NaN   \n",
       "97748               0                           0                NaN   \n",
       "97749               0                           0                NaN   \n",
       "\n",
       "            Datasource  gender ageBroad majorityStatus  \\\n",
       "11     Case Management  Female   18--20          Adult   \n",
       "12     Case Management  Female   18--20          Adult   \n",
       "13     Case Management  Female   18--20          Adult   \n",
       "14     Case Management  Female   18--20          Adult   \n",
       "15     Case Management  Female   18--20          Adult   \n",
       "...                ...     ...      ...            ...   \n",
       "97745  Case Management    Male    9--17          Minor   \n",
       "97746  Case Management    Male    9--17          Minor   \n",
       "97747  Case Management    Male    9--17          Minor   \n",
       "97748  Case Management    Male    9--17          Minor   \n",
       "97749  Case Management    Male    9--17          Minor   \n",
       "\n",
       "      majorityStatusAtExploit majorityEntry citizenship CountryOfExploitation  \n",
       "11                        NaN           NaN          MD                   NaN  \n",
       "12                        NaN           NaN          MD                   NaN  \n",
       "13                        NaN           NaN          MD                   NaN  \n",
       "14                        NaN           NaN          MD                   NaN  \n",
       "15                        NaN           NaN          MD                   NaN  \n",
       "...                       ...           ...         ...                   ...  \n",
       "97745                     NaN           NaN          CM                    LY  \n",
       "97746                     NaN           NaN          CM                    LY  \n",
       "97747                     NaN           NaN          CM                    LY  \n",
       "97748                     NaN           NaN          CM                    LY  \n",
       "97749                     NaN           NaN          CM                    LY  \n",
       "\n",
       "[24234 rows x 14 columns]"
      ]
     },
     "execution_count": 71,
     "metadata": {},
     "output_type": "execute_result"
    }
   ],
   "source": [
    "test[test[['meansOfControlCount', 'typeOfExploitCount', 'typeOfLabourCount','typeOfSexCount', 'RecruiterRelationshipCount']].sum(axis= 1) == 0]"
   ]
  },
  {
   "cell_type": "code",
   "execution_count": 64,
   "metadata": {},
   "outputs": [
    {
     "ename": "ModuleNotFoundError",
     "evalue": "No module named 'sklearn'",
     "output_type": "error",
     "traceback": [
      "\u001b[1;31m---------------------------------------------------------------------------\u001b[0m",
      "\u001b[1;31mModuleNotFoundError\u001b[0m                       Traceback (most recent call last)",
      "Cell \u001b[1;32mIn[64], line 2\u001b[0m\n\u001b[0;32m      1\u001b[0m \u001b[39mimport\u001b[39;00m \u001b[39mpandas\u001b[39;00m \u001b[39mas\u001b[39;00m \u001b[39mpd\u001b[39;00m\n\u001b[1;32m----> 2\u001b[0m \u001b[39mfrom\u001b[39;00m \u001b[39msklearn\u001b[39;00m\u001b[39m.\u001b[39;00m\u001b[39mcluster\u001b[39;00m \u001b[39mimport\u001b[39;00m KMeans\n\u001b[0;32m      3\u001b[0m \u001b[39mfrom\u001b[39;00m \u001b[39msklearn\u001b[39;00m\u001b[39m.\u001b[39;00m\u001b[39mpreprocessing\u001b[39;00m \u001b[39mimport\u001b[39;00m StandardScaler\n\u001b[0;32m      4\u001b[0m \u001b[39mfrom\u001b[39;00m \u001b[39msklearn\u001b[39;00m\u001b[39m.\u001b[39;00m\u001b[39mpreprocessing\u001b[39;00m \u001b[39mimport\u001b[39;00m LabelEncoder\n",
      "\u001b[1;31mModuleNotFoundError\u001b[0m: No module named 'sklearn'"
     ]
    }
   ],
   "source": [
    "import pandas as pd\n",
    "from sklearn.cluster import KMeans\n",
    "from sklearn.preprocessing import StandardScaler\n",
    "from sklearn.preprocessing import LabelEncoder\n",
    "\n",
    "# Supongamos que tienes un DataFrame llamado 'test' con las columnas mencionadas.\n",
    "# Selecciona las columnas relevantes\n",
    "columns_to_use = ['meansOfControlCount', 'typeOfExploitCount', 'typeOfLabourCount',\n",
    "                  'typeOfSexCount', 'RecruiterRelationshipCount', 'yearOfRegistration']\n",
    "\n",
    "test_selected = test[columns_to_use]\n",
    "\n",
    "# Codifica las variables categóricas si es necesario (por ejemplo, 'gender' y 'citizenship')\n",
    "# Si estas columnas son categóricas, debes codificarlas numéricamente. Aquí, usaremos LabelEncoder\n",
    "label_encoder = LabelEncoder()\n",
    "test_selected['gender'] = label_encoder.fit_transform(test['gender'])\n",
    "test_selected['citizenship'] = label_encoder.fit_transform(test['citizenship'])\n",
    "\n",
    "# Normaliza los datos\n",
    "scaler = StandardScaler()\n",
    "test_normalized = scaler.fit_transform(test_selected)\n",
    "\n",
    "# Determina el número óptimo de clusters (k) usando el método del codo\n",
    "from sklearn.cluster import KMeans\n",
    "import matplotlib.pyplot as plt\n",
    "\n",
    "inertia = []\n",
    "for k in range(1, 11):\n",
    "    kmeans = KMeans(n_clusters=k, random_state=42)\n",
    "    kmeans.fit(test_normalized)\n",
    "    inertia.append(kmeans.inertia_)\n",
    "\n",
    "plt.figure(figsize=(8, 6))\n",
    "plt.plot(range(1, 11), inertia, marker='o')\n",
    "plt.xlabel('Número de Clusters (k)')\n",
    "plt.ylabel('Inercia')\n",
    "plt.title('Método del Codo para Determinar k')\n",
    "plt.show()\n",
    "\n",
    "# Basado en el gráfico anterior, elige un valor óptimo para k (por ejemplo, 3 en este caso)\n",
    "\n",
    "# Aplica K-Means con el número óptimo de clusters\n",
    "k = 3\n",
    "kmeans = KMeans(n_clusters=k, random_state=42)\n",
    "test['cluster'] = kmeans.fit_predict(test_normalized)\n",
    "\n",
    "# Ahora, en el DataFrame 'test', la columna 'cluster' contiene las etiquetas de los clusters asignados a cada fila.\n"
   ]
  },
  {
   "cell_type": "code",
   "execution_count": null,
   "metadata": {},
   "outputs": [],
   "source": []
  }
 ],
 "metadata": {
  "kernelspec": {
   "display_name": "Python 3",
   "language": "python",
   "name": "python3"
  },
  "language_info": {
   "codemirror_mode": {
    "name": "ipython",
    "version": 3
   },
   "file_extension": ".py",
   "mimetype": "text/x-python",
   "name": "python",
   "nbconvert_exporter": "python",
   "pygments_lexer": "ipython3",
   "version": "3.11.5"
  },
  "orig_nbformat": 4
 },
 "nbformat": 4,
 "nbformat_minor": 2
}
