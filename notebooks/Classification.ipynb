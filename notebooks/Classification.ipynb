{
 "cells": [
  {
   "cell_type": "markdown",
   "metadata": {},
   "source": [
    "# Trafficking People Data set\n",
    "Application of data mining process as a final project for *Data mining* course at _Universidad Nacional de Colombia_.</br>\n",
    "Profesor on charge _[ELizabeth León Guzmán](https://github.com/elizleon)_ PH. D. at University of Louisville.\n",
    "\n",
    "Authors of the project\n",
    "* Juan Manuel Correa Lombana\n",
    "* Julio Ernesto Quintero Peña"
   ]
  },
  {
   "cell_type": "markdown",
   "metadata": {},
   "source": [
    "# Classification\n"
   ]
  }
 ],
 "metadata": {
  "language_info": {
   "name": "python"
  }
 },
 "nbformat": 4,
 "nbformat_minor": 2
}
